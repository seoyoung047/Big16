{
 "cells": [
  {
   "attachments": {},
   "cell_type": "markdown",
   "metadata": {},
   "source": [
    "# **20230621**"
   ]
  },
  {
   "attachments": {},
   "cell_type": "markdown",
   "metadata": {},
   "source": [
    "## 18장 시퀀스 배열로 다루는 순환 신경망(RNN) 계열\n",
    "\n",
    "- 시퀀스 배열 = 순서가 있는 배열 = 시계열 데이터(주식, 자연어처리,,,)\n",
    "\n",
    "<br>\n",
    "\n",
    "\n",
    "- 순환 신경망(Recurrent Neural Network, **RNN**)\n",
    "\n",
    "    - cell간의 activation function: sigmoid\n",
    "    \n",
    "    - **기울기 소실**(gradient vanishing) <- sigmoid에 의해 발생\n",
    "\n",
    "    - RNN은 위의 문제 때문에 장기 기억 학습은 힘듬 = 단기만 기억 \n",
    "\n",
    "\n",
    "- **LSTM**(Long Short Term Memory)\n",
    "\n",
    "    - 과거 학습 데이터 소실 문제가 있는 RNN을 보완한 방법 = 장기기억 가능\n",
    "\n",
    "    - activation function: sigmoid와 tanh 둘 다 사용\n",
    "\n",
    "        - sigmoid : 기억 소실용\n",
    "        - tanh : 기억 보존용"
   ]
  },
  {
   "attachments": {},
   "cell_type": "markdown",
   "metadata": {},
   "source": [
    "RNN 방식의 다양한 활용\n",
    "\n",
    "1. 다수 입력 단일 출력 : 문장을 읽고 뜻을 파악할 때 활용(!지도학습!)\n",
    "\n",
    "2. 단일 입력 다수 출력 : 사진의 캡션을 만들 때 활용\n",
    "\n",
    "3. 다수 입력 다수 출력 : 문장을 번역할 때 활용\n",
    "\n",
    "    - seg to seg (시퀀스 to 시퀀스)"
   ]
  },
  {
   "attachments": {},
   "cell_type": "markdown",
   "metadata": {},
   "source": [
    "### 01 LSTM을 이용한 로이터 뉴스 카테고리 분류하기"
   ]
  },
  {
   "cell_type": "code",
   "execution_count": 7,
   "metadata": {},
   "outputs": [],
   "source": [
    "from tensorflow.keras.datasets import reuters\n",
    "from tensorflow.keras.models import Sequential\n",
    "from tensorflow.keras.layers import Dense, LSTM, Embedding\n",
    "from tensorflow.keras.utils import to_categorical\n",
    "from tensorflow.keras.preprocessing import sequence\n",
    "from tensorflow.keras.callbacks import EarlyStopping\n",
    "\n",
    "import numpy as np\n",
    "import matplotlib.pyplot as plt"
   ]
  },
  {
   "cell_type": "code",
   "execution_count": 8,
   "metadata": {},
   "outputs": [],
   "source": [
    "# num_words=1000 : 빈도수가 높은 1000개 단어만 가져오기 = 말뭉치(단어사전)\n",
    "(X_train, y_train), (X_test, y_test) = reuters.load_data(num_words=1000, test_split=0.2)"
   ]
  },
  {
   "cell_type": "code",
   "execution_count": 9,
   "metadata": {},
   "outputs": [
    {
     "name": "stdout",
     "output_type": "stream",
     "text": [
      "46\n",
      "8982 학습용 뉴스 기사\n",
      "2246 테스트용 뉴스 기사\n",
      "[1, 2, 2, 8, 43, 10, 447, 5, 25, 207, 270, 5, 2, 111, 16, 369, 186, 90, 67, 7, 89, 5, 19, 102, 6, 19, 124, 15, 90, 67, 84, 22, 482, 26, 7, 48, 4, 49, 8, 864, 39, 209, 154, 6, 151, 6, 83, 11, 15, 22, 155, 11, 15, 7, 48, 9, 2, 2, 504, 6, 258, 6, 272, 11, 15, 22, 134, 44, 11, 15, 16, 8, 197, 2, 90, 67, 52, 29, 209, 30, 32, 132, 6, 109, 15, 17, 12]\n"
     ]
    }
   ],
   "source": [
    "category = np.max(y_train) + 1\n",
    "print(category)\n",
    "print(len(X_train),'학습용 뉴스 기사')\n",
    "print(len(X_test),'테스트용 뉴스 기사')\n",
    "print(X_train[0])"
   ]
  },
  {
   "cell_type": "code",
   "execution_count": 10,
   "metadata": {},
   "outputs": [],
   "source": [
    "# 단어 수 맞추기 : padding\n",
    "\n",
    "X_train = sequence.pad_sequences(X_train, maxlen=100)\n",
    "X_test = sequence.pad_sequences(X_test, maxlen=100)"
   ]
  },
  {
   "cell_type": "code",
   "execution_count": 11,
   "metadata": {},
   "outputs": [],
   "source": [
    "# 답 원-핫 인코딩 : softmax 와 비교 위함\n",
    "y_train = to_categorical(y_train)\n",
    "y_test = to_categorical(y_test)"
   ]
  },
  {
   "cell_type": "code",
   "execution_count": 12,
   "metadata": {},
   "outputs": [
    {
     "name": "stdout",
     "output_type": "stream",
     "text": [
      "Model: \"sequential\"\n",
      "_________________________________________________________________\n",
      " Layer (type)                Output Shape              Param #   \n",
      "=================================================================\n",
      " embedding (Embedding)       (None, None, 100)         100000    \n",
      "                                                                 \n",
      " lstm (LSTM)                 (None, 100)               80400     \n",
      "                                                                 \n",
      " dense (Dense)               (None, 46)                4646      \n",
      "                                                                 \n",
      "=================================================================\n",
      "Total params: 185,046\n",
      "Trainable params: 185,046\n",
      "Non-trainable params: 0\n",
      "_________________________________________________________________\n"
     ]
    }
   ],
   "source": [
    "model = Sequential()\n",
    "\n",
    "\n",
    "# Embedding(단어사전, 축소)\n",
    "model.add(Embedding(1000,100))\n",
    "\n",
    "# LSTM(패딩된 뉴스 개수(=cell의 개수), activationfunc='tanh')\n",
    "model.add(LSTM(100, activation='tanh'))\n",
    "\n",
    "# 출력층\n",
    "model.add(Dense(46, activation='softmax'))\n",
    "model.summary()"
   ]
  },
  {
   "cell_type": "code",
   "execution_count": 16,
   "metadata": {},
   "outputs": [],
   "source": [
    "model.compile(loss='categorical_crossentropy',optimizer='adam',metrics=['accuracy'])"
   ]
  },
  {
   "cell_type": "code",
   "execution_count": 17,
   "metadata": {},
   "outputs": [],
   "source": [
    "# 모델 저장x, 테스트만 하고 earlystopping\n",
    "early_stopping_callback = EarlyStopping(monitor='val_loss', patience=5)"
   ]
  },
  {
   "cell_type": "code",
   "execution_count": 18,
   "metadata": {},
   "outputs": [
    {
     "name": "stdout",
     "output_type": "stream",
     "text": [
      "Epoch 1/200\n"
     ]
    },
    {
     "name": "stdout",
     "output_type": "stream",
     "text": [
      "450/450 [==============================] - 28s 57ms/step - loss: 2.1818 - accuracy: 0.4477 - val_loss: 1.8658 - val_accuracy: 0.5080\n",
      "Epoch 2/200\n",
      "450/450 [==============================] - 31s 69ms/step - loss: 1.7952 - accuracy: 0.5433 - val_loss: 1.7562 - val_accuracy: 0.5668\n",
      "Epoch 3/200\n",
      "450/450 [==============================] - 33s 72ms/step - loss: 1.6433 - accuracy: 0.5766 - val_loss: 1.6188 - val_accuracy: 0.5984\n",
      "Epoch 4/200\n",
      "450/450 [==============================] - 36s 81ms/step - loss: 1.4784 - accuracy: 0.6256 - val_loss: 1.4652 - val_accuracy: 0.6362\n",
      "Epoch 5/200\n",
      "450/450 [==============================] - 32s 71ms/step - loss: 1.3306 - accuracy: 0.6632 - val_loss: 1.3757 - val_accuracy: 0.6545\n",
      "Epoch 6/200\n",
      "450/450 [==============================] - 34s 76ms/step - loss: 1.2149 - accuracy: 0.6921 - val_loss: 1.3130 - val_accuracy: 0.6638\n",
      "Epoch 7/200\n",
      "450/450 [==============================] - 31s 68ms/step - loss: 1.1174 - accuracy: 0.7180 - val_loss: 1.2183 - val_accuracy: 0.6915\n",
      "Epoch 8/200\n",
      "450/450 [==============================] - 35s 77ms/step - loss: 1.0293 - accuracy: 0.7398 - val_loss: 1.1910 - val_accuracy: 0.7021\n",
      "Epoch 9/200\n",
      "450/450 [==============================] - 33s 74ms/step - loss: 0.9460 - accuracy: 0.7624 - val_loss: 1.1565 - val_accuracy: 0.7097\n",
      "Epoch 10/200\n",
      "450/450 [==============================] - 34s 76ms/step - loss: 0.8734 - accuracy: 0.7811 - val_loss: 1.1473 - val_accuracy: 0.7168\n",
      "Epoch 11/200\n",
      "450/450 [==============================] - 40s 89ms/step - loss: 0.8113 - accuracy: 0.7915 - val_loss: 1.1117 - val_accuracy: 0.7231\n",
      "Epoch 12/200\n",
      "450/450 [==============================] - 36s 80ms/step - loss: 0.7473 - accuracy: 0.8122 - val_loss: 1.1351 - val_accuracy: 0.7213\n",
      "Epoch 13/200\n",
      "450/450 [==============================] - 33s 73ms/step - loss: 0.6927 - accuracy: 0.8236 - val_loss: 1.1630 - val_accuracy: 0.7146\n",
      "Epoch 14/200\n",
      "450/450 [==============================] - 40s 88ms/step - loss: 0.6425 - accuracy: 0.8354 - val_loss: 1.1818 - val_accuracy: 0.7244\n",
      "Epoch 15/200\n",
      "450/450 [==============================] - 39s 86ms/step - loss: 0.5940 - accuracy: 0.8505 - val_loss: 1.1879 - val_accuracy: 0.7150\n",
      "Epoch 16/200\n",
      "450/450 [==============================] - 36s 80ms/step - loss: 0.5438 - accuracy: 0.8633 - val_loss: 1.2328 - val_accuracy: 0.7159\n"
     ]
    }
   ],
   "source": [
    "history = model.fit(X_train, y_train\n",
    "                    ,batch_size=20, epochs=200\n",
    "                    , validation_data=(X_test,y_test)\n",
    "                    , callbacks=[early_stopping_callback])"
   ]
  },
  {
   "cell_type": "code",
   "execution_count": 21,
   "metadata": {},
   "outputs": [
    {
     "name": "stdout",
     "output_type": "stream",
     "text": [
      "71/71 [==============================] - 1s 19ms/step - loss: 1.2328 - accuracy: 0.7159\n",
      "TEST ACCURACY : 0.7159\n"
     ]
    }
   ],
   "source": [
    "print('TEST ACCURACY : %.4f'%(model.evaluate(X_test, y_test)[1]))"
   ]
  },
  {
   "cell_type": "code",
   "execution_count": 22,
   "metadata": {},
   "outputs": [],
   "source": [
    "# 오차 저장\n",
    "y_vloss = history.history['val_loss']\n",
    "y_loss = history.history['loss']"
   ]
  },
  {
   "cell_type": "code",
   "execution_count": 24,
   "metadata": {},
   "outputs": [
    {
     "data": {
      "image/png": "[encoded data removed]",
      "text/plain": [
       "<Figure size 640x480 with 1 Axes>"
      ]
     },
     "metadata": {},
     "output_type": "display_data"
    }
   ],
   "source": [
    "x_len = np.arange(len(y_loss))\n",
    "plt.plot(x_len, y_vloss, marker='.', c='red',label='Testset_loss')\n",
    "plt.plot(x_len, y_loss, marker='.', c='blue',label='Trainset_loss')\n",
    "\n",
    "plt.legend(loc='upper right')\n",
    "plt.grid()\n",
    "plt.xlabel('epoch')\n",
    "plt.ylabel('loss')\n",
    "plt.show()"
   ]
  },
  {
   "attachments": {},
   "cell_type": "markdown",
   "metadata": {},
   "source": [
    "### 02 LSTM과 CNN의 조합을 이용한 영화 리뷰 분류하기\n",
    "\n",
    "- countvecterize 되어있음"
   ]
  },
  {
   "cell_type": "code",
   "execution_count": 36,
   "metadata": {},
   "outputs": [],
   "source": [
    "from tensorflow.keras.models import Sequential\n",
    "from tensorflow.keras.layers import Dense, Dropout, Activation, Embedding, LSTM, Conv1D, MaxPooling1D\n",
    "from tensorflow.keras.datasets import imdb\n",
    "from tensorflow.keras.preprocessing import sequence\n",
    "from tensorflow.keras.callbacks import EarlyStopping\n",
    "\n",
    "\n",
    "import numpy as np\n",
    "import matplotlib.pyplot as plt"
   ]
  },
  {
   "cell_type": "code",
   "execution_count": 37,
   "metadata": {},
   "outputs": [],
   "source": [
    "(X_train, y_train),(X_test, y_test) = imdb.load_data(num_words=5000)"
   ]
  },
  {
   "cell_type": "code",
   "execution_count": 38,
   "metadata": {},
   "outputs": [],
   "source": [
    "X_train = sequence.pad_sequences(X_train, maxlen=500)\n",
    "X_test = sequence.pad_sequences(X_test, maxlen=500)"
   ]
  },
  {
   "cell_type": "code",
   "execution_count": 39,
   "metadata": {},
   "outputs": [
    {
     "name": "stdout",
     "output_type": "stream",
     "text": [
      "Model: \"sequential_2\"\n",
      "_________________________________________________________________\n",
      " Layer (type)                Output Shape              Param #   \n",
      "=================================================================\n",
      " embedding_2 (Embedding)     (None, None, 100)         500000    \n",
      "                                                                 \n",
      " conv1d_1 (Conv1D)           (None, None, 64)          32064     \n",
      "                                                                 \n",
      " max_pooling1d_1 (MaxPooling  (None, None, 64)         0         \n",
      " 1D)                                                             \n",
      "                                                                 \n",
      " lstm_2 (LSTM)               (None, 55)                26400     \n",
      "                                                                 \n",
      " dense_2 (Dense)             (None, 1)                 56        \n",
      "                                                                 \n",
      " activation_1 (Activation)   (None, 1)                 0         \n",
      "                                                                 \n",
      "=================================================================\n",
      "Total params: 558,520\n",
      "Trainable params: 558,520\n",
      "Non-trainable params: 0\n",
      "_________________________________________________________________\n"
     ]
    }
   ],
   "source": [
    "model = Sequential()\n",
    "model.add(Embedding(5000,100))\n",
    "# model.add(Dropout(0.5))     # 50% 버림\n",
    "\n",
    "# 5개 단어씩 특징추출, 1씩 옆으로 이동, => 64개로 분해\n",
    "model.add(Conv1D(64,5,padding='valid',activation='relu',strides=1))\n",
    "\n",
    "# 4개씩 묶어서 그 중 가장 큰 특징만 추출\n",
    "model.add(MaxPooling1D(pool_size=4))\n",
    "\n",
    "# 특징 55개\n",
    "model.add(LSTM(55))\n",
    "\n",
    "# 출력층\n",
    "model.add(Dense(1))\n",
    "model.add(Activation('sigmoid'))\n",
    "\n",
    "model.summary()"
   ]
  },
  {
   "cell_type": "code",
   "execution_count": 40,
   "metadata": {},
   "outputs": [],
   "source": [
    "model.compile(loss='binary_crossentropy',optimizer='adam',metrics=['accuracy'])"
   ]
  },
  {
   "cell_type": "code",
   "execution_count": 41,
   "metadata": {},
   "outputs": [],
   "source": [
    "early_stopping_callback = EarlyStopping(monitor='val_loss',patience=3)"
   ]
  },
  {
   "cell_type": "code",
   "execution_count": 42,
   "metadata": {},
   "outputs": [
    {
     "name": "stdout",
     "output_type": "stream",
     "text": [
      "Epoch 1/100\n"
     ]
    },
    {
     "name": "stdout",
     "output_type": "stream",
     "text": [
      "469/469 [==============================] - 60s 124ms/step - loss: 0.3873 - accuracy: 0.8193 - val_loss: 0.2955 - val_accuracy: 0.8782\n",
      "Epoch 2/100\n",
      "469/469 [==============================] - 78s 167ms/step - loss: 0.2183 - accuracy: 0.9162 - val_loss: 0.2587 - val_accuracy: 0.8939\n",
      "Epoch 3/100\n",
      "469/469 [==============================] - 60s 128ms/step - loss: 0.1468 - accuracy: 0.9486 - val_loss: 0.2861 - val_accuracy: 0.8899\n",
      "Epoch 4/100\n",
      "469/469 [==============================] - 61s 130ms/step - loss: 0.0984 - accuracy: 0.9669 - val_loss: 0.3114 - val_accuracy: 0.8835\n",
      "Epoch 5/100\n",
      "469/469 [==============================] - 61s 130ms/step - loss: 0.0637 - accuracy: 0.9807 - val_loss: 0.3844 - val_accuracy: 0.8840\n"
     ]
    }
   ],
   "source": [
    "history = model.fit(X_train, y_train\n",
    "                    , batch_size=40, epochs=100\n",
    "                    ,validation_split=0.25, callbacks=[early_stopping_callback])"
   ]
  },
  {
   "cell_type": "code",
   "execution_count": 43,
   "metadata": {},
   "outputs": [
    {
     "name": "stdout",
     "output_type": "stream",
     "text": [
      "  1/782 [..............................] - ETA: 32s - loss: 0.5614 - accuracy: 0.8125"
     ]
    },
    {
     "name": "stdout",
     "output_type": "stream",
     "text": [
      "782/782 [==============================] - 18s 22ms/step - loss: 0.4146 - accuracy: 0.8738\n",
      "Test Accuracy: 0.8738\n"
     ]
    }
   ],
   "source": [
    "print('Test Accuracy: %.4f'%(model.evaluate(X_test, y_test)[1]))"
   ]
  },
  {
   "cell_type": "code",
   "execution_count": 44,
   "metadata": {},
   "outputs": [],
   "source": [
    "y_vloss = history.history['val_loss']\n",
    "y_loss = history.history['loss']"
   ]
  },
  {
   "cell_type": "code",
   "execution_count": 45,
   "metadata": {},
   "outputs": [
    {
     "data": {
      "image/png": "[encoded data removed]",
      "text/plain": [
       "<Figure size 640x480 with 1 Axes>"
      ]
     },
     "metadata": {},
     "output_type": "display_data"
    }
   ],
   "source": [
    "x_len = np.arange(len(y_loss))\n",
    "plt.plot(x_len, y_vloss, marker='.', c='red',label='Testset_loss')\n",
    "plt.plot(x_len, y_loss, marker='.', c='blue',label='Trainset_loss')\n",
    "\n",
    "plt.legend(loc='upper right')\n",
    "plt.grid()\n",
    "plt.xlabel('epoch')\n",
    "plt.ylabel('loss')\n",
    "plt.show()"
   ]
  },
  {
   "cell_type": "code",
   "execution_count": null,
   "metadata": {},
   "outputs": [],
   "source": [
    "x_len = np.arange(len(y_loss))\n",
    "plt.plot(x_len, y_vloss, marker='.', c='red',label='Testset_loss')\n",
    "plt.plot(x_len, y_loss, marker='.', c='blue',label='Trainset_loss')\n",
    "\n",
    "plt.legend(loc='upper right')\n",
    "plt.grid()\n",
    "plt.xlabel('epoch')\n",
    "plt.ylabel('loss')\n",
    "plt.show()"
   ]
  },
  {
   "attachments": {},
   "cell_type": "markdown",
   "metadata": {},
   "source": [
    "### 03 어텐션을 사용한 신경망"
   ]
  },
  {
   "cell_type": "code",
   "execution_count": null,
   "metadata": {},
   "outputs": [],
   "source": []
  }
 ],
 "metadata": {
  "kernelspec": {
   "display_name": "dl-dev-cpu",
   "language": "python",
   "name": "python3"
  },
  "language_info": {
   "codemirror_mode": {
    "name": "ipython",
    "version": 3
   },
   "file_extension": ".py",
   "mimetype": "text/x-python",
   "name": "python",
   "nbconvert_exporter": "python",
   "pygments_lexer": "ipython3",
   "version": "3.10.11"
  },
  "orig_nbformat": 4
 },
 "nbformat": 4,
 "nbformat_minor": 2
}
