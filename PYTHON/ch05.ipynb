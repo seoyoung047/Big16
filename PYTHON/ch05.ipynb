{
 "cells": [
  {
   "attachments": {},
   "cell_type": "markdown",
   "metadata": {},
   "source": [
    "# 2023-04-12\n",
    "---"
   ]
  },
  {
   "attachments": {},
   "cell_type": "markdown",
   "metadata": {},
   "source": [
    "# Class \n",
    "### : object 생성하는 설계도\n",
    "\n",
    "- 반복된 작업이 있을 때 사용"
   ]
  },
  {
   "attachments": {},
   "cell_type": "markdown",
   "metadata": {},
   "source": [
    "클래스 내 변수 : static / member\n",
    "\n",
    "- static : class영역의 static의 변수\n",
    "- member : heap 영역의 변수(static 영역의 변수를 참조하는)\n",
    "\n",
    "member변수는 self로 접근 가능 ~java에서의 this"
   ]
  },
  {
   "cell_type": "code",
   "execution_count": 172,
   "metadata": {},
   "outputs": [],
   "source": [
    "# class define(클래스 선언)\n",
    "class Service:\n",
    "    # static 변수 : object들이 공유하는 attribut(변수) :: 바로접근가능\n",
    "    secret = '영구는 외계인'    \n",
    "\n",
    "    # static method\n",
    "    def sum(a,b): # 더하기 하는 static method :: static메소드에는 static 한 것만 접근 가능\n",
    "        return a+b\n",
    "    \n",
    "    # member method\n",
    "    def add(self, a,b): # self => object 접근 가능 ~ member method\n",
    "        # member 변수(=객체변수)에 저장\n",
    "        self.a = a\n",
    "        self.b = b\n",
    "        self.result = self.a + self.b    # result => local var\n",
    "    \n",
    "    def resultPrint(self):\n",
    "        print(self.result)\n",
    "        \n"
   ]
  },
  {
   "cell_type": "code",
   "execution_count": 173,
   "metadata": {},
   "outputs": [
    {
     "name": "stdout",
     "output_type": "stream",
     "text": [
      "3\n"
     ]
    }
   ],
   "source": [
    "pey = Service()\n",
    "pey.add(1,2)\n",
    "pey.resultPrint()"
   ]
  },
  {
   "cell_type": "code",
   "execution_count": 174,
   "metadata": {},
   "outputs": [
    {
     "ename": "TypeError",
     "evalue": "Service.add() missing 1 required positional argument: 'b'",
     "output_type": "error",
     "traceback": [
      "\u001b[1;31m---------------------------------------------------------------------------\u001b[0m",
      "\u001b[1;31mTypeError\u001b[0m                                 Traceback (most recent call last)",
      "Cell \u001b[1;32mIn[174], line 1\u001b[0m\n\u001b[1;32m----> 1\u001b[0m Service\u001b[39m.\u001b[39;49madd(\u001b[39m1\u001b[39;49m,\u001b[39m2\u001b[39;49m)\n",
      "\u001b[1;31mTypeError\u001b[0m: Service.add() missing 1 required positional argument: 'b'"
     ]
    }
   ],
   "source": [
    "Service.add(1,2)"
   ]
  },
  {
   "cell_type": "code",
   "execution_count": 26,
   "metadata": {},
   "outputs": [],
   "source": [
    "# object 생성\n",
    "pey = Service()  #생성자 추가\n",
    "hong = Service()"
   ]
  },
  {
   "cell_type": "code",
   "execution_count": 9,
   "metadata": {},
   "outputs": [],
   "source": [
    "Service.secret = '영구는 도깨비'    # setting"
   ]
  },
  {
   "cell_type": "code",
   "execution_count": 12,
   "metadata": {},
   "outputs": [
    {
     "name": "stdout",
     "output_type": "stream",
     "text": [
      "영구는 도깨비\n",
      "영구는 도깨비\n",
      "영구는 도깨비\n"
     ]
    }
   ],
   "source": [
    "print(pey.secret)\n",
    "print(hong.secret)\n",
    "print(Service.secret)"
   ]
  },
  {
   "cell_type": "code",
   "execution_count": 27,
   "metadata": {},
   "outputs": [
    {
     "name": "stdout",
     "output_type": "stream",
     "text": [
      "3\n",
      "3\n"
     ]
    }
   ],
   "source": [
    "print(Service.sum(1,2)) #static method\n",
    "print(pey.add(1,2))     #member method"
   ]
  },
  {
   "attachments": {},
   "cell_type": "markdown",
   "metadata": {},
   "source": [
    "### static method \n",
    "\n",
    "1. Service.sum(1,2)  #static method\n",
    "2. pey.sum(1,2)      #error\n",
    "\n",
    "        -> static은 클래스 통해서 접근 해야함 \n",
    "\n",
    "\n",
    "\n",
    "### member method\n",
    "\n",
    ":: def add(self, a, b)\n",
    "\n",
    " 1. pey.add(1,2) \n",
    " 2. Service.add(1,2)   #error\n",
    " \n",
    "         -> self 넣어 줘야 하는데 class 에는 self없음 -> pey 넣어줌\n",
    " \n",
    "         => Service.add(pey,1,2)"
   ]
  },
  {
   "attachments": {},
   "cell_type": "markdown",
   "metadata": {},
   "source": [
    "# 2023-04-13\n",
    "\n",
    "---\n"
   ]
  },
  {
   "attachments": {},
   "cell_type": "markdown",
   "metadata": {},
   "source": [
    "\n",
    "## __init__\n",
    "\n",
    "언더바 두개 : 매직 메소드"
   ]
  },
  {
   "cell_type": "code",
   "execution_count": 20,
   "metadata": {},
   "outputs": [],
   "source": [
    "class Service:\n",
    "    \n",
    "    # 중간에 값 변경할때\n",
    "    def set(self,a,b):                  \n",
    "        self.a = a\n",
    "        self.b = b\n",
    "\n",
    "    def sum(self):\n",
    "        return self.a + self.b\n",
    "    "
   ]
  },
  {
   "cell_type": "code",
   "execution_count": 21,
   "metadata": {},
   "outputs": [],
   "source": [
    "hong = Service() # 생성자~ 초기화 목적\n",
    "#hong.sum(1,2)  => error  : sum()은 return만 되어있음, self.a, self.b 대입생성되지 않음 "
   ]
  },
  {
   "cell_type": "code",
   "execution_count": 22,
   "metadata": {},
   "outputs": [
    {
     "data": {
      "text/plain": [
       "3"
      ]
     },
     "execution_count": 22,
     "metadata": {},
     "output_type": "execute_result"
    }
   ],
   "source": [
    "hong.set(1,2)   #실행 중 a,b 값 변경 목적이 있을 경우 set 메소드 추가하여 활용\n",
    "hong.sum()"
   ]
  },
  {
   "cell_type": "code",
   "execution_count": 18,
   "metadata": {},
   "outputs": [],
   "source": [
    "class Service:\n",
    "    \n",
    "    # a,b attribute 생성, 초기화 목적\n",
    "    def __init__(self, a, b) -> None:    # 생성자 역할, return None 호출ex: Service(1,2)\n",
    "        self.a = a\n",
    "        self.b = b\n",
    "\n",
    "    \n",
    "    # 중간에 값 변경하고자 할 때\n",
    "    def set(self,a,b):                  \n",
    "        self.a = a\n",
    "        self.b = b\n",
    "\n",
    "    def sum(self):\n",
    "        return self.a + self.b\n",
    "    "
   ]
  },
  {
   "cell_type": "code",
   "execution_count": 19,
   "metadata": {},
   "outputs": [
    {
     "data": {
      "text/plain": [
       "3"
      ]
     },
     "execution_count": 19,
     "metadata": {},
     "output_type": "execute_result"
    }
   ],
   "source": [
    "hong = Service(1,2)\n",
    "hong.sum()"
   ]
  },
  {
   "cell_type": "code",
   "execution_count": 175,
   "metadata": {},
   "outputs": [],
   "source": [
    "#pdf p.120 name호출 클래스\n",
    "\n",
    "class Service:\n",
    "    def __init__(self,name) -> None:\n",
    "        self.name = name\n",
    "    \n",
    "    def sum(self):\n",
    "        print(f'{self.name}님 ')"
   ]
  },
  {
   "cell_type": "code",
   "execution_count": 177,
   "metadata": {},
   "outputs": [
    {
     "name": "stdout",
     "output_type": "stream",
     "text": [
      "홍길동님 \n"
     ]
    }
   ],
   "source": [
    "Service(\"홍길동\").sum()"
   ]
  },
  {
   "cell_type": "code",
   "execution_count": 24,
   "metadata": {},
   "outputs": [
    {
     "name": "stdout",
     "output_type": "stream",
     "text": [
      "홍길동님 \n"
     ]
    }
   ],
   "source": [
    "hong = Service(\"홍길동\")\n",
    "hong.sum()"
   ]
  },
  {
   "cell_type": "code",
   "execution_count": 25,
   "metadata": {},
   "outputs": [],
   "source": [
    "class Service:\n",
    "    def __init__(self,name) -> None:\n",
    "        self.name = name\n",
    "    \n",
    "    def sum(self,a,b):                      #return 명시 안해주면 자동 return None 코드 추가됨\n",
    "        result = a + b  # 지역변수(local)\n",
    "        print(f'{self.name}님 {result}')"
   ]
  },
  {
   "cell_type": "code",
   "execution_count": 28,
   "metadata": {},
   "outputs": [
    {
     "name": "stdout",
     "output_type": "stream",
     "text": [
      "홍길동님 3\n",
      "None\n"
     ]
    }
   ],
   "source": [
    "hong = Service(\"홍길동\")\n",
    "print(hong.sum(1,2))"
   ]
  },
  {
   "cell_type": "code",
   "execution_count": 27,
   "metadata": {},
   "outputs": [
    {
     "name": "stdout",
     "output_type": "stream",
     "text": [
      "고길동님 7\n"
     ]
    }
   ],
   "source": [
    "go = Service(\"고길동\")\n",
    "go.sum(3,4)"
   ]
  },
  {
   "attachments": {},
   "cell_type": "markdown",
   "metadata": {},
   "source": [
    "[ ] : 옵션\n",
    "\n",
    "### 클래스 구조\n",
    "\n",
    "class 클래스이름[(상속 클래스명)]:    \n",
    "    <클래스 변수1>\n",
    "    <클래스 변수2>\n",
    "\n",
    "    def 메서드1([self,인수1,인수2,...]):\n",
    "        <수행할 문장1>\n",
    "        <수행할 문장2>\n",
    "\n",
    "    def 메서드2([self,인수1,인수2,...]):\n",
    "        <수행할 문장1>\n",
    "        <수행할 문장2>"
   ]
  },
  {
   "attachments": {},
   "cell_type": "markdown",
   "metadata": {},
   "source": [
    "## FourCal class 작성\n",
    "\n",
    "---"
   ]
  },
  {
   "cell_type": "code",
   "execution_count": null,
   "metadata": {},
   "outputs": [],
   "source": [
    "# 사칙연산 클래스 만들기\n",
    "# 변수 두개 필요 => 저장 \n",
    "# 계산기에서는 초기값 지정할 필요x => __init__ 필요x\n",
    "\n",
    "# class FourCal\n",
    "# setdata(), sum(), mul(), sub(), div()\n",
    "\n",
    "#class FourCal(object):   클래스는 object 상속 default, 생략 가능\n",
    "class FourCal:\n",
    "    \n",
    "    def setData(self, first, second):\n",
    "        self.first = first\n",
    "        self.second = second\n",
    "        # return None\n",
    "        \n",
    "    def sum(self):\n",
    "        return self.first + self.second\n",
    "    \n",
    "    def mul(self):\n",
    "        return self.first * self.second\n",
    "\n",
    "    def sub(self):\n",
    "        return self.first - self.second\n",
    "    \n",
    "    def div(self):\n",
    "        return self.first / self.second\n",
    "    \n",
    "    "
   ]
  },
  {
   "cell_type": "code",
   "execution_count": 56,
   "metadata": {},
   "outputs": [
    {
     "name": "stdout",
     "output_type": "stream",
     "text": [
      "18 45 12 5.0\n",
      "44 160 36 10.0\n"
     ]
    }
   ],
   "source": [
    "c = FourCal() # __new__() 호출 하고, 이 안에서 __init__() 오버라이딩하여 초기화\n",
    "d = FourCal()\n",
    "\n",
    "FourCal.setData(c,15,3)  # 클래스로도 접근 가능\n",
    "FourCal.setData(d,40,4)\n",
    "# c.setData(15,3)       # 위와 같은 기능\n",
    "# d.setData(40,4)\n",
    "\n",
    "\n",
    "print(c.sum(), c.mul(), c.sub(), c.div())\n",
    "print(d.sum(), d.mul(), d.sub(), d.div())"
   ]
  },
  {
   "cell_type": "code",
   "execution_count": 58,
   "metadata": {},
   "outputs": [
    {
     "data": {
      "text/plain": [
       "(15, 3, 40, 4)"
      ]
     },
     "execution_count": 58,
     "metadata": {},
     "output_type": "execute_result"
    }
   ],
   "source": [
    "c.first, c.second, d.first, d.second"
   ]
  },
  {
   "cell_type": "code",
   "execution_count": 63,
   "metadata": {},
   "outputs": [],
   "source": [
    "class calcul:\n",
    "    def setdata(a,b):\n",
    "        a = a\n",
    "        b = b\n",
    "    def sum(a,b):\n",
    "        return a+b\n",
    "    def mul(a,b):\n",
    "        return a*b\n",
    "    def sub(a,b):\n",
    "        return a-b"
   ]
  },
  {
   "cell_type": "code",
   "execution_count": 64,
   "metadata": {},
   "outputs": [
    {
     "data": {
      "text/plain": [
       "12"
      ]
     },
     "execution_count": 64,
     "metadata": {},
     "output_type": "execute_result"
    }
   ],
   "source": [
    "calcul.sum(1,2)\n",
    "calcul.mul(3,4)\n",
    "#calcul.a :error"
   ]
  },
  {
   "attachments": {},
   "cell_type": "markdown",
   "metadata": {},
   "source": [
    "---\n",
    "\n",
    "### 박씨 가족 클래스 만들기  \n"
   ]
  },
  {
   "cell_type": "code",
   "execution_count": 16,
   "metadata": {},
   "outputs": [],
   "source": [
    "# class HousePark:\n",
    "# 변수 lastname = '박'\n",
    "# 메소드 setName(), fullName, travel()\n",
    "\n",
    "class HousePark:\n",
    "    lastName = '박'     # static : object들이 공유\n",
    "    \n",
    "    def setName(self, name):\n",
    "        self.fullName = self.lastName + name    # member\n",
    "    \n",
    "    def travel(self, where):\n",
    "        print(f'{self.fullName}, {where} 여행을 가다.')\n"
   ]
  },
  {
   "cell_type": "code",
   "execution_count": 17,
   "metadata": {},
   "outputs": [
    {
     "data": {
      "text/plain": [
       "('박', '박')"
      ]
     },
     "execution_count": 17,
     "metadata": {},
     "output_type": "execute_result"
    }
   ],
   "source": [
    "a = HousePark()\n",
    "b = HousePark()\n",
    "\n",
    "a.lastName, b.lastName"
   ]
  },
  {
   "cell_type": "code",
   "execution_count": 18,
   "metadata": {},
   "outputs": [
    {
     "data": {
      "text/plain": [
       "('박길동', '박둘리')"
      ]
     },
     "execution_count": 18,
     "metadata": {},
     "output_type": "execute_result"
    }
   ],
   "source": [
    "a.setName('길동')\n",
    "b.setName('둘리')\n",
    "\n",
    "a.fullName, b.fullName"
   ]
  },
  {
   "cell_type": "code",
   "execution_count": 19,
   "metadata": {},
   "outputs": [
    {
     "name": "stdout",
     "output_type": "stream",
     "text": [
      "박길동, 부산 여행을 가다.\n"
     ]
    }
   ],
   "source": [
    "a.travel('부산')"
   ]
  },
  {
   "cell_type": "code",
   "execution_count": 4,
   "metadata": {},
   "outputs": [],
   "source": [
    "class HousePark:\n",
    "    lastName = '박'     # static : object들이 공유\n",
    "    \n",
    "    def __init__(self,name) -> None:\n",
    "        self.fullName = self.lastName + name\n",
    "\n",
    "    def setName(self, name):\n",
    "        self.fullName = self.lastName + name    # member\n",
    "    \n",
    "    def travel(self, where):\n",
    "        print(f'{self.fullName}, {where} 여행을 가다.')\n"
   ]
  },
  {
   "cell_type": "code",
   "execution_count": 23,
   "metadata": {},
   "outputs": [
    {
     "name": "stdout",
     "output_type": "stream",
     "text": [
      "박길동, 부산 여행을 가다.\n"
     ]
    }
   ],
   "source": [
    "a = HousePark(\"길동\")\n",
    "a.travel(where='부산')"
   ]
  },
  {
   "attachments": {},
   "cell_type": "markdown",
   "metadata": {},
   "source": [
    "## 클래스의 상속"
   ]
  },
  {
   "cell_type": "code",
   "execution_count": 27,
   "metadata": {},
   "outputs": [],
   "source": [
    "class HouseKim(HousePark): # 메서드, 변수 다 오버라이딩 됨 \n",
    "    # init은 오버라이딩 아닌 상위 클래스 내의 init을 사용\n",
    "    #def __init__(self, name) -> None:\n",
    "    #    super().__init__(name)\n",
    "    \n",
    "    lastName = '김' # 재정의/오버라이딩"
   ]
  },
  {
   "cell_type": "code",
   "execution_count": 35,
   "metadata": {},
   "outputs": [
    {
     "data": {
      "text/plain": [
       "'김서영'"
      ]
     },
     "execution_count": 35,
     "metadata": {},
     "output_type": "execute_result"
    }
   ],
   "source": [
    "a = HouseKim('서영')\n",
    "\n",
    "a.fullName"
   ]
  },
  {
   "cell_type": "code",
   "execution_count": 34,
   "metadata": {},
   "outputs": [
    {
     "data": {
      "text/plain": [
       "['__class__',\n",
       " '__delattr__',\n",
       " '__dict__',\n",
       " '__dir__',\n",
       " '__doc__',\n",
       " '__eq__',\n",
       " '__format__',\n",
       " '__ge__',\n",
       " '__getattribute__',\n",
       " '__gt__',\n",
       " '__hash__',\n",
       " '__init__',\n",
       " '__init_subclass__',\n",
       " '__le__',\n",
       " '__lt__',\n",
       " '__module__',\n",
       " '__ne__',\n",
       " '__new__',\n",
       " '__reduce__',\n",
       " '__reduce_ex__',\n",
       " '__repr__',\n",
       " '__setattr__',\n",
       " '__sizeof__',\n",
       " '__str__',\n",
       " '__subclasshook__',\n",
       " '__weakref__',\n",
       " 'fullName',\n",
       " 'lastName',\n",
       " 'setName',\n",
       " 'travel']"
      ]
     },
     "execution_count": 34,
     "metadata": {},
     "output_type": "execute_result"
    }
   ],
   "source": [
    "dir(a)"
   ]
  },
  {
   "cell_type": "code",
   "execution_count": 36,
   "metadata": {},
   "outputs": [
    {
     "name": "stdout",
     "output_type": "stream",
     "text": [
      "김서영, 여수 여행을 가다.\n"
     ]
    }
   ],
   "source": [
    "a.travel(\"여수\")"
   ]
  },
  {
   "cell_type": "markdown",
   "metadata": {},
   "source": [
    "### 메소드 오버라이딩"
   ]
  },
  {
   "cell_type": "code",
   "execution_count": 5,
   "metadata": {},
   "outputs": [],
   "source": [
    "class HouseKim(HousePark):\n",
    "    lastName = '김'\n",
    "\n",
    "    #메소드 오버라이딩 = 재정의\n",
    "    def travel(self, where):\n",
    "        return f'{self.fullName}은 {where}로 여행합니다.'"
   ]
  },
  {
   "cell_type": "code",
   "execution_count": 38,
   "metadata": {},
   "outputs": [
    {
     "data": {
      "text/plain": [
       "'김서영은 여수로 여행합니다.'"
      ]
     },
     "execution_count": 38,
     "metadata": {},
     "output_type": "execute_result"
    }
   ],
   "source": [
    "a = HouseKim('서영')\n",
    "a.travel('여수')"
   ]
  },
  {
   "attachments": {},
   "cell_type": "markdown",
   "metadata": {},
   "source": [
    "### 연산자 오버로딩"
   ]
  },
  {
   "cell_type": "code",
   "execution_count": 44,
   "metadata": {},
   "outputs": [],
   "source": [
    "class HousePark:\n",
    "    lastname = '박'\n",
    "\n",
    "    def __init__(self, name) -> None:\n",
    "        self.fullname  = self.lastname + name\n",
    "\n",
    "    def travel(self, where):\n",
    "        print(f'{self.fulname}, {where}여행을 가다')\n",
    "\n",
    "    def __add__(self, other):       # + 기호 대체됨\n",
    "        print(f'{self.fullname}, {other.fullname} 결혼함')\n",
    "\n",
    "class HouseKim(HousePark):\n",
    "    lastname = '김'\n",
    "    def travel(self, where):\n",
    "        return f'{self.fullName}은 {where}로 여행합니다.'"
   ]
  },
  {
   "cell_type": "code",
   "execution_count": 43,
   "metadata": {},
   "outputs": [
    {
     "name": "stdout",
     "output_type": "stream",
     "text": [
      "박길동,김줄리엣 결혼함\n"
     ]
    }
   ],
   "source": [
    "pey = HousePark(\"길동\")\n",
    "juliet = HouseKim(\"줄리엣\")\n",
    "\n",
    "pey + juliet\n",
    "#juliet + pey"
   ]
  },
  {
   "cell_type": "code",
   "execution_count": null,
   "metadata": {},
   "outputs": [],
   "source": [
    "# __sub__() : - 뻬기 연산자 대체\n",
    "# __call__() 매직 메소드 중 가장 중요 : 이벤트 처리하는용"
   ]
  },
  {
   "cell_type": "code",
   "execution_count": null,
   "metadata": {},
   "outputs": [],
   "source": [
    "# => class_extend.ipynb"
   ]
  },
  {
   "attachments": {},
   "cell_type": "markdown",
   "metadata": {},
   "source": [
    "## 모듈\n",
    "\n",
    "함수나 변수 또는 클래스들을 모아 놓은 파일 == library\n",
    "\n",
    "- 다른 파이썬 프로그램에서 불러와 사용할 수 있게끔 만들어진 파이썬 파일"
   ]
  },
  {
   "cell_type": "code",
   "execution_count": 45,
   "metadata": {},
   "outputs": [
    {
     "data": {
      "text/plain": [
       "7"
      ]
     },
     "execution_count": 45,
     "metadata": {},
     "output_type": "execute_result"
    }
   ],
   "source": [
    "# mod1.py\n",
    "# 모듈 import : 가져와라\n",
    "import mod1\n",
    "\n",
    "mod1.sum(3,4)"
   ]
  },
  {
   "cell_type": "code",
   "execution_count": 46,
   "metadata": {},
   "outputs": [],
   "source": [
    "# mod1의 함수 보완\n",
    "\n",
    "#def safe_sum(a,b):\n",
    "#    if type(a) != type(b):\n",
    "#        print('더할 수 없음!')\n",
    "#    else:\n",
    "#        return sum(a,b)"
   ]
  },
  {
   "cell_type": "code",
   "execution_count": 2,
   "metadata": {},
   "outputs": [
    {
     "name": "stdout",
     "output_type": "stream",
     "text": [
      "더할 수 없음!\n"
     ]
    }
   ],
   "source": [
    "import mod1\n",
    "# from mod1 import safe_sum\n",
    "\n",
    "mod1.safe_sum(3,'a')"
   ]
  },
  {
   "attachments": {},
   "cell_type": "markdown",
   "metadata": {},
   "source": [
    "## 2023-04-14\n",
    "\n",
    "---"
   ]
  },
  {
   "attachments": {},
   "cell_type": "markdown",
   "metadata": {},
   "source": [
    "import      => __name__ = 'mod1'\n",
    "직접실행     => __name__ = '__main__'"
   ]
  },
  {
   "cell_type": "code",
   "execution_count": 3,
   "metadata": {},
   "outputs": [],
   "source": [
    "#__name__ == __main__?\n",
    "\n",
    "import mod1 as m     # import => __name__ = 'mod1'\n",
    "\n",
    "# as 는 별칭"
   ]
  },
  {
   "cell_type": "code",
   "execution_count": 4,
   "metadata": {},
   "outputs": [
    {
     "data": {
      "text/plain": [
       "5"
      ]
     },
     "execution_count": 4,
     "metadata": {},
     "output_type": "execute_result"
    }
   ],
   "source": [
    "m.sum(1,4)"
   ]
  },
  {
   "attachments": {},
   "cell_type": "markdown",
   "metadata": {},
   "source": [
    "### 클래스나 변수 등을 포함 한 모듈"
   ]
  },
  {
   "cell_type": "code",
   "execution_count": 6,
   "metadata": {},
   "outputs": [],
   "source": [
    "# mod2.py\n",
    "import mod2"
   ]
  },
  {
   "cell_type": "code",
   "execution_count": 7,
   "metadata": {},
   "outputs": [
    {
     "data": {
      "text/plain": [
       "3.141592"
      ]
     },
     "execution_count": 7,
     "metadata": {},
     "output_type": "execute_result"
    }
   ],
   "source": [
    "mod2.PI"
   ]
  },
  {
   "cell_type": "code",
   "execution_count": 9,
   "metadata": {},
   "outputs": [
    {
     "data": {
      "text/plain": [
       "12.566368"
      ]
     },
     "execution_count": 9,
     "metadata": {},
     "output_type": "execute_result"
    }
   ],
   "source": [
    "# mod2.Math().solv(2)\n",
    "a = mod2.Math()\n",
    "a.solv(2)"
   ]
  },
  {
   "cell_type": "code",
   "execution_count": 10,
   "metadata": {},
   "outputs": [
    {
     "data": {
      "text/plain": [
       "7.5415920000000005"
      ]
     },
     "execution_count": 10,
     "metadata": {},
     "output_type": "execute_result"
    }
   ],
   "source": [
    "mod2.sum(mod2.PI,4.4)"
   ]
  },
  {
   "attachments": {},
   "cell_type": "markdown",
   "metadata": {},
   "source": [
    "### 새파일 안에서 이전에 만든 모듈 불러오기"
   ]
  },
  {
   "cell_type": "code",
   "execution_count": null,
   "metadata": {},
   "outputs": [],
   "source": [
    "# modtest.py"
   ]
  },
  {
   "attachments": {},
   "cell_type": "markdown",
   "metadata": {},
   "source": [
    "### 다른 라이브러리에서 모듈 가져오기"
   ]
  },
  {
   "cell_type": "code",
   "execution_count": 13,
   "metadata": {},
   "outputs": [],
   "source": [
    "import modules.mod2     # 상위폴더(디렉토리)가 package와 같은 역할"
   ]
  },
  {
   "attachments": {},
   "cell_type": "markdown",
   "metadata": {},
   "source": [
    "---\n",
    "\n",
    "## 패키지\n",
    ": 관련된 모듈을 모아둠"
   ]
  },
  {
   "cell_type": "code",
   "execution_count": 14,
   "metadata": {},
   "outputs": [
    {
     "name": "stdout",
     "output_type": "stream",
     "text": [
      "echo\n"
     ]
    }
   ],
   "source": [
    "# game\\sound\\echo\\ehco_test() ->print('echo')\n",
    "\n",
    "import game.sound.echo as echo\n",
    "\n",
    "echo.echo_test()"
   ]
  },
  {
   "cell_type": "code",
   "execution_count": 15,
   "metadata": {},
   "outputs": [
    {
     "name": "stdout",
     "output_type": "stream",
     "text": [
      "echo\n"
     ]
    }
   ],
   "source": [
    "# function import\n",
    "\n",
    "#    |<package>|<module>|  |<function>|\n",
    "from game.sound.echo import echo_test\n",
    "\n",
    "echo_test()"
   ]
  },
  {
   "attachments": {},
   "cell_type": "markdown",
   "metadata": {},
   "source": [
    "__init__.py : "
   ]
  },
  {
   "cell_type": "code",
   "execution_count": 17,
   "metadata": {},
   "outputs": [
    {
     "name": "stdout",
     "output_type": "stream",
     "text": [
      "render\n",
      "echo\n"
     ]
    }
   ],
   "source": [
    "# game.grapic.render.render_test()\n",
    "\n",
    "from game.grapic.render import render_test\n",
    "\n",
    "render_test()"
   ]
  },
  {
   "attachments": {},
   "cell_type": "markdown",
   "metadata": {},
   "source": [
    "## 파이썬 예외처리\n",
    "\n",
    "### try / except / [else] / [finally]\n",
    "\n",
    "else : 에러가 없을 때 실행\n",
    "\n",
    "finally : 무조건 실행"
   ]
  },
  {
   "cell_type": "code",
   "execution_count": 18,
   "metadata": {},
   "outputs": [
    {
     "name": "stdout",
     "output_type": "stream",
     "text": [
      "division by zero\n"
     ]
    }
   ],
   "source": [
    "try:\n",
    "    4/0\n",
    "except ZeroDivisionError as e:\n",
    "    print(e)"
   ]
  },
  {
   "cell_type": "code",
   "execution_count": 20,
   "metadata": {},
   "outputs": [
    {
     "name": "stdout",
     "output_type": "stream",
     "text": [
      "[Errno 2] No such file or directory: 'f1oo.txt'\n"
     ]
    }
   ],
   "source": [
    "try:\n",
    "    f = open('f1oo.txt','r')\n",
    "except FileNotFoundError as e:\n",
    "    print(str(e))\n",
    "else:\n",
    "    data = f.read()\n",
    "    f.close()"
   ]
  },
  {
   "attachments": {},
   "cell_type": "markdown",
   "metadata": {},
   "source": [
    "---\n",
    "\n",
    "# 2023-04-17"
   ]
  },
  {
   "cell_type": "code",
   "execution_count": 148,
   "metadata": {},
   "outputs": [
    {
     "name": "stdout",
     "output_type": "stream",
     "text": [
      "division by zero\n",
      "0으로 나눌 수 없습니다.\n"
     ]
    }
   ],
   "source": [
    "# 여러개 오류 처리\n",
    "\n",
    "try:\n",
    "    a = [1,2]\n",
    "    print(a[3]) # 오류 발생한 부분에서 except로 감\n",
    "    4/0         # 실행x\n",
    "\n",
    "except ZeroDivisionError as e:\n",
    "    print(e)\n",
    "    print(\"0으로 나눌 수 없습니다.\")\n",
    "\n",
    "except IndexError as e:\n",
    "    print(e)\n",
    "    print(\"인덱싱 할 수 없습니다.\")"
   ]
  },
  {
   "cell_type": "code",
   "execution_count": 2,
   "metadata": {},
   "outputs": [
    {
     "name": "stdout",
     "output_type": "stream",
     "text": [
      "list index out of range\n"
     ]
    }
   ],
   "source": [
    "try:\n",
    "    a = [1,2]\n",
    "    print(a[3])\n",
    "    4/0\n",
    "\n",
    "except (ZeroDivisionError,IndexError) as e:\n",
    "    print(e)\n",
    "\n",
    "# 오류는 각각 처리하는것이 정석"
   ]
  },
  {
   "cell_type": "code",
   "execution_count": 1,
   "metadata": {},
   "outputs": [],
   "source": [
    "# 오류 회피하기\n",
    "\n",
    "try:\n",
    "    f = open(\"없는파일\",\"r\")\n",
    "\n",
    "except FileNotFoundError:\n",
    "    pass"
   ]
  },
  {
   "cell_type": "code",
   "execution_count": 43,
   "metadata": {},
   "outputs": [],
   "source": [
    "# 오류 일부러 발생시키기(추상메소드 만들기)\n",
    "# 추상 메소드 = 반드시 오버라이딩이 필요한 메소드\n",
    "\n",
    "class Bird:         # 추상\n",
    "    b = \"fly\"\n",
    "    def fly(self):\n",
    "        # raise = java에서의 throw / NotImplementedError = 오버라이딩안됐음 에러\n",
    "        raise NotImplementedError\n",
    "        # => Bird의 fly 직접사용하면 에러나게함(오버라이딩하지않고)\n",
    "\n",
    "\n",
    "class Eagle(Bird):  # 세부 \n",
    "    \n",
    "    def fly(self):  # Bird의 fly를 오버라이딩함\n",
    "        print(f\"{Bird.b} very fast\")\n",
    "    \n",
    "class Duck(Bird):   # 세부\n",
    "    d = f\"{Bird.b} low\"            # Bird를 implement하나 메소드 오버라이딩하지 않음\n"
   ]
  },
  {
   "cell_type": "code",
   "execution_count": 44,
   "metadata": {},
   "outputs": [
    {
     "name": "stdout",
     "output_type": "stream",
     "text": [
      "fly very fast\n"
     ]
    }
   ],
   "source": [
    "eagle = Eagle()\n",
    "eagle.fly()"
   ]
  },
  {
   "cell_type": "code",
   "execution_count": 45,
   "metadata": {},
   "outputs": [
    {
     "ename": "NotImplementedError",
     "evalue": "",
     "output_type": "error",
     "traceback": [
      "\u001b[1;31m---------------------------------------------------------------------------\u001b[0m",
      "\u001b[1;31mNotImplementedError\u001b[0m                       Traceback (most recent call last)",
      "Cell \u001b[1;32mIn[45], line 2\u001b[0m\n\u001b[0;32m      1\u001b[0m duck \u001b[39m=\u001b[39m Duck()\n\u001b[1;32m----> 2\u001b[0m duck\u001b[39m.\u001b[39;49mfly()  \u001b[39m# Brid의 fly를 오버라이딩하지 않고 사용 => error\u001b[39;00m\n",
      "Cell \u001b[1;32mIn[43], line 8\u001b[0m, in \u001b[0;36mBird.fly\u001b[1;34m(self)\u001b[0m\n\u001b[0;32m      6\u001b[0m \u001b[39mdef\u001b[39;00m \u001b[39mfly\u001b[39m(\u001b[39mself\u001b[39m):\n\u001b[0;32m      7\u001b[0m     \u001b[39m# raise = java에서의 throw / NotImplementedError = 오버라이딩안됐음 에러\u001b[39;00m\n\u001b[1;32m----> 8\u001b[0m     \u001b[39mraise\u001b[39;00m \u001b[39mNotImplementedError\u001b[39;00m\n",
      "\u001b[1;31mNotImplementedError\u001b[0m: "
     ]
    }
   ],
   "source": [
    "duck = Duck()\n",
    "duck.fly()  # Brid의 fly를 오버라이딩하지 않고 사용 => error"
   ]
  },
  {
   "cell_type": "code",
   "execution_count": 191,
   "metadata": {},
   "outputs": [],
   "source": [
    "# 오류 만들기\n",
    "\n",
    "class MyError(Exception):\n",
    "    def __init__(self, msg):       # member method\n",
    "        self.msg1 = msg              \n",
    "\n",
    "def __str__(self) :\n",
    "    return self.msg2 # as e print 위함\n",
    "    \n",
    "def say_nick(nick):\n",
    "    if nick == '바보':\n",
    "        raise MyError(\"허용되지 않는 별명입니다.\")\n",
    "    print(nick)\n"
   ]
  },
  {
   "cell_type": "code",
   "execution_count": 196,
   "metadata": {},
   "outputs": [
    {
     "name": "stdout",
     "output_type": "stream",
     "text": [
      "천사\n",
      "허용되지 않는 별명입니다.\n"
     ]
    }
   ],
   "source": [
    "try:\n",
    "    say_nick(\"천사\")\n",
    "    say_nick(\"바보\")\n",
    "except MyError as e:\n",
    "    print(e.msg1)"
   ]
  },
  {
   "attachments": {},
   "cell_type": "markdown",
   "metadata": {},
   "source": [
    "## Python 내장함수\n",
    "\n",
    "* enumerate, filter, map, zip "
   ]
  },
  {
   "cell_type": "code",
   "execution_count": 13,
   "metadata": {},
   "outputs": [
    {
     "data": {
      "text/plain": [
       "3"
      ]
     },
     "execution_count": 13,
     "metadata": {},
     "output_type": "execute_result"
    }
   ],
   "source": [
    "# abs : 절대값 돌려주는 함수\n",
    "\n",
    "abs(-3)"
   ]
  },
  {
   "cell_type": "code",
   "execution_count": null,
   "metadata": {},
   "outputs": [],
   "source": [
    "# \"python\" : true / \"\" : false      문자열  \n",
    "# [1,2,3] :true / [] : false        리스트\n",
    "# () : false                        튜플\n",
    "# {} : false                        딕셔너리\n",
    "# 1 (0이 아니면) : true / 0 : false  숫자\n",
    "# None : false                      "
   ]
  },
  {
   "cell_type": "code",
   "execution_count": null,
   "metadata": {},
   "outputs": [],
   "source": [
    "# 결측치 (False)\n",
    "\n",
    "# None : python\n",
    "# Nan : numpy\n",
    "# null : dataframe"
   ]
  },
  {
   "cell_type": "code",
   "execution_count": 14,
   "metadata": {},
   "outputs": [
    {
     "data": {
      "text/plain": [
       "False"
      ]
     },
     "execution_count": 14,
     "metadata": {},
     "output_type": "execute_result"
    }
   ],
   "source": [
    "# all : iterale한 자료형 x를 입력인수로 받고, 모두 참이면 true, 아니면 false\n",
    "\n",
    "all([1,2,3,0])  # 0 = false"
   ]
  },
  {
   "cell_type": "code",
   "execution_count": 16,
   "metadata": {},
   "outputs": [
    {
     "data": {
      "text/plain": [
       "False"
      ]
     },
     "execution_count": 16,
     "metadata": {},
     "output_type": "execute_result"
    }
   ],
   "source": [
    "# any : 하나라도 참이면 True, 모두 거짓일 경우 false\n",
    "\n",
    "any([0,0,0,'']) #'' = None : 결측치"
   ]
  },
  {
   "cell_type": "code",
   "execution_count": 17,
   "metadata": {},
   "outputs": [
    {
     "data": {
      "text/plain": [
       "'a'"
      ]
     },
     "execution_count": 17,
     "metadata": {},
     "output_type": "execute_result"
    }
   ],
   "source": [
    "# chr :  아스키코드 값 입력받아  해당 문자 출력\n",
    "\n",
    "chr(97)"
   ]
  },
  {
   "cell_type": "code",
   "execution_count": null,
   "metadata": {},
   "outputs": [],
   "source": [
    "# dir : 객체가 자체적으로 가지고 있는 변수나 함수 보여줌\n",
    "\n",
    "# 리스트\n",
    "dir([1,2,3])\n",
    "# 딕셔너리\n",
    "dir({'1':'a'})"
   ]
  },
  {
   "cell_type": "code",
   "execution_count": 20,
   "metadata": {},
   "outputs": [
    {
     "data": {
      "text/plain": [
       "(2, 1)"
      ]
     },
     "execution_count": 20,
     "metadata": {},
     "output_type": "execute_result"
    }
   ],
   "source": [
    "# divmod(a,b) : a를 b로 나눈 몫과 나머지 튜플 형태로 리턴\n",
    "# => 인덱스로 접근가능\n",
    "\n",
    "divmod(7,3)"
   ]
  },
  {
   "attachments": {},
   "cell_type": "markdown",
   "metadata": {},
   "source": [
    "### ***enumerate***"
   ]
  },
  {
   "cell_type": "code",
   "execution_count": 21,
   "metadata": {},
   "outputs": [
    {
     "name": "stdout",
     "output_type": "stream",
     "text": [
      "0 i\n",
      "1 am\n",
      "2 student\n"
     ]
    }
   ],
   "source": [
    "# enumerate : 열거하다 / iterable한 자료형(리스트, 튜플, 문자열)을 입력받아 \n",
    "# 인덱스값을 포함하는 enumerate 객체를 리턴\n",
    "# index, value 같이 return\n",
    "\n",
    "for i,name in enumerate(['i','am','student']):\n",
    "    print(i, name)  # 튜플 리턴"
   ]
  },
  {
   "cell_type": "code",
   "execution_count": 46,
   "metadata": {},
   "outputs": [
    {
     "name": "stdout",
     "output_type": "stream",
     "text": [
      "\u001b[1;31mInit signature:\u001b[0m \u001b[0menumerate\u001b[0m\u001b[1;33m(\u001b[0m\u001b[0miterable\u001b[0m\u001b[1;33m,\u001b[0m \u001b[0mstart\u001b[0m\u001b[1;33m=\u001b[0m\u001b[1;36m0\u001b[0m\u001b[1;33m)\u001b[0m\u001b[1;33m\u001b[0m\u001b[1;33m\u001b[0m\u001b[0m\n",
      "\u001b[1;31mDocstring:\u001b[0m     \n",
      "Return an enumerate object.\n",
      "\n",
      "  iterable\n",
      "    an object supporting iteration\n",
      "\n",
      "The enumerate object yields pairs containing a count (from start, which\n",
      "defaults to zero) and a value yielded by the iterable argument.\n",
      "\n",
      "enumerate is useful for obtaining an indexed list:\n",
      "    (0, seq[0]), (1, seq[1]), (2, seq[2]), ...\n",
      "\u001b[1;31mType:\u001b[0m           type\n",
      "\u001b[1;31mSubclasses:\u001b[0m     "
     ]
    }
   ],
   "source": [
    "enumerate?"
   ]
  },
  {
   "cell_type": "code",
   "execution_count": null,
   "metadata": {},
   "outputs": [],
   "source": [
    "# 혼자 폭주하지 마요\n",
    "# 천천히 하라고요"
   ]
  },
  {
   "cell_type": "code",
   "execution_count": 24,
   "metadata": {},
   "outputs": [
    {
     "data": {
      "text/plain": [
       "(2, 1)"
      ]
     },
     "execution_count": 24,
     "metadata": {},
     "output_type": "execute_result"
    }
   ],
   "source": [
    "# eval(expression) : 실행가능한 문자열을 입력받아 실행결과 리턴\n",
    "\n",
    "eval('1+2')\n",
    "eval('divmod(7,3)')"
   ]
  },
  {
   "attachments": {},
   "cell_type": "markdown",
   "metadata": {},
   "source": [
    "### ***filter***"
   ]
  },
  {
   "cell_type": "code",
   "execution_count": 34,
   "metadata": {},
   "outputs": [
    {
     "name": "stdout",
     "output_type": "stream",
     "text": [
      "[1, 2, 6]\n"
     ]
    }
   ],
   "source": [
    "# filter 적용 x 코드\n",
    "\n",
    "# 리스트에서 양수만 추출하여 리스트 반환하는 ex \n",
    "\n",
    "def positive(lista):\n",
    "    result = []\n",
    "    for i in lista:\n",
    "        if i > 0:\n",
    "            result.append(i)\n",
    "    return result\n",
    "\n",
    "a = [1,-3,2,0,-5,6]\n",
    "print(positive(a))"
   ]
  },
  {
   "cell_type": "code",
   "execution_count": 40,
   "metadata": {},
   "outputs": [
    {
     "name": "stdout",
     "output_type": "stream",
     "text": [
      "1. function :  [1, 2, 6]\n",
      "2. lambda :  [1, 2, 6]\n"
     ]
    }
   ],
   "source": [
    "# filter(함수 이름, iterable한 자료형) : \n",
    "# 결과가 참인 값만 출력\n",
    "\n",
    "# a = [1,-3,2,0,-5,6]에서 0보다 큰 값 출력\n",
    "\n",
    "# 1.function 활용\n",
    "def positive(x):\n",
    "    return x > 0\n",
    "\n",
    "print(\"1. function : \", list( filter( positive, a)))\n",
    "\n",
    "# 2. lambda 활용 : 익명 함수 object 생성(new) \n",
    "print(\"2. lambda : \", list( filter( lambda x:x>0 , a )))"
   ]
  },
  {
   "cell_type": "code",
   "execution_count": 27,
   "metadata": {},
   "outputs": [
    {
     "data": {
      "text/plain": [
       "'0xea'"
      ]
     },
     "execution_count": 27,
     "metadata": {},
     "output_type": "execute_result"
    }
   ],
   "source": [
    "# hex(x) : 정수x를 입력받아 16진수로 변환, 리턴\n",
    "\n",
    "hex(234)"
   ]
  },
  {
   "cell_type": "code",
   "execution_count": 29,
   "metadata": {},
   "outputs": [
    {
     "name": "stdout",
     "output_type": "stream",
     "text": [
      "2723790848304 2723790848304 2723790848304\n"
     ]
    }
   ],
   "source": [
    "# id(object) : 객체의 고유 주소값(레퍼런스) 리턴\n",
    "\n",
    "a = 3\n",
    "b = a\n",
    "print(id(3),id(a),id(b))"
   ]
  },
  {
   "cell_type": "code",
   "execution_count": 31,
   "metadata": {},
   "outputs": [
    {
     "name": "stdout",
     "output_type": "stream",
     "text": [
      "hi\n"
     ]
    }
   ],
   "source": [
    "# input : 사용자 입력받는 함수\n",
    "\n",
    "a = input()\n",
    "print(a)"
   ]
  },
  {
   "cell_type": "code",
   "execution_count": 42,
   "metadata": {},
   "outputs": [
    {
     "data": {
      "text/plain": [
       "7"
      ]
     },
     "execution_count": 42,
     "metadata": {},
     "output_type": "execute_result"
    }
   ],
   "source": [
    "# int(x) : 입력받은 값을 정수형태로 리턴\n",
    "# int(x, radix) : 10 진수로 변환\n",
    "\n",
    "int(3.4)\n",
    "int('111', 2) # 2진수 11을 10진수로 변환"
   ]
  },
  {
   "cell_type": "code",
   "execution_count": 57,
   "metadata": {},
   "outputs": [
    {
     "data": {
      "text/plain": [
       "True"
      ]
     },
     "execution_count": 57,
     "metadata": {},
     "output_type": "execute_result"
    }
   ],
   "source": [
    "# isinstance(object, class) : object가 class의 인스턴스인지 판단->t/f\n",
    "\n",
    "class Person : pass\n",
    "\n",
    "a = Person()\n",
    "isinstance(a,Person)    # True\n",
    "\n",
    "b = 3\n",
    "isinstance(b,Person)    # False\n",
    "isinstance(b, int)      # True"
   ]
  },
  {
   "attachments": {},
   "cell_type": "markdown",
   "metadata": {},
   "source": [
    "### lambda"
   ]
  },
  {
   "cell_type": "code",
   "execution_count": 45,
   "metadata": {},
   "outputs": [
    {
     "data": {
      "text/plain": [
       "7"
      ]
     },
     "execution_count": 45,
     "metadata": {},
     "output_type": "execute_result"
    }
   ],
   "source": [
    "# lambda parameter : return value\n",
    "# => 익명 함수 object 생성 ~ 바로 실행 가능\n",
    "# 일회성 함수 / 간단한 처리 함수 일 때 사용\n",
    "# def : 정의한 것 , 생성x\n",
    "\n",
    "sumlam = lambda a,b : a+b\n",
    "#    argument\n",
    "sumlam(3,4)"
   ]
  },
  {
   "cell_type": "code",
   "execution_count": 58,
   "metadata": {},
   "outputs": [
    {
     "name": "stdout",
     "output_type": "stream",
     "text": [
      "<function <lambda> at 0x0000027A34AF76D0>\n",
      "7 12\n"
     ]
    }
   ],
   "source": [
    "# 리스트 내에 lambda\n",
    "# lambda가 oject생성이기에 리스트에 저장 가능, def는 불가능\n",
    "\n",
    "myList = [lambda a,b:a+b, lambda a,b: a*b]\n",
    "print(myList[0])    # 레퍼런스 주소 \n",
    "print(myList[0](3,4), myList[1](3,4))"
   ]
  },
  {
   "cell_type": "code",
   "execution_count": 62,
   "metadata": {},
   "outputs": [
    {
     "name": "stdout",
     "output_type": "stream",
     "text": [
      "7\n",
      "12\n"
     ]
    }
   ],
   "source": [
    "for i in myList:\n",
    "    print(i(3,4))\n"
   ]
  },
  {
   "cell_type": "code",
   "execution_count": 48,
   "metadata": {},
   "outputs": [
    {
     "data": {
      "text/plain": [
       "6"
      ]
     },
     "execution_count": 48,
     "metadata": {},
     "output_type": "execute_result"
    }
   ],
   "source": [
    "# len : 입력값의 길이 리턴\n",
    "\n",
    "len(\"python\")"
   ]
  },
  {
   "cell_type": "code",
   "execution_count": 51,
   "metadata": {},
   "outputs": [
    {
     "data": {
      "text/plain": [
       "[1, 2, 3]"
      ]
     },
     "execution_count": 51,
     "metadata": {},
     "output_type": "execute_result"
    }
   ],
   "source": [
    "# list : iterable한 자료형 받아 리스트로 만들어 리턴\n",
    "\n",
    "list(\"python\")  # ['p', 'y', 't', 'h', 'o', 'n']\n",
    "list((1,2,3))   # [1, 2, 3]"
   ]
  },
  {
   "cell_type": "code",
   "execution_count": 74,
   "metadata": {},
   "outputs": [
    {
     "data": {
      "text/plain": [
       "[1, 2, 3]"
      ]
     },
     "execution_count": 74,
     "metadata": {},
     "output_type": "execute_result"
    }
   ],
   "source": [
    "# list 함수에 리스트를 입력으로 주면 똑같은 리스트를 복사하여 돌려줌\n",
    "\n",
    "a = [1,2,3]\n",
    "b = list(a)\n",
    "b"
   ]
  },
  {
   "attachments": {},
   "cell_type": "markdown",
   "metadata": {},
   "source": [
    "### map"
   ]
  },
  {
   "cell_type": "code",
   "execution_count": 76,
   "metadata": {},
   "outputs": [
    {
     "name": "stdout",
     "output_type": "stream",
     "text": [
      "[1, 4, 9, 16]\n"
     ]
    }
   ],
   "source": [
    "# map(함수명, iterable) : 함수 리턴값 묶어서 다 리턴\n",
    "# <-> filter는 true만 리턴\n",
    "\n",
    "print(list(map (lambda x : x**2, [1,2,3,4])))"
   ]
  },
  {
   "cell_type": "code",
   "execution_count": 86,
   "metadata": {},
   "outputs": [
    {
     "name": "stdout",
     "output_type": "stream",
     "text": [
      "[2, 4, 6]\n"
     ]
    }
   ],
   "source": [
    "#result = a*2\n",
    "a = [1,2,3]\n",
    "\n",
    "# 1. def\n",
    "def two_times(numberList):\n",
    "    result = []\n",
    "    for number in numberList:\n",
    "        result.append(number*2)\n",
    "    return result\n",
    "\n",
    "print(two_times(a))"
   ]
  },
  {
   "cell_type": "code",
   "execution_count": 85,
   "metadata": {},
   "outputs": [
    {
     "data": {
      "text/plain": [
       "[2, 4, 6]"
      ]
     },
     "execution_count": 85,
     "metadata": {},
     "output_type": "execute_result"
    }
   ],
   "source": [
    "# 2. map\n",
    "def two_times(x):\n",
    "    return x *2 \n",
    "\n",
    "list(map(two_times,a))"
   ]
  },
  {
   "cell_type": "code",
   "execution_count": 116,
   "metadata": {},
   "outputs": [],
   "source": [
    "# ex\n",
    "import time\n",
    "\n",
    "add = lambda a,b : a+b\n",
    "mul = lambda a,b : a*b\n",
    "\n",
    "def  calc(func, a,b):\n",
    "    start = time.time()\n",
    "    print(func(a,b))\n",
    "    end = time.time()\n",
    "\n",
    "    print(f'걸린시간 {end-start}')\n",
    "\n"
   ]
  },
  {
   "cell_type": "code",
   "execution_count": 117,
   "metadata": {},
   "outputs": [
    {
     "name": "stdout",
     "output_type": "stream",
     "text": [
      "7\n",
      "걸린시간 0.0010139942169189453\n"
     ]
    }
   ],
   "source": [
    "calc(add, 3,4)"
   ]
  },
  {
   "cell_type": "code",
   "execution_count": 1,
   "metadata": {},
   "outputs": [],
   "source": [
    "import time\n",
    "add = lambda a,b : a+b\n",
    "mul = lambda a,b : a*b\n",
    "c = [1,2]\n",
    "def calc(func, a,b):\n",
    "  start = time.time()\n",
    "  print('연산 시작') # decoration / 시작 시간 저장\n",
    "  for i in range(10000000):\n",
    "    print(func(a,b)) # 주된 기능 / 연산 시간이 많이 걸리는 연산 진행\n",
    "  print('연산 끝')  # decoration / 끝나는 시간 저장\n",
    "  # print('끝시간 - 시작시간 = 얼마나 걸렸는지')\n",
    "  end = time.time()\n",
    "  print(f'걸린 시간 {end-start}')\n",
    "  # 중간에 function만 바뀌고 앞뒤로 다른 처리를 하게 만드는 것이 decoraction pattern이다."
   ]
  },
  {
   "cell_type": "code",
   "execution_count": null,
   "metadata": {},
   "outputs": [],
   "source": [
    "calc(add,1,2)"
   ]
  },
  {
   "cell_type": "code",
   "execution_count": 53,
   "metadata": {},
   "outputs": [
    {
     "data": {
      "text/plain": [
       "'y'"
      ]
     },
     "execution_count": 53,
     "metadata": {},
     "output_type": "execute_result"
    }
   ],
   "source": [
    "# max : 최대값 리턴\n",
    "\n",
    "max([1,2,3])    # 3\n",
    "max('python')   # y -> 사전순"
   ]
  },
  {
   "cell_type": "code",
   "execution_count": 54,
   "metadata": {},
   "outputs": [
    {
     "data": {
      "text/plain": [
       "'h'"
      ]
     },
     "execution_count": 54,
     "metadata": {},
     "output_type": "execute_result"
    }
   ],
   "source": [
    "# min : 최소값 리턴\n",
    "\n",
    "min([1,2,3])    # 1\n",
    "min('python')   # h"
   ]
  },
  {
   "cell_type": "code",
   "execution_count": 55,
   "metadata": {},
   "outputs": [
    {
     "data": {
      "text/plain": [
       "'0o42'"
      ]
     },
     "execution_count": 55,
     "metadata": {},
     "output_type": "execute_result"
    }
   ],
   "source": [
    "# oct : 정수형태의 숫자 8진수 문자열로 바꾸어 리턴\n",
    "\n",
    "oct(34)"
   ]
  },
  {
   "cell_type": "code",
   "execution_count": 56,
   "metadata": {},
   "outputs": [],
   "source": [
    "# open(파일이름, 읽기방법) : 읽기방법 =(w,r,a,wb,rb,ab) default = r\n",
    "\n",
    "f = open('data.csv','r')"
   ]
  },
  {
   "cell_type": "code",
   "execution_count": 63,
   "metadata": {},
   "outputs": [
    {
     "data": {
      "text/plain": [
       "97"
      ]
     },
     "execution_count": 63,
     "metadata": {},
     "output_type": "execute_result"
    }
   ],
   "source": [
    "# ord : 문자의 아스키코드값 리턴\n",
    "\n",
    "ord('a')"
   ]
  },
  {
   "cell_type": "code",
   "execution_count": 64,
   "metadata": {},
   "outputs": [
    {
     "data": {
      "text/plain": [
       "16"
      ]
     },
     "execution_count": 64,
     "metadata": {},
     "output_type": "execute_result"
    }
   ],
   "source": [
    "# pow(x,y) : x의 y제곱(power)한 결과 리턴\n",
    "# 다항식 구현 등에서 사용\n",
    "\n",
    "pow(2,4)"
   ]
  },
  {
   "cell_type": "code",
   "execution_count": 125,
   "metadata": {},
   "outputs": [
    {
     "data": {
      "text/plain": [
       "[0, -1, -2, -3, -4, -5, -6, -7, -8, -9]"
      ]
     },
     "execution_count": 125,
     "metadata": {},
     "output_type": "execute_result"
    }
   ],
   "source": [
    "# range([start],stop,[step]) : 해당 범위의 값 반복가능한 객체로 리턴\n",
    "# default : start=0, step=1\n",
    "# 인수 2개 : step=1\n",
    "\n",
    "list(range(0,-10,-1))"
   ]
  },
  {
   "cell_type": "code",
   "execution_count": 127,
   "metadata": {},
   "outputs": [
    {
     "name": "stdout",
     "output_type": "stream",
     "text": [
      "['e', 'o', 'r', 'z'] zero\n"
     ]
    }
   ],
   "source": [
    "# sorted(iterable) : 원본 복사, 정렬(asc)한 결과 리스트로 리턴 => 원본은 정렬x(원본 보호)\n",
    "\n",
    "z = \"zero\"\n",
    "\n",
    "print(sorted(z), z)\n"
   ]
  },
  {
   "cell_type": "code",
   "execution_count": 133,
   "metadata": {},
   "outputs": [
    {
     "name": "stdout",
     "output_type": "stream",
     "text": [
      "[1, 2, 3] None\n"
     ]
    }
   ],
   "source": [
    "# 리스트의 sort 함수 : 정렬만, 리턴x\n",
    "a = [3,1,2]\n",
    "b = a.sort()\n",
    "print(a, b)"
   ]
  },
  {
   "cell_type": "code",
   "execution_count": 136,
   "metadata": {},
   "outputs": [
    {
     "name": "stdout",
     "output_type": "stream",
     "text": [
      "None\n"
     ]
    },
    {
     "data": {
      "text/plain": [
       "[3, 1, 2]"
      ]
     },
     "execution_count": 136,
     "metadata": {},
     "output_type": "execute_result"
    }
   ],
   "source": [
    "# reverse()는 리턴x ~ sorted에 reverse() 사용불가\n",
    "\n",
    "a = [3,1,2]\n",
    "print(sorted(a).reverse())\n",
    "a"
   ]
  },
  {
   "cell_type": "code",
   "execution_count": 137,
   "metadata": {},
   "outputs": [
    {
     "data": {
      "text/plain": [
       "[3, 2, 1]"
      ]
     },
     "execution_count": 137,
     "metadata": {},
     "output_type": "execute_result"
    }
   ],
   "source": [
    "# 슬라이싱 사용\n",
    "a = [3,1,2]\n",
    "sorted(a)[::-1]     # desc\n",
    "# [처음부터:끝까지:step]"
   ]
  },
  {
   "cell_type": "code",
   "execution_count": 72,
   "metadata": {},
   "outputs": [
    {
     "data": {
      "text/plain": [
       "\"['p', 'y', 't', 'h', 'o', 'n']\""
      ]
     },
     "execution_count": 72,
     "metadata": {},
     "output_type": "execute_result"
    }
   ],
   "source": [
    "# str  : 문자열 형태로 객체변환, 리턴\n",
    "\n",
    "str(3)\n",
    "str(['p', 'y', 't', 'h', 'o', 'n'])"
   ]
  },
  {
   "cell_type": "code",
   "execution_count": 120,
   "metadata": {},
   "outputs": [
    {
     "data": {
      "text/plain": [
       "('a', 'b', 'c')"
      ]
     },
     "execution_count": 120,
     "metadata": {},
     "output_type": "execute_result"
    }
   ],
   "source": [
    "# tuple : iterable한 자료형 받아 튜플로 만들어 리턴\n",
    "\n",
    "tuple(\"abc\")"
   ]
  },
  {
   "cell_type": "code",
   "execution_count": 119,
   "metadata": {},
   "outputs": [
    {
     "data": {
      "text/plain": [
       "str"
      ]
     },
     "execution_count": 119,
     "metadata": {},
     "output_type": "execute_result"
    }
   ],
   "source": [
    "# type : 입력값의 자료형 리턴\n",
    "\n",
    "type(\"abc\")"
   ]
  },
  {
   "attachments": {},
   "cell_type": "markdown",
   "metadata": {},
   "source": [
    "### zip\n",
    "\n",
    "파이썬은 column 단위 데이터 처리\n",
    "\n",
    "-> row 단위 데이터 처리위함"
   ]
  },
  {
   "cell_type": "code",
   "execution_count": 118,
   "metadata": {},
   "outputs": [
    {
     "data": {
      "text/plain": [
       "[(1, 4), (2, 5), (3, 6)]"
      ]
     },
     "execution_count": 118,
     "metadata": {},
     "output_type": "execute_result"
    }
   ],
   "source": [
    "# zip : 동일한 개수로 이루어진 자료형 묶어줌\n",
    "\n",
    "list(zip([1,2,3],[4,5,6]))"
   ]
  },
  {
   "cell_type": "code",
   "execution_count": 11,
   "metadata": {},
   "outputs": [],
   "source": [
    "phonebook = {\n",
    "             'names'      :['홍길동','고길동']\n",
    "            ,'phonenumber':['01011112222','01011113333']\n",
    "            ,'gubun'      :['10','20']\n",
    "            }"
   ]
  },
  {
   "cell_type": "code",
   "execution_count": 13,
   "metadata": {},
   "outputs": [
    {
     "data": {
      "text/plain": [
       "['홍길동', '고길동']"
      ]
     },
     "execution_count": 13,
     "metadata": {},
     "output_type": "execute_result"
    }
   ],
   "source": [
    "phonebook['names']"
   ]
  },
  {
   "cell_type": "code",
   "execution_count": 15,
   "metadata": {},
   "outputs": [
    {
     "data": {
      "text/plain": [
       "dict_keys(['names', 'phonenumber', 'gubun'])"
      ]
     },
     "execution_count": 15,
     "metadata": {},
     "output_type": "execute_result"
    }
   ],
   "source": [
    "phonebook.keys()"
   ]
  },
  {
   "cell_type": "code",
   "execution_count": 143,
   "metadata": {},
   "outputs": [
    {
     "data": {
      "text/plain": [
       "[('홍길동', '01011112222', '10'), ('고길동', '01011113333', '20')]"
      ]
     },
     "execution_count": 143,
     "metadata": {},
     "output_type": "execute_result"
    }
   ],
   "source": [
    "list(zip(phonebook['names'],phonebook['phonenumber'],phonebook['gubun']))"
   ]
  },
  {
   "attachments": {},
   "cell_type": "markdown",
   "metadata": {},
   "source": [
    "---\n",
    "\n",
    "# 2023-04-18"
   ]
  },
  {
   "attachments": {},
   "cell_type": "markdown",
   "metadata": {},
   "source": [
    "## Python 외장함수(외장모듈)"
   ]
  },
  {
   "attachments": {},
   "cell_type": "markdown",
   "metadata": {},
   "source": [
    "Repository(저장소) : 라이브러리의 실질적 정보 가짐\n",
    "- python.org    <- pip install\n",
    "- anaconda.comm <- conda install\n",
    "\n",
    "1. 라이브러리를 repository에 등록\n",
    "2. repository를 통해 라이브러리 install(설치)"
   ]
  },
  {
   "attachments": {},
   "cell_type": "markdown",
   "metadata": {},
   "source": [
    "파이썬 설치될때 내장함수, 외장모듈 설치됨.\n",
    "외장모듈을 사용하려면 import 필요\n",
    "\n",
    "외부모듈 사용시에는 모듈 추가 설치 후 import 필요"
   ]
  },
  {
   "cell_type": "code",
   "execution_count": 7,
   "metadata": {},
   "outputs": [
    {
     "data": {
      "text/plain": [
       "['c:\\\\big16\\\\python-dev',\n",
       " 'c:\\\\Users\\\\user\\\\anaconda3\\\\envs\\\\test\\\\python310.zip',\n",
       " 'c:\\\\Users\\\\user\\\\anaconda3\\\\envs\\\\test\\\\DLLs',\n",
       " 'c:\\\\Users\\\\user\\\\anaconda3\\\\envs\\\\test\\\\lib',\n",
       " 'c:\\\\Users\\\\user\\\\anaconda3\\\\envs\\\\test',\n",
       " '',\n",
       " 'c:\\\\Users\\\\user\\\\anaconda3\\\\envs\\\\test\\\\lib\\\\site-packages',\n",
       " 'c:\\\\Users\\\\user\\\\anaconda3\\\\envs\\\\test\\\\lib\\\\site-packages\\\\win32',\n",
       " 'c:\\\\Users\\\\user\\\\anaconda3\\\\envs\\\\test\\\\lib\\\\site-packages\\\\win32\\\\lib',\n",
       " 'c:\\\\Users\\\\user\\\\anaconda3\\\\envs\\\\test\\\\lib\\\\site-packages\\\\Pythonwin']"
      ]
     },
     "execution_count": 7,
     "metadata": {},
     "output_type": "execute_result"
    }
   ],
   "source": [
    "# sys module    (=> system = computer)\n",
    "# VM(=파이썬 인터프리터)가 제공하는 변수,함수들 제어 지원\n",
    "\n",
    "# 강제로 스크립트 종료하기 : sys.exit()\n",
    "# 외부 라이브러리 저장 경로 : sys.path \n",
    "\n",
    "import sys\n",
    "\n",
    "sys.path"
   ]
  },
  {
   "attachments": {},
   "cell_type": "markdown",
   "metadata": {},
   "source": [
    "### ***pickle module***\n",
    "\n",
    "object의 형태를 그대로 유지하면서 파일에 저장하고 불러올 수 있게하는 모듈\n",
    "\n",
    "- 저장 : dump\n",
    "\n",
    "- 불러오기 : load\n",
    "\n",
    "=> 파일 생성X\n",
    "\n",
    "object는 이진수파일 ~ b모드 필수\n",
    "\n",
    ": list, tuple, dictionary, dataframe"
   ]
  },
  {
   "cell_type": "code",
   "execution_count": 5,
   "metadata": {},
   "outputs": [],
   "source": [
    "# pickle module\n",
    "\n",
    "\n",
    "import pickle\n",
    "\n",
    "f = open('test.pickle','wb')\n",
    "data = {1:'python',2:'you need'}    # dict object\n",
    "pickle.dump(data,f)\n",
    "f.close()"
   ]
  },
  {
   "cell_type": "code",
   "execution_count": 4,
   "metadata": {},
   "outputs": [
    {
     "name": "stdout",
     "output_type": "stream",
     "text": [
      "{1: 'python', 2: 'you need'}\n"
     ]
    }
   ],
   "source": [
    "import pickle\n",
    "\n",
    "f = open('test.pickle','rb')\n",
    "data = pickle.load(f)\n",
    "print(data)"
   ]
  },
  {
   "cell_type": "code",
   "execution_count": 17,
   "metadata": {},
   "outputs": [
    {
     "data": {
      "text/plain": [
       "'c:\\\\big16\\\\python-dev'"
      ]
     },
     "execution_count": 17,
     "metadata": {},
     "output_type": "execute_result"
    }
   ],
   "source": [
    "# os module\n",
    "\n",
    "import os\n",
    "\n",
    "# os.environ : 시스템 환경변수값\n",
    "# os.environ['PATH']\n",
    "# os.chdir() : 디렉토리 위치 변경하기\n",
    "#*** os.getcwd() : 디렉토리 위치 리턴받기 *** cwd = 현재작업디렉토리\n",
    "# os.system('도스명령') : 운영체제 명령어 호출하기\n",
    "# os.popen('도스명령') : 실행한 시스템(운영체제) 명령어의 결과값 리턴받기\n",
    "\n",
    "# os.mkdir(디렉토리) : 디렉토리 생성\n",
    "# os.rmdir(디렉토리) : 디렉토리 삭제\n",
    "# os.unlink(파일) : 파일삭제\n",
    "# os.rename(src, dst) : src라는 이름의 파일을 dst라는 이름으로 바꿈\n",
    "\n",
    "os.getcwd()"
   ]
  },
  {
   "attachments": {},
   "cell_type": "markdown",
   "metadata": {},
   "source": [
    "파일 시스템 : FAT = File Allocation Table"
   ]
  },
  {
   "cell_type": "code",
   "execution_count": 20,
   "metadata": {},
   "outputs": [
    {
     "data": {
      "text/plain": [
       "'dst.txt'"
      ]
     },
     "execution_count": 20,
     "metadata": {},
     "output_type": "execute_result"
    }
   ],
   "source": [
    "# shutil modul : 파일복사\n",
    "# shutil.copy(src,dst)\n",
    "\n",
    "import shutil\n",
    "\n",
    "shutil.copy(\"foo.txt\",'dst.txt')"
   ]
  },
  {
   "attachments": {},
   "cell_type": "markdown",
   "metadata": {},
   "source": [
    "### ***glob module***"
   ]
  },
  {
   "cell_type": "code",
   "execution_count": 21,
   "metadata": {},
   "outputs": [
    {
     "data": {
      "text/plain": [
       "['.\\\\capstone2.ipynb',\n",
       " '.\\\\ch01ch02.ipynb',\n",
       " '.\\\\ch03.ipynb',\n",
       " '.\\\\ch04.ipynb',\n",
       " '.\\\\ch05.ipynb',\n",
       " '.\\\\class_extend.ipynb',\n",
       " '.\\\\data.csv',\n",
       " '.\\\\dst.txt',\n",
       " '.\\\\foo.txt',\n",
       " '.\\\\game',\n",
       " '.\\\\inputtest.py',\n",
       " '.\\\\modules',\n",
       " '.\\\\output.csv',\n",
       " '.\\\\sys1.py',\n",
       " '.\\\\test.csv',\n",
       " '.\\\\test.pickle',\n",
       " '.\\\\test.py',\n",
       " '.\\\\testfile.ipynb',\n",
       " '.\\\\testtsv.csv',\n",
       " '.\\\\vartest.py',\n",
       " '.\\\\__pycache__',\n",
       " '.\\\\새파일.txt']"
      ]
     },
     "execution_count": 21,
     "metadata": {},
     "output_type": "execute_result"
    }
   ],
   "source": [
    "# glob module\n",
    "\n",
    "# glob(pathname) : 디렉토리에 있는 파일들을 리스트로 만들기\n",
    "\n",
    "import glob\n",
    "\n",
    "glob.glob('./*')    # 리스트로 리턴 ~ iterable함"
   ]
  },
  {
   "cell_type": "code",
   "execution_count": 22,
   "metadata": {},
   "outputs": [
    {
     "data": {
      "text/plain": [
       "'C:\\\\Users\\\\Public\\\\Documents\\\\ESTsoft\\\\CreatorTemp\\\\tmpe7hvkv12'"
      ]
     },
     "execution_count": 22,
     "metadata": {},
     "output_type": "execute_result"
    }
   ],
   "source": [
    "# tempfile module : 임시 파일의 이름을 무작위로 만들어서 리턴\n",
    "\n",
    "import tempfile\n",
    "\n",
    "filename = tempfile.mkdtemp()\n",
    "filename"
   ]
  },
  {
   "cell_type": "code",
   "execution_count": 24,
   "metadata": {},
   "outputs": [],
   "source": [
    "f = tempfile.TemporaryFile() # 임시파일 생성, close()하면 임시파일 삭제됨\n",
    "f.close()"
   ]
  },
  {
   "attachments": {},
   "cell_type": "markdown",
   "metadata": {},
   "source": [
    "### ***time***"
   ]
  },
  {
   "cell_type": "code",
   "execution_count": 27,
   "metadata": {},
   "outputs": [
    {
     "data": {
      "text/plain": [
       "1681788722.8618438"
      ]
     },
     "execution_count": 27,
     "metadata": {},
     "output_type": "execute_result"
    }
   ],
   "source": [
    "# time module\n",
    "import time\n",
    "time.time()   # 현재시간 리턴/ 1970년 1월1일 0시0분0초 기준 초단위 지난시간"
   ]
  },
  {
   "cell_type": "code",
   "execution_count": 39,
   "metadata": {},
   "outputs": [
    {
     "data": {
      "text/plain": [
       "time.struct_time(tm_year=2023, tm_mon=4, tm_mday=18, tm_hour=13, tm_min=50, tm_sec=7, tm_wday=1, tm_yday=108, tm_isdst=0)"
      ]
     },
     "execution_count": 39,
     "metadata": {},
     "output_type": "execute_result"
    }
   ],
   "source": [
    "time.localtime() # 현재시간 추출, 연월일시분초로 변환"
   ]
  },
  {
   "cell_type": "code",
   "execution_count": 4,
   "metadata": {},
   "outputs": [
    {
     "data": {
      "text/plain": [
       "(4, 18)"
      ]
     },
     "execution_count": 4,
     "metadata": {},
     "output_type": "execute_result"
    }
   ],
   "source": [
    "t = time.localtime()\n",
    "t.tm_mon,t.tm_mday"
   ]
  },
  {
   "cell_type": "code",
   "execution_count": 50,
   "metadata": {},
   "outputs": [
    {
     "data": {
      "text/plain": [
       "'Tue Apr 18 14:05:05 2023'"
      ]
     },
     "execution_count": 50,
     "metadata": {},
     "output_type": "execute_result"
    }
   ],
   "source": [
    "time.asctime(t) # 알아보기 쉽게 변환\n",
    "# 요일 월 일 시:분:초 연도"
   ]
  },
  {
   "cell_type": "code",
   "execution_count": 46,
   "metadata": {},
   "outputs": [
    {
     "data": {
      "text/plain": [
       "'Tue Apr 18 14:05:53 2023'"
      ]
     },
     "execution_count": 46,
     "metadata": {},
     "output_type": "execute_result"
    }
   ],
   "source": [
    "time.ctime()    # 현재시간 알아보기 쉽게 변환, 출력"
   ]
  },
  {
   "cell_type": "code",
   "execution_count": 5,
   "metadata": {},
   "outputs": [
    {
     "data": {
      "text/plain": [
       "'2023-04-18 | 18:55:15'"
      ]
     },
     "execution_count": 5,
     "metadata": {},
     "output_type": "execute_result"
    }
   ],
   "source": [
    "# strftime = stringfortime 자주 씀\n",
    "time.strftime('%Y-%m-%d | %H:%M:%S',t)\n",
    "\n",
    "# %w : 숫자요일(0(일요일)~6)"
   ]
  },
  {
   "cell_type": "code",
   "execution_count": 63,
   "metadata": {},
   "outputs": [
    {
     "name": "stdout",
     "output_type": "stream",
     "text": [
      "1\n",
      "2\n",
      "3\n",
      "4\n",
      "5\n"
     ]
    }
   ],
   "source": [
    "# time.sleep()\n",
    "\n",
    "for i in range(5):\n",
    "    print(i+1)\n",
    "    time.sleep(1)   # 1초간격으로 숫자 출력"
   ]
  },
  {
   "cell_type": "code",
   "execution_count": 51,
   "metadata": {},
   "outputs": [
    {
     "data": {
      "text/plain": [
       "datetime.datetime(2023, 4, 18, 14, 29, 1, 643827)"
      ]
     },
     "execution_count": 51,
     "metadata": {},
     "output_type": "execute_result"
    }
   ],
   "source": [
    "# datetime package\n",
    "import datetime as dt\n",
    "\n",
    "#    package.module.function\n",
    "ct = dt.datetime.now()\n",
    "ct\n",
    "# module.class(year,month,day,hour,minute,second,microsecond)"
   ]
  },
  {
   "cell_type": "code",
   "execution_count": 53,
   "metadata": {},
   "outputs": [
    {
     "data": {
      "text/plain": [
       "(4, 18)"
      ]
     },
     "execution_count": 53,
     "metadata": {},
     "output_type": "execute_result"
    }
   ],
   "source": [
    "ct.month, ct.day"
   ]
  },
  {
   "cell_type": "code",
   "execution_count": 57,
   "metadata": {},
   "outputs": [
    {
     "data": {
      "text/plain": [
       "1"
      ]
     },
     "execution_count": 57,
     "metadata": {},
     "output_type": "execute_result"
    }
   ],
   "source": [
    "#요일(0:월~6)\n",
    "ct.weekday()"
   ]
  },
  {
   "cell_type": "code",
   "execution_count": 60,
   "metadata": {},
   "outputs": [
    {
     "name": "stdout",
     "output_type": "stream",
     "text": [
      "2023-04-18 14:29:01.643827\n"
     ]
    }
   ],
   "source": [
    "print(ct.date(), ct.time())"
   ]
  },
  {
   "cell_type": "code",
   "execution_count": 62,
   "metadata": {},
   "outputs": [
    {
     "data": {
      "text/plain": [
       "'2023-04-18 | 14:29:01'"
      ]
     },
     "execution_count": 62,
     "metadata": {},
     "output_type": "execute_result"
    }
   ],
   "source": [
    "ct.strftime('%Y-%m-%d | %H:%M:%S')"
   ]
  },
  {
   "cell_type": "code",
   "execution_count": null,
   "metadata": {},
   "outputs": [],
   "source": [
    "# calender module ~ 잘안씀"
   ]
  },
  {
   "attachments": {},
   "cell_type": "markdown",
   "metadata": {},
   "source": [
    "### ***random***"
   ]
  },
  {
   "cell_type": "code",
   "execution_count": 8,
   "metadata": {},
   "outputs": [
    {
     "data": {
      "text/plain": [
       "0.6828683536927423"
      ]
     },
     "execution_count": 8,
     "metadata": {},
     "output_type": "execute_result"
    }
   ],
   "source": [
    "# random module\n",
    "\n",
    "import random as r\n",
    "\n",
    "r.random()"
   ]
  },
  {
   "cell_type": "code",
   "execution_count": 5,
   "metadata": {},
   "outputs": [
    {
     "data": {
      "text/plain": [
       "16"
      ]
     },
     "execution_count": 5,
     "metadata": {},
     "output_type": "execute_result"
    }
   ],
   "source": [
    "r.randint(1,45)"
   ]
  },
  {
   "cell_type": "code",
   "execution_count": 6,
   "metadata": {},
   "outputs": [],
   "source": [
    "def random_pop(data):\n",
    "    idx = r.randint(0,len(data)-1)\n",
    "    return data.pop(idx)"
   ]
  },
  {
   "cell_type": "code",
   "execution_count": 9,
   "metadata": {},
   "outputs": [
    {
     "name": "stdout",
     "output_type": "stream",
     "text": [
      "4\n",
      "2\n",
      "5\n",
      "1\n",
      "3\n"
     ]
    }
   ],
   "source": [
    "if __name__ == '__main__':\n",
    "    data = [1,2,3,4,5]\n",
    "    while data: \n",
    "        print(random_pop(data))"
   ]
  },
  {
   "cell_type": "code",
   "execution_count": 39,
   "metadata": {},
   "outputs": [
    {
     "name": "stdout",
     "output_type": "stream",
     "text": [
      "27\n",
      "11\n",
      "13\n",
      "9\n",
      "29\n"
     ]
    }
   ],
   "source": [
    "# 비복원 추출\n",
    "\n",
    "import random\n",
    "\n",
    "data = list(range(1,46))\n",
    "\n",
    "for i in range(5):\n",
    "    idx = random.randint(0,len(data)-1)\n",
    "    print(data.pop(idx))\n"
   ]
  },
  {
   "cell_type": "code",
   "execution_count": 38,
   "metadata": {},
   "outputs": [
    {
     "data": {
      "text/plain": [
       "[18, 27, 22, 26, 6, 5]"
      ]
     },
     "execution_count": 38,
     "metadata": {},
     "output_type": "execute_result"
    }
   ],
   "source": [
    "# 복원추출\n",
    "\n",
    "# choice() function : 선택\n",
    "# dataList = [1,2,3,4,5]\n",
    "\n",
    "def random_pop(dataList):\n",
    "    number = random.choice(dataList)\n",
    "    dataList.remove(number) #삭제 => 비복원\n",
    "    return number\n",
    "\n",
    "data = list(range(1,46))\n",
    "result=[]\n",
    "\n",
    "while data:\n",
    "    result.append(random_pop(data))\n",
    "result[:6]\n"
   ]
  },
  {
   "cell_type": "code",
   "execution_count": 45,
   "metadata": {},
   "outputs": [
    {
     "name": "stdout",
     "output_type": "stream",
     "text": [
      "41\n",
      "[6, 34, 12, 7, 5, 34]\n",
      "[35, 6, 38, 28, 3, 2]\n"
     ]
    }
   ],
   "source": [
    "random.seed(42) #random 결과 고정\n",
    "lotto = range(1,46)\n",
    "print(random.choice(lotto))         # 단일값 복원 추출\n",
    "print(random.choices(lotto, k=6))   # 복원 추출\n",
    "print(random.sample(lotto, k=6))    # 비복원 추출"
   ]
  },
  {
   "cell_type": "code",
   "execution_count": 10,
   "metadata": {},
   "outputs": [
    {
     "name": "stdout",
     "output_type": "stream",
     "text": [
      "\u001b[1;31mSignature:\u001b[0m \u001b[0mr\u001b[0m\u001b[1;33m.\u001b[0m\u001b[0mchoices\u001b[0m\u001b[1;33m(\u001b[0m\u001b[0mpopulation\u001b[0m\u001b[1;33m,\u001b[0m \u001b[0mweights\u001b[0m\u001b[1;33m=\u001b[0m\u001b[1;32mNone\u001b[0m\u001b[1;33m,\u001b[0m \u001b[1;33m*\u001b[0m\u001b[1;33m,\u001b[0m \u001b[0mcum_weights\u001b[0m\u001b[1;33m=\u001b[0m\u001b[1;32mNone\u001b[0m\u001b[1;33m,\u001b[0m \u001b[0mk\u001b[0m\u001b[1;33m=\u001b[0m\u001b[1;36m1\u001b[0m\u001b[1;33m)\u001b[0m\u001b[1;33m\u001b[0m\u001b[1;33m\u001b[0m\u001b[0m\n",
      "\u001b[1;31mDocstring:\u001b[0m\n",
      "Return a k sized list of population elements chosen with replacement.\n",
      "\n",
      "If the relative weights or cumulative weights are not specified,\n",
      "the selections are made with equal probability.\n",
      "\u001b[1;31mFile:\u001b[0m      c:\\users\\user\\anaconda3\\envs\\test\\lib\\random.py\n",
      "\u001b[1;31mType:\u001b[0m      method"
     ]
    }
   ],
   "source": [
    "r.choices?"
   ]
  },
  {
   "cell_type": "code",
   "execution_count": 40,
   "metadata": {},
   "outputs": [
    {
     "data": {
      "text/plain": [
       "[3, 4, 1, 2]"
      ]
     },
     "execution_count": 40,
     "metadata": {},
     "output_type": "execute_result"
    }
   ],
   "source": [
    "# random.shuffle : 무작위 섞기\n",
    "\n",
    "data = [1,2,3,4]\n",
    "random.shuffle(data)\n",
    "data\n"
   ]
  },
  {
   "cell_type": "code",
   "execution_count": 47,
   "metadata": {},
   "outputs": [
    {
     "data": {
      "text/plain": [
       "True"
      ]
     },
     "execution_count": 47,
     "metadata": {},
     "output_type": "execute_result"
    }
   ],
   "source": [
    "# webbrowser module 사용x\n",
    "\n",
    "import webbrowser as web\n",
    "\n",
    "web.open(\"http://www.naver.com\")\n",
    "\n",
    "# selenium 사용 => 브라우저 제어\n"
   ]
  },
  {
   "attachments": {},
   "cell_type": "markdown",
   "metadata": {},
   "source": [
    "### ***threading***"
   ]
  },
  {
   "attachments": {},
   "cell_type": "markdown",
   "metadata": {},
   "source": [
    "컴퓨터를 동작하고 있는 프로그램을 프로세스(process), \n",
    "보통 1개의 프로세스는 1가지 일만 수행, \n",
    "\n",
    "스레드를 이용하면 한 프로세스 내에서 2가지 이상의 일 수행 가능\n",
    "\n",
    "스레드는 stack 영역에 메모리block을 여러개 만듬 => 1개 프로세스\n",
    "=> 멀티스레드"
   ]
  },
  {
   "cell_type": "code",
   "execution_count": null,
   "metadata": {},
   "outputs": [],
   "source": [
    "# threading module\n",
    "\n",
    "import threading\n",
    "import time\n",
    "\n",
    "def say(msg):\n",
    "    while True:\n",
    "        time.sleep(1)\n",
    "        print(msg)\n",
    "\n",
    "# sub thread 3개 생성, 시작 \n",
    "for msg in ['you','need','python']:\n",
    "    t = threading.Thread(target = say, args=(msg,))\n",
    "                            #args: 하나만 들어가도 튜플로 줘야함=> , 필수\n",
    "    t.daemon = True         # 셀에서는 daemon안먹음 <= main살아있음\n",
    "    t.start()               # thread 실행(시작)\n",
    "\n",
    "# main thread\n",
    "for i in range(100):\n",
    "    time.sleep(0.1)\n",
    "    print(i)\n",
    "\n",
    "# ===> test.py"
   ]
  },
  {
   "attachments": {},
   "cell_type": "markdown",
   "metadata": {},
   "source": [
    "daemon 스레드 : 메인 스레드가 종료되면 같이 종료되는 스레드\n",
    "\n",
    "서브스레드는 메인스레드가 종료되어도 계속 실행됨\n",
    "\n",
    "프로세스 내 스레드가 하나라도 살아있으면 프로세스가 종료되지 않아 서브스레드 계속 실행됨 => 셀 종료x\n",
    "\n",
    "서브스레드에 데몬을 부여하여 메인스레드에 종속시켜\n",
    "메인스레드가 종료될 때 서브스레드도 종료되게함\n",
    "\n",
    "notebook에서 멀티스레드 실행 시 메인 스레드가 종료되지않아 데몬스레드도 종료x\n",
    "\n",
    "=> .py 파일에서 실행"
   ]
  },
  {
   "cell_type": "code",
   "execution_count": 1,
   "metadata": {},
   "outputs": [],
   "source": [
    "import threading"
   ]
  },
  {
   "cell_type": "code",
   "execution_count": 3,
   "metadata": {},
   "outputs": [
    {
     "name": "stdout",
     "output_type": "stream",
     "text": [
      "\u001b[1;31mType:\u001b[0m        property\n",
      "\u001b[1;31mString form:\u001b[0m <property object at 0x000001697F651DA0>\n",
      "\u001b[1;31mDocstring:\u001b[0m  \n",
      "A boolean value indicating whether this thread is a daemon thread.\n",
      "\n",
      "This must be set before start() is called, otherwise RuntimeError is\n",
      "raised. Its initial value is inherited from the creating thread; the\n",
      "main thread is not a daemon thread and therefore all threads created in\n",
      "the main thread default to daemon = False.\n",
      "\n",
      "The entire Python program exits when only daemon threads are left."
     ]
    }
   ],
   "source": [
    "threading.Thread.daemon?"
   ]
  },
  {
   "cell_type": "code",
   "execution_count": null,
   "metadata": {},
   "outputs": [],
   "source": []
  },
  {
   "cell_type": "code",
   "execution_count": null,
   "metadata": {},
   "outputs": [],
   "source": []
  }
 ],
 "metadata": {
  "kernelspec": {
   "display_name": "test",
   "language": "python",
   "name": "python3"
  },
  "language_info": {
   "codemirror_mode": {
    "name": "ipython",
    "version": 3
   },
   "file_extension": ".py",
   "mimetype": "text/x-python",
   "name": "python",
   "nbconvert_exporter": "python",
   "pygments_lexer": "ipython3",
   "version": "3.10.10"
  },
  "orig_nbformat": 4
 },
 "nbformat": 4,
 "nbformat_minor": 2
}
