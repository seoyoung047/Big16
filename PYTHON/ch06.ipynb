{
 "cells": [
  {
   "attachments": {},
   "cell_type": "markdown",
   "metadata": {},
   "source": [
    "# 2023-04-19\n",
    "\n",
    "---\n",
    "\n",
    "## 정규 표현식(정규식)\n",
    "\n",
    ": 패턴을 만들어 필터링 => 복잡한 문자열을 처리"
   ]
  },
  {
   "cell_type": "code",
   "execution_count": 107,
   "metadata": {},
   "outputs": [],
   "source": [
    "# 주민등록번호 형식인지 조사, \n",
    "# 주민등록번호 뒷자리를 *로 변환하기\n",
    "\n",
    "data = '''\n",
    "park 800905-1049118\n",
    "kim 700905-1059119\n",
    "'''"
   ]
  },
  {
   "cell_type": "code",
   "execution_count": 2,
   "metadata": {},
   "outputs": [
    {
     "name": "stdout",
     "output_type": "stream",
     "text": [
      "\n",
      "park 800905-*******\n",
      "kim 700905-*******\n",
      "\n"
     ]
    }
   ],
   "source": [
    "# 정규식x\n",
    "\n",
    "result = []\n",
    "for line in data.split(\"\\n\"):       # 한줄씩 자르기\n",
    "    word_result = []\n",
    "\n",
    "    for word in line.split(\" \"):    # 이름, 주민등록번호 부분 자르기\n",
    "\n",
    "        if len(word) == 14 and word[:6].isdigit() and word[7:].isdigit(): # 주민등록번호 형식인지 조사\n",
    "            word = word[:6] + \"-\" + \"*******\"   # 뒷자리 *******로 변경'\n",
    "\n",
    "        word_result.append(word)            # word_result = ['park','800905-*******']\n",
    "\n",
    "    result.append(\" \".join(word_result))    # \" \".join(list) : list의 문자열합치기\n",
    "\n",
    "print(\"\\n\".join(result))    # result = ['park 800905-*******','kim 700905-*******']\n"
   ]
  },
  {
   "cell_type": "code",
   "execution_count": 3,
   "metadata": {},
   "outputs": [
    {
     "name": "stdout",
     "output_type": "stream",
     "text": [
      "\n",
      "park 800905-*******\n",
      "kim 700905-*******\n",
      "\n"
     ]
    }
   ],
   "source": [
    "# 정규식\n",
    "\n",
    "import re\n",
    "\n",
    "#                  \\d:숫자{자리수}\n",
    "pat = re.compile(\"(\\d{6})[-]\\d{7}\")     # .compile(패턴) => 정규식\n",
    "print(pat.sub(\"\\g<1>-*******\",data))    "
   ]
  },
  {
   "cell_type": "code",
   "execution_count": 110,
   "metadata": {},
   "outputs": [
    {
     "name": "stdout",
     "output_type": "stream",
     "text": [
      "\n",
      "park 800905-*******\n",
      "kim 700905-*******\n",
      "\n"
     ]
    }
   ],
   "source": [
    "pat = re.compile(\"(\\d+)[-]\\d+\")     \n",
    "print(pat.sub(\"\\g<1>-*******\",data)) "
   ]
  },
  {
   "attachments": {},
   "cell_type": "markdown",
   "metadata": {},
   "source": [
    "### **메타 문자**\n",
    "\n",
    "* .  ^  $  *  +  ?  {}  []  \\  |  ()"
   ]
  },
  {
   "attachments": {},
   "cell_type": "markdown",
   "metadata": {},
   "source": [
    " #### ***문자 클래스 []***\n",
    " = 한 자 선택(패턴/통과)\n",
    " \n",
    " 한 자 -> [어떤 문자든 들어갈 수 있다] -> 한 자\n",
    " \n",
    "\n",
    "\n",
    " ex1)\n",
    "\n",
    "[abc]  : a or b or c 이면 통과\n",
    "\n",
    "        -> \"a\"      => \"a\"\n",
    "        -> \"before\" => \"b\"\n",
    "\n",
    "ex2)  -\n",
    "\n",
    "[0-9]       : 0부터 9까지(0 or 1 or 2 or 3 or ... or 9)\n",
    "\n",
    "        [0-9]{6} => 6자리 모두 숫자인 것만 통과\n",
    "\n",
    "[a-zA-Z]    : a부터z, A부터Z\n",
    "\n",
    "[가-힣]     : 한글\n",
    "\n",
    "ex3)  ^     : not\n",
    "\n",
    "[^0-9]"
   ]
  },
  {
   "attachments": {},
   "cell_type": "markdown",
   "metadata": {},
   "source": [
    "#### **많이 사용하는 문자 클래스**\n",
    "\n",
    "* \\d    : [0-9]\n",
    "\n",
    "* \\D    : [^0-9]\n",
    "\n",
    "* \\s    : [\\t\\n\\r\\g\\v] :: whitespace(tab,newline,커서이동...) 문자와 매치(공백 포함)\n",
    "\n",
    "* \\S    : [^\\t\\n\\r\\g\\v] :: whitespace 문자가 아닌 것과 매치\n",
    "\n",
    "* \\w    : [a-zA-Z0-9]\n",
    "\n",
    "* \\W    :[^a-zA-Z0-9]"
   ]
  },
  {
   "attachments": {},
   "cell_type": "markdown",
   "metadata": {},
   "source": [
    "#### ***Dot(.)***\n",
    ": \\n(줄바꿈) 제외 모든 문자와 매칭\n",
    "\n",
    "\n"
   ]
  },
  {
   "attachments": {},
   "cell_type": "markdown",
   "metadata": {},
   "source": [
    "* a.b :   a + 모든 문자 + b => 총 3자\n",
    "\n",
    "        <- aab, a0b, acb\n",
    "\n",
    "! a[.]b : a.b만 가능"
   ]
  },
  {
   "attachments": {},
   "cell_type": "markdown",
   "metadata": {},
   "source": [
    "#### ***반복***"
   ]
  },
  {
   "attachments": {},
   "cell_type": "markdown",
   "metadata": {},
   "source": [
    "##### 1. *\n",
    "\n",
    "* ca*t     :   c로 시작 t로 끝, a반복\n",
    "\n",
    "        -> ct, cat, caaaaaaat\n",
    "\n",
    "        ( * : 0 ~ 무한대 개)"
   ]
  },
  {
   "attachments": {},
   "cell_type": "markdown",
   "metadata": {},
   "source": [
    "##### 2. +\n",
    "\n",
    "* ca+t\n",
    "        -> cat, caaaaaat\n",
    "\n",
    "        ( + : 1 ~ 무한대 개)"
   ]
  },
  {
   "attachments": {},
   "cell_type": "markdown",
   "metadata": {},
   "source": [
    "##### 3. {m,n}\n",
    "\n",
    ": {m} : m개     |     {m,n} : m~n개\n",
    "\n",
    "* ca{2}t : caat\n",
    "\n",
    "* ca{2,4}t : caat, caaat, caaaat : a 2~4개\n"
   ]
  },
  {
   "attachments": {},
   "cell_type": "markdown",
   "metadata": {},
   "source": [
    "#### 4. ?\n",
    "\n",
    ": 0 아니면 1개  \n",
    "\n",
    "* ab?c : ac, abc"
   ]
  },
  {
   "attachments": {},
   "cell_type": "markdown",
   "metadata": {},
   "source": [
    "### ***re 모듈***"
   ]
  },
  {
   "cell_type": "code",
   "execution_count": 4,
   "metadata": {},
   "outputs": [],
   "source": [
    "import re\n",
    "p = re.compile('ab*')   #틀생성(정규식) : pattern object"
   ]
  },
  {
   "attachments": {},
   "cell_type": "markdown",
   "metadata": {},
   "source": [
    "#### 정규식을 이용한 문자열 검색\n",
    "\n",
    "* match()   : 문자열의 처음부터 정규식과 매칭되는지 조사                 => match object\n",
    "\n",
    "* search()  : 문자열 전체를 검색하여 정규식과 매칭되는지 조사            => match object\n",
    "\n",
    "* **findall()** : 정규식과 매치되는 모든 문자열을 리스트로 리턴 => list\n",
    "\n",
    "* finditer()    : 정규식과 매치되는 모든 문자열을 iterator object로 리턴  => match object  "
   ]
  },
  {
   "cell_type": "code",
   "execution_count": 7,
   "metadata": {},
   "outputs": [],
   "source": [
    "import re\n",
    "p = re.compile('[a-z]+')    # 소문자 알파벳 한개 이상"
   ]
  },
  {
   "attachments": {},
   "cell_type": "markdown",
   "metadata": {},
   "source": [
    "#### ***match()***"
   ]
  },
  {
   "cell_type": "code",
   "execution_count": 10,
   "metadata": {},
   "outputs": [
    {
     "name": "stdout",
     "output_type": "stream",
     "text": [
      "<re.Match object; span=(0, 2), match='py'>\n"
     ]
    }
   ],
   "source": [
    "# match()\n",
    "\n",
    "m = p.match(\"pyThon\")\n",
    "print(m)"
   ]
  },
  {
   "cell_type": "code",
   "execution_count": 26,
   "metadata": {},
   "outputs": [
    {
     "name": "stdout",
     "output_type": "stream",
     "text": [
      "None\n"
     ]
    }
   ],
   "source": [
    "m = p.match(\"3 pyThon\")\n",
    "print(m)"
   ]
  },
  {
   "cell_type": "code",
   "execution_count": 27,
   "metadata": {},
   "outputs": [
    {
     "name": "stdout",
     "output_type": "stream",
     "text": [
      "match found :  string\n"
     ]
    }
   ],
   "source": [
    "# 매칭 결과 추출 -> group()\n",
    "\n",
    "p = re.compile('[a-z]+')\n",
    "m = p.match('string goes here')\n",
    "\n",
    "if m :\n",
    "    print(\"match found : \", m.group())\n",
    "else :\n",
    "    print(\"No match\")"
   ]
  },
  {
   "attachments": {},
   "cell_type": "markdown",
   "metadata": {},
   "source": [
    "***match object의 메소드***\n",
    "\n",
    "* group() : 매치된 문자열 리턴\n",
    "* start() : 매치된 문자열의 시작위치 리턴\n",
    "* end() : 매치된 문자열의 끝 위치 리턴\n",
    "* span() : 매치된 문자열의 (시작,끝)에 해당되는 튜플을 리턴"
   ]
  },
  {
   "cell_type": "code",
   "execution_count": 50,
   "metadata": {},
   "outputs": [
    {
     "data": {
      "text/plain": [
       "'python'"
      ]
     },
     "execution_count": 50,
     "metadata": {},
     "output_type": "execute_result"
    }
   ],
   "source": [
    "p = re.compile('[a-z]+')\n",
    "m = p.match(\"python\")\n",
    "m.group()"
   ]
  },
  {
   "cell_type": "code",
   "execution_count": 51,
   "metadata": {},
   "outputs": [
    {
     "data": {
      "text/plain": [
       "0"
      ]
     },
     "execution_count": 51,
     "metadata": {},
     "output_type": "execute_result"
    }
   ],
   "source": [
    "m.start()"
   ]
  },
  {
   "cell_type": "code",
   "execution_count": 52,
   "metadata": {},
   "outputs": [
    {
     "data": {
      "text/plain": [
       "6"
      ]
     },
     "execution_count": 52,
     "metadata": {},
     "output_type": "execute_result"
    }
   ],
   "source": [
    "m.end()"
   ]
  },
  {
   "cell_type": "code",
   "execution_count": 53,
   "metadata": {},
   "outputs": [
    {
     "data": {
      "text/plain": [
       "(0, 6)"
      ]
     },
     "execution_count": 53,
     "metadata": {},
     "output_type": "execute_result"
    }
   ],
   "source": [
    "m.span()"
   ]
  },
  {
   "attachments": {},
   "cell_type": "markdown",
   "metadata": {},
   "source": [
    "```python\n",
    "p = re.compile('[a-z]+')\n",
    "m = p.match(\"python\")\n",
    "```\n",
    "-> 축약\n",
    "```\n",
    "m = p.match('[a-z]+','python')\n",
    "```"
   ]
  },
  {
   "attachments": {},
   "cell_type": "markdown",
   "metadata": {},
   "source": [
    "#### ***search()***"
   ]
  },
  {
   "cell_type": "code",
   "execution_count": 16,
   "metadata": {},
   "outputs": [
    {
     "name": "stdout",
     "output_type": "stream",
     "text": [
      "<re.Match object; span=(0, 2), match='py'>\n"
     ]
    }
   ],
   "source": [
    "# search()\n",
    "\n",
    "m = p.search(\"pyThon\")\n",
    "print(m)"
   ]
  },
  {
   "cell_type": "code",
   "execution_count": 24,
   "metadata": {},
   "outputs": [
    {
     "name": "stdout",
     "output_type": "stream",
     "text": [
      "<re.Match object; span=(2, 4), match='py'>\n"
     ]
    }
   ],
   "source": [
    "m = p.search(\"3 pyThon\")\n",
    "print(m)"
   ]
  },
  {
   "attachments": {},
   "cell_type": "markdown",
   "metadata": {},
   "source": [
    "#### ***findall()***"
   ]
  },
  {
   "cell_type": "code",
   "execution_count": 35,
   "metadata": {},
   "outputs": [
    {
     "name": "stdout",
     "output_type": "stream",
     "text": [
      "['life', 'is', 'too', 'short']\n"
     ]
    }
   ],
   "source": [
    "# findall()\n",
    "\n",
    "p = re.compile('[a-z]+')\n",
    "result = p.findall(\"life is too short\")\n",
    "print(result)"
   ]
  },
  {
   "cell_type": "code",
   "execution_count": 111,
   "metadata": {},
   "outputs": [
    {
     "name": "stdout",
     "output_type": "stream",
     "text": [
      "match found :  ['string', 'goes', 'here']\n"
     ]
    }
   ],
   "source": [
    "p = re.compile('[a-z]+')\n",
    "m = p.findall('string goes 3here')\n",
    "\n",
    "if m :\n",
    "    print(\"match found : \", m)\n",
    "else :\n",
    "    print(\"No match\")"
   ]
  },
  {
   "attachments": {},
   "cell_type": "markdown",
   "metadata": {},
   "source": [
    "#### ***finditer()***"
   ]
  },
  {
   "cell_type": "code",
   "execution_count": 44,
   "metadata": {},
   "outputs": [
    {
     "name": "stdout",
     "output_type": "stream",
     "text": [
      "<callable_iterator object at 0x00000238A3DBC0D0>\n"
     ]
    }
   ],
   "source": [
    "# finditer()\n",
    "\n",
    "p = re.compile('[a-z]+')\n",
    "result = p.finditer(\"life is too short\")\n",
    "print(result)"
   ]
  },
  {
   "cell_type": "code",
   "execution_count": 45,
   "metadata": {},
   "outputs": [
    {
     "name": "stdout",
     "output_type": "stream",
     "text": [
      "life\n",
      "is\n",
      "too\n",
      "short\n"
     ]
    }
   ],
   "source": [
    "for r in result: \n",
    "    print(r.group())"
   ]
  },
  {
   "cell_type": "markdown",
   "metadata": {},
   "source": [
    "### **컴파일 옵션**"
   ]
  },
  {
   "attachments": {},
   "cell_type": "markdown",
   "metadata": {},
   "source": [
    "옵션명(약어)\n",
    "\n",
    "* DOTALL(S)     : . 이 줄바꿈 문자를 포함하여 모든 문자와 매치할 수 있도록한다.\n",
    "\n",
    "* IGNORECASE(I) : 대소문자에 관계없이 매치할 수 있도록 한다.\n",
    "\n",
    "* MULTILINE(M)  : 여러줄과 매치할 수 있도록 한다."
   ]
  },
  {
   "cell_type": "code",
   "execution_count": 54,
   "metadata": {},
   "outputs": [
    {
     "name": "stdout",
     "output_type": "stream",
     "text": [
      "None\n"
     ]
    }
   ],
   "source": [
    "# DOTALL\n",
    "\n",
    "import re\n",
    "p = re.compile('a.b')\n",
    "m = p.match('a\\nb')\n",
    "print(m)"
   ]
  },
  {
   "cell_type": "code",
   "execution_count": 55,
   "metadata": {},
   "outputs": [
    {
     "name": "stdout",
     "output_type": "stream",
     "text": [
      "a\n",
      "b\n"
     ]
    }
   ],
   "source": [
    "p = re.compile('a.b',re.DOTALL)\n",
    "m = p.match('a\\nb')\n",
    "print(m.group())"
   ]
  },
  {
   "cell_type": "code",
   "execution_count": 59,
   "metadata": {},
   "outputs": [
    {
     "data": {
      "text/plain": [
       "<re.Match object; span=(0, 1), match='p'>"
      ]
     },
     "execution_count": 59,
     "metadata": {},
     "output_type": "execute_result"
    }
   ],
   "source": [
    "# IGNORECASE\n",
    "\n",
    "p = re.compile('[a-z]',re.I)\n",
    "p.match('pyThon')"
   ]
  },
  {
   "cell_type": "code",
   "execution_count": 64,
   "metadata": {},
   "outputs": [],
   "source": [
    "# MULTILINE\n",
    "\n",
    "import re   # 외장모듈\n",
    "\n",
    "# \\n : 공백,탭,다음줄 | \\w :알파벳숫자 => [a-zA-Z0-9]\n",
    "p = re.compile('^python\\s\\w+',re.MULTILINE)\n",
    "\n",
    "data = '''python one\n",
    "life is too short\n",
    "python two\n",
    "you need python\n",
    "python three'''"
   ]
  },
  {
   "cell_type": "code",
   "execution_count": 65,
   "metadata": {},
   "outputs": [
    {
     "name": "stdout",
     "output_type": "stream",
     "text": [
      "['python one', 'python two', 'python three']\n"
     ]
    }
   ],
   "source": [
    "print(p.findall(data))"
   ]
  },
  {
   "attachments": {},
   "cell_type": "markdown",
   "metadata": {},
   "source": [
    "### ***백슬래시 문제***"
   ]
  },
  {
   "attachments": {},
   "cell_type": "markdown",
   "metadata": {},
   "source": [
    "re.compile('\\section') == ([\\t\\n\\r\\f\\v]ection)"
   ]
  },
  {
   "attachments": {},
   "cell_type": "markdown",
   "metadata": {},
   "source": [
    " 백슬래시 문제 해결 : \n",
    "\n",
    "re.complie('\\\\\\\\section') ==> re.compile(r'\\\\section')"
   ]
  },
  {
   "attachments": {},
   "cell_type": "markdown",
   "metadata": {},
   "source": [
    "### **메타문자 나머지**"
   ]
  },
  {
   "cell_type": "code",
   "execution_count": 67,
   "metadata": {},
   "outputs": [
    {
     "name": "stdout",
     "output_type": "stream",
     "text": [
      "<re.Match object; span=(0, 4), match='Crow'>\n"
     ]
    }
   ],
   "source": [
    "# | : or\n",
    "\n",
    "p = re.compile('Crow|Servo')\n",
    "m = p.match('CrowHello')\n",
    "print(m)"
   ]
  },
  {
   "cell_type": "code",
   "execution_count": 68,
   "metadata": {},
   "outputs": [
    {
     "name": "stdout",
     "output_type": "stream",
     "text": [
      "<re.Match object; span=(0, 4), match='Life'>\n",
      "None\n"
     ]
    }
   ],
   "source": [
    "# ^ : 문자열의 맨 처음과 일치? = 시작하는\n",
    "\n",
    "print(re.search('^Life','Life is too short'))\n",
    "print(re.search('^Life','My Life'))"
   ]
  },
  {
   "cell_type": "code",
   "execution_count": 69,
   "metadata": {},
   "outputs": [
    {
     "name": "stdout",
     "output_type": "stream",
     "text": [
      "<re.Match object; span=(12, 17), match='short'>\n",
      "None\n"
     ]
    }
   ],
   "source": [
    "# $ : 문자열의 맨 끝과 일치? = 끝나는\n",
    "\n",
    "print(re.search('short$','Life is too short'))\n",
    "print(re.search('short$','Life is too short, you need python'))"
   ]
  },
  {
   "cell_type": "markdown",
   "metadata": {},
   "source": [
    "* \\A    : 문자열의 처음과 매치 = ^와 동일 \n",
    "* \\Z    : 문자열의 맨 끝과 매치 = $\n",
    "* **\\b**    : 단어 구분자\n",
    "* \\B    : whitespace로 구분된 단어가 아닌 경우"
   ]
  },
  {
   "cell_type": "code",
   "execution_count": 70,
   "metadata": {},
   "outputs": [
    {
     "name": "stdout",
     "output_type": "stream",
     "text": [
      "<re.Match object; span=(3, 8), match='class'>\n"
     ]
    }
   ],
   "source": [
    "# \\b\n",
    "p = re.compile(r'\\bclass\\b')\n",
    "print(p.search('no class at all'))"
   ]
  },
  {
   "cell_type": "code",
   "execution_count": 71,
   "metadata": {},
   "outputs": [
    {
     "name": "stdout",
     "output_type": "stream",
     "text": [
      "None\n"
     ]
    }
   ],
   "source": [
    "print(p.search('the declassified algorithm'))"
   ]
  },
  {
   "cell_type": "code",
   "execution_count": 75,
   "metadata": {},
   "outputs": [
    {
     "name": "stdout",
     "output_type": "stream",
     "text": [
      "None\n"
     ]
    }
   ],
   "source": [
    "print(p.search('one subclass is'))"
   ]
  },
  {
   "cell_type": "code",
   "execution_count": 72,
   "metadata": {},
   "outputs": [
    {
     "name": "stdout",
     "output_type": "stream",
     "text": [
      "None\n"
     ]
    }
   ],
   "source": [
    "# \\B\n",
    "p = re.compile(r'\\Bclass\\B')\n",
    "print(p.search('no class at all'))"
   ]
  },
  {
   "cell_type": "code",
   "execution_count": 74,
   "metadata": {},
   "outputs": [
    {
     "name": "stdout",
     "output_type": "stream",
     "text": [
      "<re.Match object; span=(7, 12), match='class'>\n"
     ]
    }
   ],
   "source": [
    "print(p.search('ther declassified algorithm'))"
   ]
  },
  {
   "cell_type": "code",
   "execution_count": 76,
   "metadata": {},
   "outputs": [
    {
     "name": "stdout",
     "output_type": "stream",
     "text": [
      "None\n"
     ]
    }
   ],
   "source": [
    "print(p.search('one subclass is'))"
   ]
  },
  {
   "attachments": {},
   "cell_type": "markdown",
   "metadata": {},
   "source": [
    "### ***그룹핑( )***"
   ]
  },
  {
   "cell_type": "code",
   "execution_count": 77,
   "metadata": {},
   "outputs": [
    {
     "name": "stdout",
     "output_type": "stream",
     "text": [
      "<re.Match object; span=(0, 9), match='ABCABCABC'>\n"
     ]
    }
   ],
   "source": [
    "p = re.compile(\"(ABC)+\")\n",
    "m = p.search('ABCABCABC OK?')\n",
    "print(m)"
   ]
  },
  {
   "cell_type": "code",
   "execution_count": 92,
   "metadata": {},
   "outputs": [
    {
     "data": {
      "text/plain": [
       "('park 010-1234-1234', 'park', '010-1234-1234', '010')"
      ]
     },
     "execution_count": 92,
     "metadata": {},
     "output_type": "execute_result"
    }
   ],
   "source": [
    "pat = '(\\w+)\\s+((\\d+)[-]\\d+[-]\\d+)'\n",
    "data = 'park 010-1234-1234'\n",
    "m = re.search(pat,data)\n",
    "m.group(0), m.group(1), m.group(2), m.group(3)"
   ]
  },
  {
   "cell_type": "code",
   "execution_count": 94,
   "metadata": {},
   "outputs": [
    {
     "data": {
      "text/plain": [
       "('park', '010-1234-1234', '010')"
      ]
     },
     "execution_count": 94,
     "metadata": {},
     "output_type": "execute_result"
    }
   ],
   "source": [
    "m.group(1,2,3)"
   ]
  },
  {
   "attachments": {},
   "cell_type": "markdown",
   "metadata": {},
   "source": [
    "#### 그룹핑된 문자열 재참조하기"
   ]
  },
  {
   "cell_type": "code",
   "execution_count": 100,
   "metadata": {},
   "outputs": [
    {
     "data": {
      "text/plain": [
       "'the the'"
      ]
     },
     "execution_count": 100,
     "metadata": {},
     "output_type": "execute_result"
    }
   ],
   "source": [
    "# \\1 : ()그룹핑된것 중 첫번째 그룹지칭, 두번째:\\2\n",
    "#              (공백+알파벳/숫자)+공백+\\1(재참조) => 두번 연속 같은 단어 나올때\n",
    "p = re.compile(r'(\\b\\w+)\\s+\\1')\n",
    "p.search('Paris in the the spring').group()"
   ]
  },
  {
   "attachments": {},
   "cell_type": "markdown",
   "metadata": {},
   "source": [
    "#### **그룹핑된 문자열에 이름 붙이기**"
   ]
  },
  {
   "cell_type": "code",
   "execution_count": 101,
   "metadata": {},
   "outputs": [
    {
     "name": "stdout",
     "output_type": "stream",
     "text": [
      "park\n"
     ]
    }
   ],
   "source": [
    "p = re.compile(r'(?P<name>\\w+)\\s+((\\d+)[-]\\d+[-]\\d+)')\n",
    "m = p.search(\"park 010-1234-1234\")\n",
    "print(m.group('name'))"
   ]
  },
  {
   "cell_type": "code",
   "execution_count": 102,
   "metadata": {},
   "outputs": [
    {
     "data": {
      "text/plain": [
       "'the the'"
      ]
     },
     "execution_count": 102,
     "metadata": {},
     "output_type": "execute_result"
    }
   ],
   "source": [
    "# 붙인 이름으로 재참조 가능\n",
    "p = re.compile(r'(?P<word>\\b\\w+)\\s+(?P=word)')\n",
    "p.search('Paris in the the spring').group()"
   ]
  },
  {
   "attachments": {},
   "cell_type": "markdown",
   "metadata": {},
   "source": [
    "### ***전방 탐색***\n",
    "\n",
    "- 긍정 탐색 (?=...) : ...에 해당되는 정규식과 매치되어야함\n",
    "\n",
    "- 부정 탐색 (?!...) : ...에 해당되는 정규식과 매치되지않아야함"
   ]
  },
  {
   "cell_type": "code",
   "execution_count": 103,
   "metadata": {},
   "outputs": [
    {
     "name": "stdout",
     "output_type": "stream",
     "text": [
      "http:\n"
     ]
    }
   ],
   "source": [
    "p = re.compile('.+:')\n",
    "m = p.search('http://google.com')\n",
    "print(m.group())"
   ]
  },
  {
   "cell_type": "code",
   "execution_count": 105,
   "metadata": {},
   "outputs": [
    {
     "name": "stdout",
     "output_type": "stream",
     "text": [
      "http\n"
     ]
    }
   ],
   "source": [
    "# 긍정형\n",
    "\n",
    "p = re.compile('.+(?=:)')\n",
    "m = p.search('http://google.com')\n",
    "print(m.group())"
   ]
  },
  {
   "cell_type": "code",
   "execution_count": null,
   "metadata": {},
   "outputs": [],
   "source": []
  },
  {
   "cell_type": "code",
   "execution_count": null,
   "metadata": {},
   "outputs": [],
   "source": []
  },
  {
   "cell_type": "code",
   "execution_count": null,
   "metadata": {},
   "outputs": [],
   "source": []
  },
  {
   "cell_type": "code",
   "execution_count": null,
   "metadata": {},
   "outputs": [],
   "source": []
  },
  {
   "cell_type": "code",
   "execution_count": null,
   "metadata": {},
   "outputs": [],
   "source": []
  },
  {
   "cell_type": "code",
   "execution_count": null,
   "metadata": {},
   "outputs": [],
   "source": []
  }
 ],
 "metadata": {
  "kernelspec": {
   "display_name": "test",
   "language": "python",
   "name": "python3"
  },
  "language_info": {
   "codemirror_mode": {
    "name": "ipython",
    "version": 3
   },
   "file_extension": ".py",
   "mimetype": "text/x-python",
   "name": "python",
   "nbconvert_exporter": "python",
   "pygments_lexer": "ipython3",
   "version": "3.10.10"
  },
  "orig_nbformat": 4
 },
 "nbformat": 4,
 "nbformat_minor": 2
}
