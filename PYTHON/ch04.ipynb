{
 "cells": [
  {
   "attachments": {},
   "cell_type": "markdown",
   "metadata": {},
   "source": [
    "# 함수 \n",
    "### def 함수명(입력인수(argument)):\n",
    "---\n",
    "- function => object\n",
    "\n",
    "- 결과값(return)은 무조건 1개 \n",
    "\n",
    " -> but, return 값 여러개일 시 튜플로 자동으로 묶여서 처리됨 \n",
    "\n",
    " / 리스트, 튜플 등으로 묶어서 여러값 return 가능\n",
    "\n",
    " / return ** return **은 전자만 실행 => return하면 함수 종료\n",
    "\n",
    "- 코드가 반복 사용될 때 사용\n",
    "\n",
    "- 코드의 구조화를 위해 사용"
   ]
  },
  {
   "cell_type": "code",
   "execution_count": 6,
   "metadata": {},
   "outputs": [
    {
     "data": {
      "text/plain": [
       "7"
      ]
     },
     "execution_count": 6,
     "metadata": {},
     "output_type": "execute_result"
    }
   ],
   "source": [
    "# function define\n",
    "# 모듈(파일) 실행될 때 name space 생성=> 이름 공간\n",
    "# => sum 함수명 등록되고 실행 가능하게 된다.\n",
    "\n",
    "def sum1(a,b):\n",
    "    return a+b\n",
    "\n",
    "a = 3\n",
    "b = 4\n",
    "sum1(a,b)"
   ]
  },
  {
   "cell_type": "code",
   "execution_count": 1,
   "metadata": {},
   "outputs": [
    {
     "name": "stdout",
     "output_type": "stream",
     "text": [
      "\u001b[1;31mSignature:\u001b[0m \u001b[0msum\u001b[0m\u001b[1;33m(\u001b[0m\u001b[0miterable\u001b[0m\u001b[1;33m,\u001b[0m \u001b[1;33m/\u001b[0m\u001b[1;33m,\u001b[0m \u001b[0mstart\u001b[0m\u001b[1;33m=\u001b[0m\u001b[1;36m0\u001b[0m\u001b[1;33m)\u001b[0m\u001b[1;33m\u001b[0m\u001b[1;33m\u001b[0m\u001b[0m\n",
      "\u001b[1;31mDocstring:\u001b[0m\n",
      "Return the sum of a 'start' value (default: 0) plus an iterable of numbers\n",
      "\n",
      "When the iterable is empty, return the start value.\n",
      "This function is intended specifically for use with numeric values and may\n",
      "reject non-numeric types.\n",
      "\u001b[1;31mType:\u001b[0m      builtin_function_or_method"
     ]
    }
   ],
   "source": [
    "# 내장 함수 sum 있음\n",
    "sum?"
   ]
  },
  {
   "cell_type": "code",
   "execution_count": 2,
   "metadata": {},
   "outputs": [
    {
     "data": {
      "text/plain": [
       "3"
      ]
     },
     "execution_count": 2,
     "metadata": {},
     "output_type": "execute_result"
    }
   ],
   "source": [
    "#itertable 한 값이 입력인수\n",
    "# => 튜플, 리스트 등등\n",
    "sum((1,2))"
   ]
  },
  {
   "cell_type": "code",
   "execution_count": 4,
   "metadata": {},
   "outputs": [],
   "source": [
    "# 3.5 version에서 어노테이션 적용 ~ 표기만, 입력 제한되지는 않음\n",
    "# sum1(int,int) return int\n",
    "def sum1(a:int,b:int)-> int:\n",
    "    return a+b"
   ]
  },
  {
   "cell_type": "code",
   "execution_count": null,
   "metadata": {},
   "outputs": [],
   "source": [
    "sum1(1,'a')"
   ]
  },
  {
   "attachments": {},
   "cell_type": "markdown",
   "metadata": {},
   "source": [
    "### 입력값이 몇개인지 모를때(여러 argument 처리)"
   ]
  },
  {
   "cell_type": "code",
   "execution_count": 15,
   "metadata": {},
   "outputs": [
    {
     "data": {
      "text/plain": [
       "15"
      ]
     },
     "execution_count": 15,
     "metadata": {},
     "output_type": "execute_result"
    }
   ],
   "source": [
    "# 여러 정수의 합 구하는 함수\n",
    "# *  :: 가변인자\n",
    "\n",
    "def add(*a):\n",
    "    sum = 0\n",
    "    for num in a:\n",
    "        sum += num\n",
    "\n",
    "    return sum\n",
    "\n",
    "add(1,2,3,4,5)"
   ]
  },
  {
   "cell_type": "code",
   "execution_count": 20,
   "metadata": {},
   "outputs": [],
   "source": [
    "# 더하기(sum), 곱하기(mul) 처리 함수 정의, 가변인자 사용\n",
    "#*** 가변인자는 맨 뒤에 넣기***\n",
    "\n",
    "def sum_mul(choice, *args):\n",
    "    # 더하기\n",
    "    if choice == 'sum':\n",
    "        result = 0\n",
    "        for num in args:\n",
    "            result += num\n",
    "    \n",
    "    # 곱하기\n",
    "    elif choice == 'mul':\n",
    "        result = 1\n",
    "        for num in args:\n",
    "            result *= num\n",
    "\n",
    "    return result"
   ]
  },
  {
   "cell_type": "code",
   "execution_count": 21,
   "metadata": {},
   "outputs": [
    {
     "data": {
      "text/plain": [
       "12"
      ]
     },
     "execution_count": 21,
     "metadata": {},
     "output_type": "execute_result"
    }
   ],
   "source": [
    "sum_mul('sum',3,4,5)"
   ]
  },
  {
   "cell_type": "code",
   "execution_count": 22,
   "metadata": {},
   "outputs": [
    {
     "data": {
      "text/plain": [
       "60"
      ]
     },
     "execution_count": 22,
     "metadata": {},
     "output_type": "execute_result"
    }
   ],
   "source": [
    "sum_mul('mul',3,4,5)"
   ]
  },
  {
   "cell_type": "code",
   "execution_count": 23,
   "metadata": {},
   "outputs": [],
   "source": [
    "def test(a,b):\n",
    "    return a+b, a*b"
   ]
  },
  {
   "cell_type": "code",
   "execution_count": 24,
   "metadata": {},
   "outputs": [
    {
     "data": {
      "text/plain": [
       "(5, 6)"
      ]
     },
     "execution_count": 24,
     "metadata": {},
     "output_type": "execute_result"
    }
   ],
   "source": [
    "test(2,3)"
   ]
  },
  {
   "cell_type": "code",
   "execution_count": 25,
   "metadata": {},
   "outputs": [],
   "source": [
    "# return 의 다른 쓰임새 :: 함수 종료\n",
    "\n",
    "def say_nick(nick):\n",
    "    if nick =='바보':\n",
    "        return\n",
    "    print(\"나의 별명은 %s입니다.\"%nick)"
   ]
  },
  {
   "cell_type": "code",
   "execution_count": 27,
   "metadata": {},
   "outputs": [
    {
     "name": "stdout",
     "output_type": "stream",
     "text": [
      "나의 별명은 천사입니다.\n"
     ]
    }
   ],
   "source": [
    "say_nick('천사')"
   ]
  },
  {
   "cell_type": "code",
   "execution_count": 28,
   "metadata": {},
   "outputs": [],
   "source": [
    "say_nick('바보') ##결과값 없음"
   ]
  },
  {
   "cell_type": "markdown",
   "metadata": {},
   "source": [
    "### 입력인수 초기화 미리 설정"
   ]
  },
  {
   "cell_type": "code",
   "execution_count": 5,
   "metadata": {},
   "outputs": [],
   "source": [
    "def say_myself(name, old, man=True):\n",
    "    print(\"이름 : \",name)\n",
    "    print(\"나이 : \", old)\n",
    "    if man :\n",
    "        print(\"성별 : 남자\")\n",
    "    elif  :\n",
    "        print(\"성별 미입력\")"
   ]
  },
  {
   "cell_type": "code",
   "execution_count": 6,
   "metadata": {},
   "outputs": [
    {
     "name": "stdout",
     "output_type": "stream",
     "text": [
      "이름 :  홍길동\n",
      "나이 :  25\n",
      "성별 : 남자\n"
     ]
    }
   ],
   "source": [
    "say_myself('홍길동',25)"
   ]
  },
  {
   "cell_type": "code",
   "execution_count": 8,
   "metadata": {},
   "outputs": [
    {
     "name": "stdout",
     "output_type": "stream",
     "text": [
      "이름 :  둘리\n",
      "나이 :  25\n",
      "성별 : 남자\n"
     ]
    }
   ],
   "source": [
    "say_myself('둘리',25,'man')"
   ]
  },
  {
   "attachments": {},
   "cell_type": "markdown",
   "metadata": {},
   "source": [
    "## 2023-04-12\n",
    "\n",
    "---\n",
    "\n",
    "### 함수 내에서 선언된 변수의 효력 범위\n",
    "\n",
    "- 밖 => 전역 변수 :: global variable\n",
    "\n",
    "- 함수 내 => 지역변수 :: local variable\n",
    "\n",
    "- 클래스 내 => 멤버 변수 :: member variable"
   ]
  },
  {
   "cell_type": "code",
   "execution_count": null,
   "metadata": {},
   "outputs": [],
   "source": [
    "# => vartest.py\n",
    "# 하나의 function 은 하나의 관련된 기능만하게"
   ]
  },
  {
   "attachments": {},
   "cell_type": "markdown",
   "metadata": {},
   "source": [
    "### 파이썬 키보드 입력(input)과 출력(print)\n",
    "\n",
    "=> inputtest.py"
   ]
  },
  {
   "cell_type": "code",
   "execution_count": 1,
   "metadata": {},
   "outputs": [
    {
     "name": "stdout",
     "output_type": "stream",
     "text": [
      "123\n"
     ]
    }
   ],
   "source": [
    "a = 123\n",
    "print(a)"
   ]
  },
  {
   "cell_type": "code",
   "execution_count": 2,
   "metadata": {},
   "outputs": [
    {
     "name": "stdout",
     "output_type": "stream",
     "text": [
      "lifeistoo\n",
      "lifeistoo\n",
      "life is too\n"
     ]
    }
   ],
   "source": [
    "print('life''is''too')\n",
    "print('life'+'is'+'too')\n",
    "print('life','is','too')"
   ]
  },
  {
   "cell_type": "code",
   "execution_count": 5,
   "metadata": {},
   "outputs": [
    {
     "name": "stdout",
     "output_type": "stream",
     "text": [
      "0, 1, 2, 3, 4, 5, 6, 7, 8, 9, "
     ]
    }
   ],
   "source": [
    "# 한줄에 결과값 출력\n",
    "for num in range(10):\n",
    "    print(num, end=', ') # end default 값 : \\n\n",
    "\n",
    "# 0, 1, 2, 3, 4, 5, 6, 7, 8, 9, :: csv file format"
   ]
  },
  {
   "attachments": {},
   "cell_type": "markdown",
   "metadata": {},
   "source": [
    "---\n",
    "## 파일 생성하기\n",
    "\n",
    "- 읽기모드(r) : 해당 파일이 존재해야 가능\n",
    "\n",
    "- 쓰기 모드(w) : 파일x ~ 파일 생성 후 쓰기모드 / 파일o ~ *기존 내용 삭제* 후 쓰기모드\n",
    "\n",
    "- 추가 모드(a) : 기존 내용에 추가해서 쓰기\n",
    "\n",
    "\n",
    "=> 파일 생성 :: 쓰기모드"
   ]
  },
  {
   "cell_type": "code",
   "execution_count": 6,
   "metadata": {},
   "outputs": [],
   "source": [
    "# 파일 생성(일반)\n",
    "f = open('./새파일.txt','w')\n",
    "# 바이너리 파일 생성 =>  'bw'\n",
    "\n",
    "# 파일 쓰기코드 --\n",
    "\n",
    "# 파일 닫기 코드\n",
    "f.close()"
   ]
  },
  {
   "attachments": {},
   "cell_type": "markdown",
   "metadata": {},
   "source": [
    "### 파일 쓰기모드로 열어 출력값 적기"
   ]
  },
  {
   "cell_type": "code",
   "execution_count": 10,
   "metadata": {},
   "outputs": [],
   "source": [
    "f = open('./새파일.txt','w')\n",
    "\n",
    "for num in range(1,11):\n",
    "    data = f'{num}번째 줄입니다.\\n'\n",
    "    f.write(data)\n",
    "\n",
    "f.close()"
   ]
  },
  {
   "attachments": {},
   "cell_type": "markdown",
   "metadata": {},
   "source": [
    "### 파일 읽기\n",
    "\n",
    "- read()     : 텍스트 파일 전체를 한번에 읽는다. return str\n",
    "\n",
    "- readline() : 한 줄 읽기 return str\n",
    "\n",
    "- readlines(): 여러 줄 읽기 return [str,str,...]"
   ]
  },
  {
   "cell_type": "code",
   "execution_count": 15,
   "metadata": {},
   "outputs": [
    {
     "name": "stdout",
     "output_type": "stream",
     "text": [
      "readline :  1번째 줄입니다.\n",
      "\n",
      "2번째 줄입니다.\n",
      "\n",
      "3번째 줄입니다.\n",
      "\n",
      "4번째 줄입니다.\n",
      "\n",
      "5번째 줄입니다.\n",
      "\n",
      "6번째 줄입니다.\n",
      "\n",
      "7번째 줄입니다.\n",
      "\n",
      "8번째 줄입니다.\n",
      "\n",
      "9번째 줄입니다.\n",
      "\n",
      "10번째 줄입니다.\n",
      "\n"
     ]
    }
   ],
   "source": [
    "# readline\n",
    "f = open('./새파일.txt','r')\n",
    "\n",
    "# readline()할 때마다 파일 포인터 한줄씩 밑으로 이동(close 전까지)\n",
    "# 마지막 줄 = end of file(eof)\n",
    "print('readline : ', f.readline())\n",
    "\n",
    "while True:\n",
    "    line = f.readline()\n",
    "    if not line :\n",
    "        break\n",
    "    print(line)\n",
    "\n",
    "f.close()"
   ]
  },
  {
   "cell_type": "code",
   "execution_count": 17,
   "metadata": {},
   "outputs": [
    {
     "name": "stdout",
     "output_type": "stream",
     "text": [
      "readlines :  ['1번째 줄입니다.\\n', '2번째 줄입니다.\\n', '3번째 줄입니다.\\n', '4번째 줄입니다.\\n', '5번째 줄입니다.\\n', '6번째 줄입니다.\\n', '7번째 줄입니다.\\n', '8번째 줄입니다.\\n', '9번째 줄입니다.\\n', '10번째 줄입니다.\\n']\n",
      "1번째 줄입니다.\n",
      "\n",
      "2번째 줄입니다.\n",
      "\n",
      "3번째 줄입니다.\n",
      "\n",
      "4번째 줄입니다.\n",
      "\n",
      "5번째 줄입니다.\n",
      "\n",
      "6번째 줄입니다.\n",
      "\n",
      "7번째 줄입니다.\n",
      "\n",
      "8번째 줄입니다.\n",
      "\n",
      "9번째 줄입니다.\n",
      "\n",
      "10번째 줄입니다.\n",
      "\n"
     ]
    }
   ],
   "source": [
    "#readlines()\n",
    "f = open('./새파일.txt','r')\n",
    "\n",
    "lines = f.readlines()\n",
    "print('readlines : ',lines)\n",
    "\n",
    "for line in lines:\n",
    "    print(line)\n",
    "f.close()"
   ]
  },
  {
   "cell_type": "code",
   "execution_count": 20,
   "metadata": {},
   "outputs": [
    {
     "name": "stdout",
     "output_type": "stream",
     "text": [
      "1번째 줄입니다.\n",
      "2번째 줄입니다.\n",
      "3번째 줄입니다.\n",
      "4번째 줄입니다.\n",
      "5번째 줄입니다.\n",
      "6번째 줄입니다.\n",
      "7번째 줄입니다.\n",
      "8번째 줄입니다.\n",
      "9번째 줄입니다.\n",
      "10번째 줄입니다.\n",
      "\n"
     ]
    }
   ],
   "source": [
    "# read()\n",
    "f = open('./새파일.txt','r')\n",
    "\n",
    "data = f.read()\n",
    "print(data)\n",
    "\n",
    "f.close()"
   ]
  },
  {
   "cell_type": "markdown",
   "metadata": {},
   "source": [
    "### 파일 새로운 내용 추가하기"
   ]
  },
  {
   "cell_type": "code",
   "execution_count": 1,
   "metadata": {},
   "outputs": [],
   "source": [
    "f = open('./새파일.txt','a')\n",
    "\n",
    "for num in range(11,21):\n",
    "    data = f'{num}번째 줄입니다.\\n'\n",
    "    f.write(data)\n",
    "\n",
    "f.close()"
   ]
  },
  {
   "attachments": {},
   "cell_type": "markdown",
   "metadata": {},
   "source": [
    "### with문\n",
    "### : open과 close관리\n",
    "\n",
    "- with문 빠져나갈 때 자동으로 close 처리됨"
   ]
  },
  {
   "cell_type": "code",
   "execution_count": 4,
   "metadata": {},
   "outputs": [],
   "source": [
    "with open('foo.txt','w') as f:\n",
    "    f.write('fohahahahaha1\\n')\n"
   ]
  },
  {
   "cell_type": "code",
   "execution_count": null,
   "metadata": {},
   "outputs": [],
   "source": [
    "# sys1.py"
   ]
  },
  {
   "attachments": {},
   "cell_type": "markdown",
   "metadata": {},
   "source": [
    "## csv 파일 \n",
    "\n",
    "csv모듈은 읽기,쓰기 기능은 없음"
   ]
  },
  {
   "cell_type": "code",
   "execution_count": 11,
   "metadata": {},
   "outputs": [
    {
     "name": "stdout",
     "output_type": "stream",
     "text": [
      "1 김정수 2017-01-19 25 \n",
      "\n",
      "2 박민구 2017-02-27 35 \n",
      "\n",
      "3 정순미 2017-03-22 33 \n",
      "\n"
     ]
    },
    {
     "data": {
      "text/plain": [
       "<function TextIOWrapper.close()>"
      ]
     },
     "execution_count": 11,
     "metadata": {},
     "output_type": "execute_result"
    }
   ],
   "source": [
    "import csv\n",
    "\n",
    "f = open('./data.csv','r')\n",
    "\n",
    "# csv 파일 포인터 주기\n",
    "rdr = csv.reader(f) #=> object\n",
    "\n",
    "# csv 파일 출력\n",
    "for line in rdr:\n",
    "    #print(line)\n",
    "    for s in line:\n",
    "        print(s, end=' ')\n",
    "    print('\\n')\n",
    "\n",
    "\n",
    "f.close"
   ]
  },
  {
   "cell_type": "code",
   "execution_count": 14,
   "metadata": {},
   "outputs": [],
   "source": [
    "# csv 파일 쓰기\n",
    "\n",
    "import csv\n",
    "\n",
    "# newline : 1row에 하나씩 공백row 없이 들어가게 함\n",
    "f = open('output.csv','w',newline='')\n",
    "\n",
    "# 쓰기 가능하게 만듬\n",
    "wr = csv.writer(f)\n",
    "# 실제 쓰기\n",
    "wr.writerow([1,\"김정수\",False])\n",
    "wr.writerow([2,\"박상미\",True])\n",
    "\n",
    "f.close()"
   ]
  },
  {
   "attachments": {},
   "cell_type": "markdown",
   "metadata": {},
   "source": [
    "### tsv 파일\n",
    "\n",
    "tab키로 column 분리하는 파일 포맷"
   ]
  },
  {
   "cell_type": "code",
   "execution_count": 23,
   "metadata": {},
   "outputs": [],
   "source": [
    "import csv\n",
    "\n",
    "# newline : 1row에 하나씩 공백row 없이 들어가게 함\n",
    "f = open('testtsv.csv','w',newline='')\n",
    "\n",
    "# 쓰기 가능하게 만듬\n",
    "wr = csv.writer(f,delimiter=\"\\t\")\n",
    "# 실제 쓰기\n",
    "wr.writerow([1,\"김정수\",False])\n",
    "wr.writerow([2,\"박상미\",True])\n",
    "\n",
    "f.close()"
   ]
  },
  {
   "cell_type": "code",
   "execution_count": 24,
   "metadata": {},
   "outputs": [
    {
     "name": "stdout",
     "output_type": "stream",
     "text": [
      "id = 1 : name = 김정수\n"
     ]
    }
   ],
   "source": [
    "f = open('testtsv.csv','r')\n",
    "rdr = csv.reader(f, delimiter=\"\\t\")\n",
    "\n",
    "#읽기\n",
    "r = list(rdr)\n",
    "print(\"id = %s : name = %s\"%(r[0][0],r[0][1]))\n",
    "\n",
    "f.close()"
   ]
  }
 ],
 "metadata": {
  "kernelspec": {
   "display_name": "test",
   "language": "python",
   "name": "python3"
  },
  "language_info": {
   "codemirror_mode": {
    "name": "ipython",
    "version": 3
   },
   "file_extension": ".py",
   "mimetype": "text/x-python",
   "name": "python",
   "nbconvert_exporter": "python",
   "pygments_lexer": "ipython3",
   "version": "3.10.10"
  },
  "orig_nbformat": 4
 },
 "nbformat": 4,
 "nbformat_minor": 2
}
