{
 "cells": [
  {
   "attachments": {},
   "cell_type": "markdown",
   "metadata": {},
   "source": [
    "# **20230508**"
   ]
  },
  {
   "attachments": {},
   "cell_type": "markdown",
   "metadata": {},
   "source": [
    "## 데이터 크롤링\n",
    "<br>\n",
    "\n",
    "### 01 파이썬 웹 크롤링 기본\n",
    "\n",
    "\n",
    "- 웹 크롤러란?\n",
    "\n",
    "우리가 어떤 정보를 브라우저에서만 보는 것 뿐만 아니라 그 정보들을 내가 이용하기 편한 방식으로 로컬에 저장하는 것"
   ]
  },
  {
   "cell_type": "code",
   "execution_count": 31,
   "metadata": {},
   "outputs": [],
   "source": [
    "import requests                 # import module\n",
    "from bs4 import BeautifulSoup   # from module import class\n",
    "\n",
    "import pandas as pd\n",
    "import seaborn as sns\n",
    "import numpy as np\n",
    "\n",
    "import matplotlib.pyplot as plt\n",
    "%matplotlib inline"
   ]
  },
  {
   "cell_type": "code",
   "execution_count": 32,
   "metadata": {},
   "outputs": [],
   "source": [
    "req = requests.get('https://beomi.github.io/beomi.github.io_old/')\n",
    "\n",
    "# HTML소스 가져오기(text 추출(string))\n",
    "html = req.text\n",
    "\n",
    "# HTTP Header(response의 응답한 정보들) 가져오기\n",
    "header = req.headers\n",
    "\n",
    "# HTTP Status (200/300: 정상, 400:요청정보(url)x, 500:server error)가져오기\n",
    "status = req.status_code\n",
    "\n",
    "# ok : status 200인 경우 True -> 조건식(if) 사용 가능\n",
    "is_ok = req.ok"
   ]
  },
  {
   "cell_type": "code",
   "execution_count": 33,
   "metadata": {},
   "outputs": [
    {
     "data": {
      "text/plain": [
       "True"
      ]
     },
     "execution_count": 33,
     "metadata": {},
     "output_type": "execute_result"
    }
   ],
   "source": [
    "is_ok"
   ]
  },
  {
   "cell_type": "code",
   "execution_count": 34,
   "metadata": {},
   "outputs": [],
   "source": [
    "#%pip install bs4"
   ]
  },
  {
   "cell_type": "code",
   "execution_count": 35,
   "metadata": {},
   "outputs": [
    {
     "name": "stdout",
     "output_type": "stream",
     "text": [
      "삼성전기, 임금 4.1% 인상 전망…“삼성전자 기준 맞춘다”\n",
      "“갤럭시 3대 팔아야 아이폰 1대 이익”… 삼성전자, 스마트폰 평균판매...\n",
      "'20조 손실' 버티면 웃는다…삼성전자·SK하이닉스 '고진감래' [김익...\n",
      "삼성전자. 獨 함부르크 개항축제서 부산엑스포 홍보\n",
      "삼성 이재용 회장, 글로벌 제약사 CEO 회동 '제2 반도체 신화'\n",
      "일현전자, 삼성스토어 용인처인·용인시청점 오픈\n",
      "아이폰·인도 힘입어 ‘분기 최대매출’ 애플…삼성, 따라올테면 따라와봐?...\n",
      "\"일하다 운 적 있다\"…아무나 못하는 '0.02%' 삼성전자 사장\n",
      "'칠판·분필 사라지는 교실'...삼성·LG, 여기에 꽂혔다\n",
      "[이번주 추천주] 글로벌 불확실성 여전…삼성전자 등 실적개선주 주목\n"
     ]
    }
   ],
   "source": [
    "req = requests.get('https://finance.naver.com//item/news_news.naver?code=005930&page=&sm=title_entity_id.basic&clusterId=')\n",
    "html = req.text\n",
    "\n",
    "#print(html)\n",
    "\n",
    "# html text dom tree 형태로 바꿈 => return BeautifulSoup object\n",
    "soup = BeautifulSoup(html, 'html.parser')\n",
    "#print(soup)\n",
    "\n",
    "# selector를 통해 데이터 추출 : 뉴스 제목\n",
    "my_titles = soup.select(\n",
    "    'body > div > table.type5 > tbody > tr > td.title > a'\n",
    ")\n",
    "#print(my_titles)\n",
    "\n",
    "for title in my_titles:\n",
    "\n",
    "    # tag안의 text(뉴스 제목)\n",
    "    print(title.text)"
   ]
  },
  {
   "cell_type": "code",
   "execution_count": 36,
   "metadata": {},
   "outputs": [],
   "source": [
    "#content > div.section.new_bbs > div.sub_section.news_section > ul:nth-child(2) > li:nth-child(1) > span > a\n",
    "\n",
    "# 첫번째 뉴스\n",
    "#body > div > table.type5 > tbody > tr.first > td.title > a\n",
    "\n",
    "# 두번째 뉴스\n",
    "#body > div > table.type5 > tbody > tr:nth-child(2) > td.title > a"
   ]
  },
  {
   "attachments": {},
   "cell_type": "markdown",
   "metadata": {},
   "source": [
    "## **시카고 샌드위치 맛집 분석**\n",
    "\n",
    "<br>\n",
    "\n",
    "**[학습목표]**\n",
    "\n",
    "- 웹 데이터를 가져오는 BeautifulSoup 익히기\n",
    "- 크롬 개발자 도구를 이용해서 원하는 태그 찾기\n",
    "- 시카고 샌드위치 맛집 소개 사이트에 접근하기\n",
    "- 접근한 웹 페이지에서 원하는 데이터 추출하고 정리하기\n",
    "- 다수의 웹 페이지에서 자동으로 접근해서 원하는 정보 가져오기\n",
    "- Jupyter notebook 상태 진행바 생성\n",
    "- 상태 진행바 적용 페이지 접근하기 \n",
    "- 50개 웹페이지 정보 가져오기\n",
    "\n"
   ]
  },
  {
   "cell_type": "code",
   "execution_count": 37,
   "metadata": {},
   "outputs": [
    {
     "name": "stdout",
     "output_type": "stream",
     "text": [
      "<!DOCTYPE html>\n",
      "\n",
      "<html>\n",
      "<head>\n",
      "<title>Very Simple HTML Code by PinkWink</title>\n",
      "</head>\n",
      "<body>\n",
      "<div>\n",
      "<p class=\"inner-text first-item\" id=\"first\">\n",
      "                Happy PinkWink.\n",
      "                <a href=\"http://www.pinkwink.kr\" id=\"pw-link\">PinkWink</a>\n",
      "</p>\n",
      "<p class=\"inner-text second-item\">\n",
      "                Happy Data Science.\n",
      "                <a href=\"https://www.python.org\" id=\"py-link\">Python</a>\n",
      "</p>\n",
      "</div>\n",
      "<p class=\"outer-text first-item\" id=\"second\">\n",
      "<b>\n",
      "                Data Science is funny.\n",
      "            </b>\n",
      "</p>\n",
      "<p class=\"outer-text\">\n",
      "<b>\n",
      "                All I need is Love.\n",
      "            </b>\n",
      "</p>\n",
      "</body>\n",
      "</html>\n"
     ]
    }
   ],
   "source": [
    "page = open('../data/03. test_first.html','r').read()\n",
    "soup = BeautifulSoup(page, 'html.parser')\n",
    "print(soup)"
   ]
  },
  {
   "cell_type": "code",
   "execution_count": 38,
   "metadata": {},
   "outputs": [
    {
     "data": {
      "text/plain": [
       "['html',\n",
       " '\\n',\n",
       " <html>\n",
       " <head>\n",
       " <title>Very Simple HTML Code by PinkWink</title>\n",
       " </head>\n",
       " <body>\n",
       " <div>\n",
       " <p class=\"inner-text first-item\" id=\"first\">\n",
       "                 Happy PinkWink.\n",
       "                 <a href=\"http://www.pinkwink.kr\" id=\"pw-link\">PinkWink</a>\n",
       " </p>\n",
       " <p class=\"inner-text second-item\">\n",
       "                 Happy Data Science.\n",
       "                 <a href=\"https://www.python.org\" id=\"py-link\">Python</a>\n",
       " </p>\n",
       " </div>\n",
       " <p class=\"outer-text first-item\" id=\"second\">\n",
       " <b>\n",
       "                 Data Science is funny.\n",
       "             </b>\n",
       " </p>\n",
       " <p class=\"outer-text\">\n",
       " <b>\n",
       "                 All I need is Love.\n",
       "             </b>\n",
       " </p>\n",
       " </body>\n",
       " </html>]"
      ]
     },
     "execution_count": 38,
     "metadata": {},
     "output_type": "execute_result"
    }
   ],
   "source": [
    "list(soup.children)"
   ]
  },
  {
   "cell_type": "code",
   "execution_count": 39,
   "metadata": {},
   "outputs": [
    {
     "data": {
      "text/plain": [
       "<html>\n",
       "<head>\n",
       "<title>Very Simple HTML Code by PinkWink</title>\n",
       "</head>\n",
       "<body>\n",
       "<div>\n",
       "<p class=\"inner-text first-item\" id=\"first\">\n",
       "                Happy PinkWink.\n",
       "                <a href=\"http://www.pinkwink.kr\" id=\"pw-link\">PinkWink</a>\n",
       "</p>\n",
       "<p class=\"inner-text second-item\">\n",
       "                Happy Data Science.\n",
       "                <a href=\"https://www.python.org\" id=\"py-link\">Python</a>\n",
       "</p>\n",
       "</div>\n",
       "<p class=\"outer-text first-item\" id=\"second\">\n",
       "<b>\n",
       "                Data Science is funny.\n",
       "            </b>\n",
       "</p>\n",
       "<p class=\"outer-text\">\n",
       "<b>\n",
       "                All I need is Love.\n",
       "            </b>\n",
       "</p>\n",
       "</body>\n",
       "</html>"
      ]
     },
     "execution_count": 39,
     "metadata": {},
     "output_type": "execute_result"
    }
   ],
   "source": [
    "#html\n",
    "list(soup.children)[2]"
   ]
  },
  {
   "cell_type": "code",
   "execution_count": 40,
   "metadata": {},
   "outputs": [
    {
     "data": {
      "text/plain": [
       "['\\n',\n",
       " <head>\n",
       " <title>Very Simple HTML Code by PinkWink</title>\n",
       " </head>,\n",
       " '\\n',\n",
       " <body>\n",
       " <div>\n",
       " <p class=\"inner-text first-item\" id=\"first\">\n",
       "                 Happy PinkWink.\n",
       "                 <a href=\"http://www.pinkwink.kr\" id=\"pw-link\">PinkWink</a>\n",
       " </p>\n",
       " <p class=\"inner-text second-item\">\n",
       "                 Happy Data Science.\n",
       "                 <a href=\"https://www.python.org\" id=\"py-link\">Python</a>\n",
       " </p>\n",
       " </div>\n",
       " <p class=\"outer-text first-item\" id=\"second\">\n",
       " <b>\n",
       "                 Data Science is funny.\n",
       "             </b>\n",
       " </p>\n",
       " <p class=\"outer-text\">\n",
       " <b>\n",
       "                 All I need is Love.\n",
       "             </b>\n",
       " </p>\n",
       " </body>,\n",
       " '\\n']"
      ]
     },
     "execution_count": 40,
     "metadata": {},
     "output_type": "execute_result"
    }
   ],
   "source": [
    "list(list(soup.children)[2].children)"
   ]
  },
  {
   "cell_type": "code",
   "execution_count": 41,
   "metadata": {},
   "outputs": [
    {
     "data": {
      "text/plain": [
       "<body>\n",
       "<div>\n",
       "<p class=\"inner-text first-item\" id=\"first\">\n",
       "                Happy PinkWink.\n",
       "                <a href=\"http://www.pinkwink.kr\" id=\"pw-link\">PinkWink</a>\n",
       "</p>\n",
       "<p class=\"inner-text second-item\">\n",
       "                Happy Data Science.\n",
       "                <a href=\"https://www.python.org\" id=\"py-link\">Python</a>\n",
       "</p>\n",
       "</div>\n",
       "<p class=\"outer-text first-item\" id=\"second\">\n",
       "<b>\n",
       "                Data Science is funny.\n",
       "            </b>\n",
       "</p>\n",
       "<p class=\"outer-text\">\n",
       "<b>\n",
       "                All I need is Love.\n",
       "            </b>\n",
       "</p>\n",
       "</body>"
      ]
     },
     "execution_count": 41,
     "metadata": {},
     "output_type": "execute_result"
    }
   ],
   "source": [
    "# body\n",
    "list(list(soup.children)[2].children)[3]"
   ]
  },
  {
   "cell_type": "code",
   "execution_count": 42,
   "metadata": {},
   "outputs": [
    {
     "data": {
      "text/plain": [
       "<body>\n",
       "<div>\n",
       "<p class=\"inner-text first-item\" id=\"first\">\n",
       "                Happy PinkWink.\n",
       "                <a href=\"http://www.pinkwink.kr\" id=\"pw-link\">PinkWink</a>\n",
       "</p>\n",
       "<p class=\"inner-text second-item\">\n",
       "                Happy Data Science.\n",
       "                <a href=\"https://www.python.org\" id=\"py-link\">Python</a>\n",
       "</p>\n",
       "</div>\n",
       "<p class=\"outer-text first-item\" id=\"second\">\n",
       "<b>\n",
       "                Data Science is funny.\n",
       "            </b>\n",
       "</p>\n",
       "<p class=\"outer-text\">\n",
       "<b>\n",
       "                All I need is Love.\n",
       "            </b>\n",
       "</p>\n",
       "</body>"
      ]
     },
     "execution_count": 42,
     "metadata": {},
     "output_type": "execute_result"
    }
   ],
   "source": [
    "soup.body"
   ]
  },
  {
   "cell_type": "code",
   "execution_count": 43,
   "metadata": {},
   "outputs": [
    {
     "data": {
      "text/plain": [
       "['\\n',\n",
       " <div>\n",
       " <p class=\"inner-text first-item\" id=\"first\">\n",
       "                 Happy PinkWink.\n",
       "                 <a href=\"http://www.pinkwink.kr\" id=\"pw-link\">PinkWink</a>\n",
       " </p>\n",
       " <p class=\"inner-text second-item\">\n",
       "                 Happy Data Science.\n",
       "                 <a href=\"https://www.python.org\" id=\"py-link\">Python</a>\n",
       " </p>\n",
       " </div>,\n",
       " '\\n',\n",
       " <p class=\"outer-text first-item\" id=\"second\">\n",
       " <b>\n",
       "                 Data Science is funny.\n",
       "             </b>\n",
       " </p>,\n",
       " '\\n',\n",
       " <p class=\"outer-text\">\n",
       " <b>\n",
       "                 All I need is Love.\n",
       "             </b>\n",
       " </p>,\n",
       " '\\n']"
      ]
     },
     "execution_count": 43,
     "metadata": {},
     "output_type": "execute_result"
    }
   ],
   "source": [
    "list(soup.body.children)"
   ]
  },
  {
   "cell_type": "code",
   "execution_count": 44,
   "metadata": {},
   "outputs": [
    {
     "data": {
      "text/plain": [
       "<p class=\"outer-text\">\n",
       "<b>\n",
       "                All I need is Love.\n",
       "            </b>\n",
       "</p>"
      ]
     },
     "execution_count": 44,
     "metadata": {},
     "output_type": "execute_result"
    }
   ],
   "source": [
    " # 모든 p 태그의 3번 인덱스값\n",
    "soup.find_all('p')[3]  \n"
   ]
  },
  {
   "cell_type": "code",
   "execution_count": 45,
   "metadata": {},
   "outputs": [
    {
     "data": {
      "text/plain": [
       "<p class=\"inner-text first-item\" id=\"first\">\n",
       "                Happy PinkWink.\n",
       "                <a href=\"http://www.pinkwink.kr\" id=\"pw-link\">PinkWink</a>\n",
       "</p>"
      ]
     },
     "execution_count": 45,
     "metadata": {},
     "output_type": "execute_result"
    }
   ],
   "source": [
    "# 첫번째 p태그\n",
    "soup.find('p')"
   ]
  },
  {
   "cell_type": "code",
   "execution_count": 46,
   "metadata": {},
   "outputs": [
    {
     "data": {
      "text/plain": [
       "[<p class=\"outer-text first-item\" id=\"second\">\n",
       " <b>\n",
       "                 Data Science is funny.\n",
       "             </b>\n",
       " </p>,\n",
       " <p class=\"outer-text\">\n",
       " <b>\n",
       "                 All I need is Love.\n",
       "             </b>\n",
       " </p>]"
      ]
     },
     "execution_count": 46,
     "metadata": {},
     "output_type": "execute_result"
    }
   ],
   "source": [
    "soup.find_all('p',class_='outer-text')"
   ]
  },
  {
   "cell_type": "code",
   "execution_count": 47,
   "metadata": {},
   "outputs": [
    {
     "data": {
      "text/plain": [
       "[<a href=\"https://www.python.org\" id=\"py-link\">Python</a>]"
      ]
     },
     "execution_count": 47,
     "metadata": {},
     "output_type": "execute_result"
    }
   ],
   "source": [
    "soup.find_all(id='py-link')"
   ]
  },
  {
   "cell_type": "code",
   "execution_count": 48,
   "metadata": {},
   "outputs": [
    {
     "name": "stdout",
     "output_type": "stream",
     "text": [
      "\n",
      "                Happy PinkWink.\n",
      "                PinkWink\n",
      "\n"
     ]
    }
   ],
   "source": [
    "print(soup.find('p').get_text())"
   ]
  },
  {
   "cell_type": "code",
   "execution_count": 49,
   "metadata": {},
   "outputs": [
    {
     "name": "stdout",
     "output_type": "stream",
     "text": [
      "\n",
      "                Happy PinkWink.\n",
      "                PinkWink\n",
      "\n",
      "\n",
      "                Happy Data Science.\n",
      "                Python\n",
      "\n",
      "\n",
      "\n",
      "                Data Science is funny.\n",
      "            \n",
      "\n",
      "\n",
      "\n",
      "                All I need is Love.\n",
      "            \n",
      "\n"
     ]
    }
   ],
   "source": [
    "for each_tag in soup.find_all('p'):\n",
    "    print(each_tag.get_text())"
   ]
  },
  {
   "cell_type": "code",
   "execution_count": 50,
   "metadata": {},
   "outputs": [
    {
     "name": "stdout",
     "output_type": "stream",
     "text": [
      "\n",
      "\n",
      "\n",
      "                Happy PinkWink.\n",
      "                PinkWink\n",
      "\n",
      "\n",
      "                Happy Data Science.\n",
      "                Python\n",
      "\n",
      "\n",
      "\n",
      "\n",
      "                Data Science is funny.\n",
      "            \n",
      "\n",
      "\n",
      "\n",
      "                All I need is Love.\n",
      "            \n",
      "\n",
      "\n"
     ]
    }
   ],
   "source": [
    "print(soup.body.get_text())"
   ]
  },
  {
   "cell_type": "code",
   "execution_count": 51,
   "metadata": {},
   "outputs": [
    {
     "data": {
      "text/plain": [
       "[<a href=\"http://www.pinkwink.kr\" id=\"pw-link\">PinkWink</a>,\n",
       " <a href=\"https://www.python.org\" id=\"py-link\">Python</a>]"
      ]
     },
     "execution_count": 51,
     "metadata": {},
     "output_type": "execute_result"
    }
   ],
   "source": [
    "soup.find_all('a')"
   ]
  },
  {
   "cell_type": "code",
   "execution_count": 52,
   "metadata": {},
   "outputs": [
    {
     "data": {
      "text/plain": [
       "'http://www.pinkwink.kr'"
      ]
     },
     "execution_count": 52,
     "metadata": {},
     "output_type": "execute_result"
    }
   ],
   "source": [
    "soup.find_all('a')[0]['href']"
   ]
  },
  {
   "cell_type": "code",
   "execution_count": 53,
   "metadata": {},
   "outputs": [
    {
     "data": {
      "text/plain": [
       "'PinkWink'"
      ]
     },
     "execution_count": 53,
     "metadata": {},
     "output_type": "execute_result"
    }
   ],
   "source": [
    "soup.find_all('a')[0].string"
   ]
  },
  {
   "cell_type": "code",
   "execution_count": 54,
   "metadata": {},
   "outputs": [
    {
     "name": "stdout",
     "output_type": "stream",
     "text": [
      "PinkWink->http://www.pinkwink.kr\n",
      "Python->https://www.python.org\n"
     ]
    }
   ],
   "source": [
    "for each in soup.find_all('a'):\n",
    "    print(each.string + '->' + each['href'])\n",
    "    "
   ]
  },
  {
   "attachments": {},
   "cell_type": "markdown",
   "metadata": {},
   "source": [
    "### 크롬 개발자 도구를 이용해서 원하는 태그 찾기"
   ]
  },
  {
   "cell_type": "code",
   "execution_count": 55,
   "metadata": {},
   "outputs": [],
   "source": [
    "from urllib.request import urlopen"
   ]
  },
  {
   "cell_type": "code",
   "execution_count": 56,
   "metadata": {},
   "outputs": [
    {
     "data": {
      "text/plain": [
       "[<span class=\"value\">1,320.10</span>,\n",
       " <span class=\"value\">979.56</span>,\n",
       " <span class=\"value\">1,457.59</span>,\n",
       " <span class=\"value\">190.76</span>,\n",
       " <span class=\"value\">134.8300</span>,\n",
       " <span class=\"value\">1.1124</span>,\n",
       " <span class=\"value\">1.2639</span>,\n",
       " <span class=\"value\">100.9900</span>,\n",
       " <span class=\"value\">71.34</span>,\n",
       " <span class=\"value\">1653.12</span>,\n",
       " <span class=\"value\">2024.8</span>,\n",
       " <span class=\"value\">85845.4</span>]"
      ]
     },
     "execution_count": 56,
     "metadata": {},
     "output_type": "execute_result"
    }
   ],
   "source": [
    "# 네이버 증권 시장지표의 환율 가져오기\n",
    "\n",
    "url = 'https://finance.naver.com/marketindex/'\n",
    "page = urlopen(url)\n",
    "\n",
    "soup = BeautifulSoup(page, 'html.parser')\n",
    "#print(soup)\n",
    "\n",
    "#              tag     class\n",
    "soup.find_all('span', 'value')  # return list"
   ]
  },
  {
   "cell_type": "code",
   "execution_count": 57,
   "metadata": {},
   "outputs": [
    {
     "data": {
      "text/plain": [
       "'1,320.10'"
      ]
     },
     "execution_count": 57,
     "metadata": {},
     "output_type": "execute_result"
    }
   ],
   "source": [
    "soup.find_all('span', 'value')[0].string"
   ]
  },
  {
   "attachments": {},
   "cell_type": "markdown",
   "metadata": {},
   "source": [
    "### 실전 : 시카고 샌드위치 맛집 소개 사이트에 접근하기"
   ]
  },
  {
   "cell_type": "code",
   "execution_count": 58,
   "metadata": {},
   "outputs": [],
   "source": [
    "from bs4 import BeautifulSoup\n",
    "from urllib.request import urlopen, Request\n"
   ]
  },
  {
   "cell_type": "code",
   "execution_count": 59,
   "metadata": {},
   "outputs": [],
   "source": [
    "import ssl\n",
    "ssl._create_default_https_context = ssl._create_unverified_context\n",
    "\n",
    "url_base = 'https://www.chicagomag.com'\n",
    "url_sub = '/Chicago-Magazine/November-2012/Best-Sandwiches-Chicago/'\n",
    "\n",
    "url = url_base + url_sub\n",
    "\n",
    "\n",
    "headers = {'User-Agent':'Chrome/112.0.5615.138'}\n",
    "req = Request(url, headers=headers)\n",
    "\n",
    "html = urlopen(req)\n",
    "soup = BeautifulSoup(html, 'html.parser')\n",
    "\n"
   ]
  },
  {
   "cell_type": "code",
   "execution_count": 60,
   "metadata": {},
   "outputs": [
    {
     "data": {
      "text/plain": [
       "50"
      ]
     },
     "execution_count": 60,
     "metadata": {},
     "output_type": "execute_result"
    }
   ],
   "source": [
    "len(soup.find_all('div','sammy'))"
   ]
  },
  {
   "cell_type": "code",
   "execution_count": 61,
   "metadata": {},
   "outputs": [
    {
     "data": {
      "text/plain": [
       "<div class=\"sammy\" style=\"position: relative;\">\n",
       "<div class=\"sammyRank\">1</div>\n",
       "<div class=\"sammyListing\"><a href=\"/Chicago-Magazine/November-2012/Best-Sandwiches-in-Chicago-Old-Oak-Tap-BLT/\"><b>BLT</b><br/>\n",
       "Old Oak Tap<br/>\n",
       "<em>Read more</em> </a></div>\n",
       "</div>"
      ]
     },
     "execution_count": 61,
     "metadata": {},
     "output_type": "execute_result"
    }
   ],
   "source": [
    "soup.find_all('div','sammy')[0]"
   ]
  },
  {
   "attachments": {},
   "cell_type": "markdown",
   "metadata": {},
   "source": [
    "### 접근한 웹 페이지에서 원하는 데이터 추출하고 정리하기"
   ]
  },
  {
   "cell_type": "code",
   "execution_count": 62,
   "metadata": {},
   "outputs": [],
   "source": [
    "tmp = soup.find_all('div','sammy')[0]"
   ]
  },
  {
   "cell_type": "code",
   "execution_count": 63,
   "metadata": {},
   "outputs": [
    {
     "data": {
      "text/plain": [
       "'1'"
      ]
     },
     "execution_count": 63,
     "metadata": {},
     "output_type": "execute_result"
    }
   ],
   "source": [
    "tmp.find(class_='sammyRank').get_text()"
   ]
  },
  {
   "cell_type": "code",
   "execution_count": 64,
   "metadata": {},
   "outputs": [
    {
     "data": {
      "text/plain": [
       "['BLT', 'Old Oak Tap', 'Read more ']"
      ]
     },
     "execution_count": 64,
     "metadata": {},
     "output_type": "execute_result"
    }
   ],
   "source": [
    "tmp.find(class_='sammyListing').get_text().split('\\n')"
   ]
  },
  {
   "cell_type": "code",
   "execution_count": 65,
   "metadata": {},
   "outputs": [
    {
     "data": {
      "text/plain": [
       "'/Chicago-Magazine/November-2012/Best-Sandwiches-in-Chicago-Old-Oak-Tap-BLT/'"
      ]
     },
     "execution_count": 65,
     "metadata": {},
     "output_type": "execute_result"
    }
   ],
   "source": [
    "# 상세 url\n",
    "tmp.find('a')['href']"
   ]
  },
  {
   "cell_type": "code",
   "execution_count": 66,
   "metadata": {},
   "outputs": [],
   "source": [
    "# url 합치기 (한글 url은 +기호로 합치기 불가)\n",
    "from urllib.parse import urljoin"
   ]
  },
  {
   "cell_type": "code",
   "execution_count": 67,
   "metadata": {},
   "outputs": [
    {
     "data": {
      "text/plain": [
       "'https://www.chicagomag.com/Chicago-Magazine/November-2012/Best-Sandwiches-in-Chicago-Old-Oak-Tap-BLT/'"
      ]
     },
     "execution_count": 67,
     "metadata": {},
     "output_type": "execute_result"
    }
   ],
   "source": [
    "# url_base = 'https://www.chicagomag.com'\n",
    "\n",
    "urljoin(url_base, tmp.find('a')['href'])"
   ]
  },
  {
   "cell_type": "code",
   "execution_count": 68,
   "metadata": {},
   "outputs": [
    {
     "data": {
      "text/plain": [
       "['1', '2', '3', '4', '5']"
      ]
     },
     "execution_count": 68,
     "metadata": {},
     "output_type": "execute_result"
    }
   ],
   "source": [
    "rank = []\n",
    "main_menu=[]\n",
    "cafe_name=[]\n",
    "url_addr=[]\n",
    "\n",
    "# 1~50등까지의 정보(리스트)\n",
    "list_soup = soup.find_all('div','sammy')\n",
    "\n",
    "for item in list_soup:\n",
    "    # 순위 추출\n",
    "    rank.append(item.find(class_='sammyRank').get_text())\n",
    "\n",
    "    # [메뉴명, 상호명, Read more] \n",
    "    tmp_list = item.find(class_='sammyListing').get_text().split('\\n')\n",
    "\n",
    "    main_menu.append(tmp_list[0])\n",
    "    cafe_name.append(tmp_list[1])\n",
    "\n",
    "    url_addr.append(urljoin(url_base, item.find('a')['href']))\n",
    "\n",
    "rank[:5]"
   ]
  },
  {
   "cell_type": "code",
   "execution_count": 69,
   "metadata": {},
   "outputs": [
    {
     "data": {
      "text/plain": [
       "['BLT', 'Fried Bologna', 'Woodland Mushroom', 'Roast Beef', 'PB&L']"
      ]
     },
     "execution_count": 69,
     "metadata": {},
     "output_type": "execute_result"
    }
   ],
   "source": [
    "main_menu[:5]"
   ]
  },
  {
   "cell_type": "code",
   "execution_count": 70,
   "metadata": {},
   "outputs": [
    {
     "data": {
      "text/plain": [
       "['Old Oak Tap', 'Au Cheval', 'Xoco', 'Al’s Deli', 'Publican Quality Meats']"
      ]
     },
     "execution_count": 70,
     "metadata": {},
     "output_type": "execute_result"
    }
   ],
   "source": [
    "cafe_name[:5]"
   ]
  },
  {
   "cell_type": "code",
   "execution_count": 71,
   "metadata": {},
   "outputs": [
    {
     "data": {
      "text/plain": [
       "['https://www.chicagomag.com/Chicago-Magazine/November-2012/Best-Sandwiches-in-Chicago-Old-Oak-Tap-BLT/',\n",
       " 'https://www.chicagomag.com/Chicago-Magazine/November-2012/Best-Sandwiches-in-Chicago-Au-Cheval-Fried-Bologna/',\n",
       " 'https://www.chicagomag.com/Chicago-Magazine/November-2012/Best-Sandwiches-in-Chicago-Xoco-Woodland-Mushroom/',\n",
       " 'https://www.chicagomag.com/Chicago-Magazine/November-2012/Best-Sandwiches-in-Chicago-Als-Deli-Roast-Beef/',\n",
       " 'https://www.chicagomag.com/Chicago-Magazine/November-2012/Best-Sandwiches-in-Chicago-Publican-Quality-Meats-PB-L/']"
      ]
     },
     "execution_count": 71,
     "metadata": {},
     "output_type": "execute_result"
    }
   ],
   "source": [
    "url_addr[:5]"
   ]
  },
  {
   "cell_type": "code",
   "execution_count": 72,
   "metadata": {},
   "outputs": [
    {
     "data": {
      "text/plain": [
       "(50, 50, 50, 50)"
      ]
     },
     "execution_count": 72,
     "metadata": {},
     "output_type": "execute_result"
    }
   ],
   "source": [
    "len(rank), len(main_menu), len(cafe_name), len(url_addr)"
   ]
  },
  {
   "cell_type": "code",
   "execution_count": 73,
   "metadata": {},
   "outputs": [
    {
     "data": {
      "text/html": [
       "<div>\n",
       "<style scoped>\n",
       "    .dataframe tbody tr th:only-of-type {\n",
       "        vertical-align: middle;\n",
       "    }\n",
       "\n",
       "    .dataframe tbody tr th {\n",
       "        vertical-align: top;\n",
       "    }\n",
       "\n",
       "    .dataframe thead th {\n",
       "        text-align: right;\n",
       "    }\n",
       "</style>\n",
       "<table border=\"1\" class=\"dataframe\">\n",
       "  <thead>\n",
       "    <tr style=\"text-align: right;\">\n",
       "      <th></th>\n",
       "      <th>Rank</th>\n",
       "      <th>Menu</th>\n",
       "      <th>Cafe</th>\n",
       "      <th>URL</th>\n",
       "    </tr>\n",
       "  </thead>\n",
       "  <tbody>\n",
       "    <tr>\n",
       "      <th>0</th>\n",
       "      <td>1</td>\n",
       "      <td>BLT</td>\n",
       "      <td>Old Oak Tap</td>\n",
       "      <td>https://www.chicagomag.com/Chicago-Magazine/No...</td>\n",
       "    </tr>\n",
       "    <tr>\n",
       "      <th>1</th>\n",
       "      <td>2</td>\n",
       "      <td>Fried Bologna</td>\n",
       "      <td>Au Cheval</td>\n",
       "      <td>https://www.chicagomag.com/Chicago-Magazine/No...</td>\n",
       "    </tr>\n",
       "    <tr>\n",
       "      <th>2</th>\n",
       "      <td>3</td>\n",
       "      <td>Woodland Mushroom</td>\n",
       "      <td>Xoco</td>\n",
       "      <td>https://www.chicagomag.com/Chicago-Magazine/No...</td>\n",
       "    </tr>\n",
       "    <tr>\n",
       "      <th>3</th>\n",
       "      <td>4</td>\n",
       "      <td>Roast Beef</td>\n",
       "      <td>Al’s Deli</td>\n",
       "      <td>https://www.chicagomag.com/Chicago-Magazine/No...</td>\n",
       "    </tr>\n",
       "    <tr>\n",
       "      <th>4</th>\n",
       "      <td>5</td>\n",
       "      <td>PB&amp;L</td>\n",
       "      <td>Publican Quality Meats</td>\n",
       "      <td>https://www.chicagomag.com/Chicago-Magazine/No...</td>\n",
       "    </tr>\n",
       "  </tbody>\n",
       "</table>\n",
       "</div>"
      ],
      "text/plain": [
       "  Rank               Menu                    Cafe   \n",
       "0    1                BLT             Old Oak Tap  \\\n",
       "1    2      Fried Bologna               Au Cheval   \n",
       "2    3  Woodland Mushroom                    Xoco   \n",
       "3    4         Roast Beef               Al’s Deli   \n",
       "4    5               PB&L  Publican Quality Meats   \n",
       "\n",
       "                                                 URL  \n",
       "0  https://www.chicagomag.com/Chicago-Magazine/No...  \n",
       "1  https://www.chicagomag.com/Chicago-Magazine/No...  \n",
       "2  https://www.chicagomag.com/Chicago-Magazine/No...  \n",
       "3  https://www.chicagomag.com/Chicago-Magazine/No...  \n",
       "4  https://www.chicagomag.com/Chicago-Magazine/No...  "
      ]
     },
     "execution_count": 73,
     "metadata": {},
     "output_type": "execute_result"
    }
   ],
   "source": [
    "df = pd.DataFrame({\n",
    "      'Rank' : rank\n",
    "    , 'Menu' : main_menu\n",
    "    , 'Cafe' : cafe_name\n",
    "    , 'URL'  : url_addr    \n",
    "})\n",
    "\n",
    "df.head()"
   ]
  },
  {
   "cell_type": "code",
   "execution_count": 74,
   "metadata": {},
   "outputs": [],
   "source": [
    "df.to_csv('../data/03. best_sandwiches_list_chicago.csv',sep=',',encoding='UTF-8')"
   ]
  },
  {
   "attachments": {},
   "cell_type": "markdown",
   "metadata": {},
   "source": [
    "### 다수의 웹 페이지에 자동으로 접근해서 원하는 정보 가져오기"
   ]
  },
  {
   "cell_type": "code",
   "execution_count": 75,
   "metadata": {},
   "outputs": [
    {
     "data": {
      "text/html": [
       "<div>\n",
       "<style scoped>\n",
       "    .dataframe tbody tr th:only-of-type {\n",
       "        vertical-align: middle;\n",
       "    }\n",
       "\n",
       "    .dataframe tbody tr th {\n",
       "        vertical-align: top;\n",
       "    }\n",
       "\n",
       "    .dataframe thead th {\n",
       "        text-align: right;\n",
       "    }\n",
       "</style>\n",
       "<table border=\"1\" class=\"dataframe\">\n",
       "  <thead>\n",
       "    <tr style=\"text-align: right;\">\n",
       "      <th></th>\n",
       "      <th>Rank</th>\n",
       "      <th>Menu</th>\n",
       "      <th>Cafe</th>\n",
       "      <th>URL</th>\n",
       "    </tr>\n",
       "  </thead>\n",
       "  <tbody>\n",
       "    <tr>\n",
       "      <th>0</th>\n",
       "      <td>1</td>\n",
       "      <td>BLT</td>\n",
       "      <td>Old Oak Tap</td>\n",
       "      <td>https://www.chicagomag.com/Chicago-Magazine/No...</td>\n",
       "    </tr>\n",
       "    <tr>\n",
       "      <th>1</th>\n",
       "      <td>2</td>\n",
       "      <td>Fried Bologna</td>\n",
       "      <td>Au Cheval</td>\n",
       "      <td>https://www.chicagomag.com/Chicago-Magazine/No...</td>\n",
       "    </tr>\n",
       "    <tr>\n",
       "      <th>2</th>\n",
       "      <td>3</td>\n",
       "      <td>Woodland Mushroom</td>\n",
       "      <td>Xoco</td>\n",
       "      <td>https://www.chicagomag.com/Chicago-Magazine/No...</td>\n",
       "    </tr>\n",
       "    <tr>\n",
       "      <th>3</th>\n",
       "      <td>4</td>\n",
       "      <td>Roast Beef</td>\n",
       "      <td>Al’s Deli</td>\n",
       "      <td>https://www.chicagomag.com/Chicago-Magazine/No...</td>\n",
       "    </tr>\n",
       "    <tr>\n",
       "      <th>4</th>\n",
       "      <td>5</td>\n",
       "      <td>PB&amp;L</td>\n",
       "      <td>Publican Quality Meats</td>\n",
       "      <td>https://www.chicagomag.com/Chicago-Magazine/No...</td>\n",
       "    </tr>\n",
       "  </tbody>\n",
       "</table>\n",
       "</div>"
      ],
      "text/plain": [
       "   Rank               Menu                    Cafe   \n",
       "0     1                BLT             Old Oak Tap  \\\n",
       "1     2      Fried Bologna               Au Cheval   \n",
       "2     3  Woodland Mushroom                    Xoco   \n",
       "3     4         Roast Beef               Al’s Deli   \n",
       "4     5               PB&L  Publican Quality Meats   \n",
       "\n",
       "                                                 URL  \n",
       "0  https://www.chicagomag.com/Chicago-Magazine/No...  \n",
       "1  https://www.chicagomag.com/Chicago-Magazine/No...  \n",
       "2  https://www.chicagomag.com/Chicago-Magazine/No...  \n",
       "3  https://www.chicagomag.com/Chicago-Magazine/No...  \n",
       "4  https://www.chicagomag.com/Chicago-Magazine/No...  "
      ]
     },
     "execution_count": 75,
     "metadata": {},
     "output_type": "execute_result"
    }
   ],
   "source": [
    "df = pd.read_csv('../data/03. best_sandwiches_list_chicago.csv', index_col=0)\n",
    "df.head()"
   ]
  },
  {
   "cell_type": "code",
   "execution_count": null,
   "metadata": {},
   "outputs": [],
   "source": [
    "# 상세페이지 이동 -> 가격, 주소 추출\n",
    "\n",
    "headers = {'User-Agent':'Chrome/112.0.5615.138'}\n",
    "req = Request(df['URL'][0], headers=headers)\n",
    "\n",
    "html = urlopen(req)\n",
    "soup_tmp = BeautifulSoup(html, 'html.parser')"
   ]
  },
  {
   "cell_type": "code",
   "execution_count": 92,
   "metadata": {},
   "outputs": [
    {
     "data": {
      "text/plain": [
       "['$10.', '2109', 'W.', 'Chicago', 'Ave.,', '773-772-0406,', 'theoldoaktap.com']"
      ]
     },
     "execution_count": 92,
     "metadata": {},
     "output_type": "execute_result"
    }
   ],
   "source": [
    "soup_tmp.find('p','addy').get_text().split()"
   ]
  },
  {
   "cell_type": "code",
   "execution_count": 96,
   "metadata": {},
   "outputs": [
    {
     "data": {
      "text/plain": [
       "'$10'"
      ]
     },
     "execution_count": 96,
     "metadata": {},
     "output_type": "execute_result"
    }
   ],
   "source": [
    "# 가격\n",
    "soup_tmp.find('p','addy').get_text().split()[0][:-1]"
   ]
  },
  {
   "cell_type": "code",
   "execution_count": 102,
   "metadata": {},
   "outputs": [
    {
     "data": {
      "text/plain": [
       "'2109 W. Chicago Ave.,'"
      ]
     },
     "execution_count": 102,
     "metadata": {},
     "output_type": "execute_result"
    }
   ],
   "source": [
    "# 주소\n",
    "soup_tmp.find('p','addy').get_text().split()[1:5]\n",
    "\n",
    "' '.join(soup_tmp.find('p','addy').get_text().split()[1:-2])"
   ]
  },
  {
   "cell_type": "code",
   "execution_count": 101,
   "metadata": {},
   "outputs": [
    {
     "data": {
      "text/plain": [
       "50"
      ]
     },
     "execution_count": 101,
     "metadata": {},
     "output_type": "execute_result"
    }
   ],
   "source": [
    "len(df)"
   ]
  },
  {
   "attachments": {},
   "cell_type": "markdown",
   "metadata": {},
   "source": [
    "### 상태 진행바를 쉽게 만들어주는 모듈 tqdm"
   ]
  },
  {
   "cell_type": "code",
   "execution_count": 114,
   "metadata": {},
   "outputs": [],
   "source": [
    "from tqdm import tqdm"
   ]
  },
  {
   "cell_type": "code",
   "execution_count": 115,
   "metadata": {},
   "outputs": [
    {
     "name": "stderr",
     "output_type": "stream",
     "text": [
      "100%|██████████| 50/50 [01:44<00:00,  2.09s/it]\n"
     ]
    }
   ],
   "source": [
    "price=[]\n",
    "address=[]\n",
    "\n",
    "for n in tqdm(df.index):\n",
    "    headers = {'User-Agent':'Chrome/112.0.5615.138'}\n",
    "    req = Request(df['URL'][n], headers=headers)\n",
    "\n",
    "    html = urlopen(req)\n",
    "    soup_tmp = BeautifulSoup(html, 'html.parser')\n",
    "\n",
    "    gettings = soup_tmp.find('p','addy').get_text()\n",
    "\n",
    "    price.append(gettings.split()[0][:-1])\n",
    "    address.append(' '.join(gettings.split()[1:-2]))"
   ]
  },
  {
   "cell_type": "code",
   "execution_count": 116,
   "metadata": {},
   "outputs": [
    {
     "data": {
      "text/plain": [
       "['$10', '$9', '$9.50', '$9.40', '$10']"
      ]
     },
     "execution_count": 116,
     "metadata": {},
     "output_type": "execute_result"
    }
   ],
   "source": [
    "price[:5]"
   ]
  },
  {
   "cell_type": "code",
   "execution_count": 117,
   "metadata": {},
   "outputs": [
    {
     "data": {
      "text/plain": [
       "['2109 W. Chicago Ave.,',\n",
       " '800 W. Randolph St.,',\n",
       " '445 N. Clark St.,',\n",
       " '914 Noyes St., Evanston,',\n",
       " '825 W. Fulton Mkt.,']"
      ]
     },
     "execution_count": 117,
     "metadata": {},
     "output_type": "execute_result"
    }
   ],
   "source": [
    "address[:5]"
   ]
  },
  {
   "cell_type": "code",
   "execution_count": 118,
   "metadata": {},
   "outputs": [
    {
     "data": {
      "text/plain": [
       "(50, 50)"
      ]
     },
     "execution_count": 118,
     "metadata": {},
     "output_type": "execute_result"
    }
   ],
   "source": [
    "len(price), len(address)"
   ]
  },
  {
   "cell_type": "code",
   "execution_count": 119,
   "metadata": {},
   "outputs": [
    {
     "data": {
      "text/html": [
       "<div>\n",
       "<style scoped>\n",
       "    .dataframe tbody tr th:only-of-type {\n",
       "        vertical-align: middle;\n",
       "    }\n",
       "\n",
       "    .dataframe tbody tr th {\n",
       "        vertical-align: top;\n",
       "    }\n",
       "\n",
       "    .dataframe thead th {\n",
       "        text-align: right;\n",
       "    }\n",
       "</style>\n",
       "<table border=\"1\" class=\"dataframe\">\n",
       "  <thead>\n",
       "    <tr style=\"text-align: right;\">\n",
       "      <th></th>\n",
       "      <th>Rank</th>\n",
       "      <th>Menu</th>\n",
       "      <th>Cafe</th>\n",
       "      <th>URL</th>\n",
       "      <th>Price</th>\n",
       "      <th>Address</th>\n",
       "    </tr>\n",
       "  </thead>\n",
       "  <tbody>\n",
       "    <tr>\n",
       "      <th>0</th>\n",
       "      <td>1</td>\n",
       "      <td>BLT</td>\n",
       "      <td>Old Oak Tap</td>\n",
       "      <td>https://www.chicagomag.com/Chicago-Magazine/No...</td>\n",
       "      <td>$10</td>\n",
       "      <td>2109 W. Chicago Ave.,</td>\n",
       "    </tr>\n",
       "    <tr>\n",
       "      <th>1</th>\n",
       "      <td>2</td>\n",
       "      <td>Fried Bologna</td>\n",
       "      <td>Au Cheval</td>\n",
       "      <td>https://www.chicagomag.com/Chicago-Magazine/No...</td>\n",
       "      <td>$9</td>\n",
       "      <td>800 W. Randolph St.,</td>\n",
       "    </tr>\n",
       "    <tr>\n",
       "      <th>2</th>\n",
       "      <td>3</td>\n",
       "      <td>Woodland Mushroom</td>\n",
       "      <td>Xoco</td>\n",
       "      <td>https://www.chicagomag.com/Chicago-Magazine/No...</td>\n",
       "      <td>$9.50</td>\n",
       "      <td>445 N. Clark St.,</td>\n",
       "    </tr>\n",
       "    <tr>\n",
       "      <th>3</th>\n",
       "      <td>4</td>\n",
       "      <td>Roast Beef</td>\n",
       "      <td>Al’s Deli</td>\n",
       "      <td>https://www.chicagomag.com/Chicago-Magazine/No...</td>\n",
       "      <td>$9.40</td>\n",
       "      <td>914 Noyes St., Evanston,</td>\n",
       "    </tr>\n",
       "    <tr>\n",
       "      <th>4</th>\n",
       "      <td>5</td>\n",
       "      <td>PB&amp;L</td>\n",
       "      <td>Publican Quality Meats</td>\n",
       "      <td>https://www.chicagomag.com/Chicago-Magazine/No...</td>\n",
       "      <td>$10</td>\n",
       "      <td>825 W. Fulton Mkt.,</td>\n",
       "    </tr>\n",
       "    <tr>\n",
       "      <th>5</th>\n",
       "      <td>6</td>\n",
       "      <td>Belgian Chicken Curry Salad</td>\n",
       "      <td>Hendrickx Belgian Bread Crafter</td>\n",
       "      <td>https://www.chicagomag.com/Chicago-Magazine/No...</td>\n",
       "      <td>$7.25</td>\n",
       "      <td>100 E. Walton</td>\n",
       "    </tr>\n",
       "    <tr>\n",
       "      <th>6</th>\n",
       "      <td>7</td>\n",
       "      <td>Lobster Roll</td>\n",
       "      <td>Acadia</td>\n",
       "      <td>https://www.chicagomag.com/Chicago-Magazine/No...</td>\n",
       "      <td>$16</td>\n",
       "      <td>1639 S. Wabash Ave.,</td>\n",
       "    </tr>\n",
       "    <tr>\n",
       "      <th>7</th>\n",
       "      <td>8</td>\n",
       "      <td>Smoked Salmon Salad</td>\n",
       "      <td>Birchwood Kitchen</td>\n",
       "      <td>https://www.chicagomag.com/Chicago-Magazine/No...</td>\n",
       "      <td>$10</td>\n",
       "      <td>2211 W. North Ave.,</td>\n",
       "    </tr>\n",
       "    <tr>\n",
       "      <th>8</th>\n",
       "      <td>9</td>\n",
       "      <td>Atomica Cemitas</td>\n",
       "      <td>Cemitas Puebla</td>\n",
       "      <td>https://www.chicagomag.com/Chicago-Magazine/No...</td>\n",
       "      <td>$9</td>\n",
       "      <td>3619 W. North Ave.,</td>\n",
       "    </tr>\n",
       "    <tr>\n",
       "      <th>9</th>\n",
       "      <td>10</td>\n",
       "      <td>Grilled Laughing Bird Shrimp and Fried Po’ Boy</td>\n",
       "      <td>Nana</td>\n",
       "      <td>https://www.chicagomag.com/Chicago-Magazine/No...</td>\n",
       "      <td>$17</td>\n",
       "      <td>3267 S. Halsted St.,</td>\n",
       "    </tr>\n",
       "    <tr>\n",
       "      <th>10</th>\n",
       "      <td>11</td>\n",
       "      <td>Ham and Raclette Panino</td>\n",
       "      <td>Lula Cafe</td>\n",
       "      <td>https://www.chicagomag.com/Chicago-Magazine/No...</td>\n",
       "      <td>$11</td>\n",
       "      <td>2537 N. Kedzie Blvd.,</td>\n",
       "    </tr>\n",
       "    <tr>\n",
       "      <th>11</th>\n",
       "      <td>12</td>\n",
       "      <td>Breaded Steak</td>\n",
       "      <td>Ricobene’s</td>\n",
       "      <td>https://www.chicagomag.com/Chicago-Magazine/No...</td>\n",
       "      <td>$5.49</td>\n",
       "      <td>Multiple</td>\n",
       "    </tr>\n",
       "    <tr>\n",
       "      <th>12</th>\n",
       "      <td>13</td>\n",
       "      <td>The Hawkeye</td>\n",
       "      <td>Frog n Snail</td>\n",
       "      <td>https://www.chicagomag.com/Chicago-Magazine/No...</td>\n",
       "      <td>$14</td>\n",
       "      <td>3124 N. Broadway,</td>\n",
       "    </tr>\n",
       "    <tr>\n",
       "      <th>13</th>\n",
       "      <td>14</td>\n",
       "      <td>Chicken Dip</td>\n",
       "      <td>Crosby’s Kitchen</td>\n",
       "      <td>https://www.chicagomag.com/Chicago-Magazine/No...</td>\n",
       "      <td>$10</td>\n",
       "      <td>3455 N. Southport Ave.,</td>\n",
       "    </tr>\n",
       "    <tr>\n",
       "      <th>14</th>\n",
       "      <td>15</td>\n",
       "      <td>Wild Boar Sloppy Joe</td>\n",
       "      <td>Longman &amp; Eagle</td>\n",
       "      <td>https://www.chicagomag.com/Chicago-Magazine/No...</td>\n",
       "      <td>$13</td>\n",
       "      <td>2657 N. Kedzie Ave.,</td>\n",
       "    </tr>\n",
       "    <tr>\n",
       "      <th>15</th>\n",
       "      <td>16</td>\n",
       "      <td>Meatball Sub</td>\n",
       "      <td>Bari</td>\n",
       "      <td>https://www.chicagomag.com/Chicago-Magazine/No...</td>\n",
       "      <td>$4.50</td>\n",
       "      <td>1120 W. Grand Ave.,</td>\n",
       "    </tr>\n",
       "    <tr>\n",
       "      <th>16</th>\n",
       "      <td>17</td>\n",
       "      <td>Corned Beef</td>\n",
       "      <td>Manny’s</td>\n",
       "      <td>https://www.chicagomag.com/Chicago-Magazine/No...</td>\n",
       "      <td>$11.95</td>\n",
       "      <td>1141 S. Jefferson St.,</td>\n",
       "    </tr>\n",
       "    <tr>\n",
       "      <th>17</th>\n",
       "      <td>18</td>\n",
       "      <td>Turkey Club</td>\n",
       "      <td>Eggy’s</td>\n",
       "      <td>https://www.chicagomag.com/Chicago-Magazine/No...</td>\n",
       "      <td>$11.50</td>\n",
       "      <td>333 E. Benton Pl.,</td>\n",
       "    </tr>\n",
       "    <tr>\n",
       "      <th>18</th>\n",
       "      <td>19</td>\n",
       "      <td>Falafel</td>\n",
       "      <td>Old Jerusalem</td>\n",
       "      <td>https://www.chicagomag.com/Chicago-Magazine/No...</td>\n",
       "      <td>$6.25</td>\n",
       "      <td>1411 N. Wells St.,</td>\n",
       "    </tr>\n",
       "    <tr>\n",
       "      <th>19</th>\n",
       "      <td>20</td>\n",
       "      <td>Crab Cake</td>\n",
       "      <td>Mindy’s HotChocolate</td>\n",
       "      <td>https://www.chicagomag.com/Chicago-Magazine/No...</td>\n",
       "      <td>$15</td>\n",
       "      <td>1747 N. Damen Ave.,</td>\n",
       "    </tr>\n",
       "    <tr>\n",
       "      <th>20</th>\n",
       "      <td>21</td>\n",
       "      <td>Chicken Schnitzel</td>\n",
       "      <td>Olga’s Delicatessen</td>\n",
       "      <td>https://www.chicagomag.com/Chicago-Magazine/No...</td>\n",
       "      <td>$5</td>\n",
       "      <td>3209 W. Irving Park</td>\n",
       "    </tr>\n",
       "    <tr>\n",
       "      <th>21</th>\n",
       "      <td>22</td>\n",
       "      <td>Shawarma</td>\n",
       "      <td>Dawali Mediterranean Kitchen</td>\n",
       "      <td>https://www.chicagomag.com/Chicago-Magazine/No...</td>\n",
       "      <td>$6</td>\n",
       "      <td>Multiple</td>\n",
       "    </tr>\n",
       "    <tr>\n",
       "      <th>22</th>\n",
       "      <td>23</td>\n",
       "      <td>Toasted Pimiento Cheese</td>\n",
       "      <td>Big Jones</td>\n",
       "      <td>https://www.chicagomag.com/Chicago-Magazine/No...</td>\n",
       "      <td>$8</td>\n",
       "      <td>5347 N. Clark St.,</td>\n",
       "    </tr>\n",
       "    <tr>\n",
       "      <th>23</th>\n",
       "      <td>24</td>\n",
       "      <td>Vegetarian Panino</td>\n",
       "      <td>La Pane</td>\n",
       "      <td>https://www.chicagomag.com/Chicago-Magazine/No...</td>\n",
       "      <td>$5.99</td>\n",
       "      <td>2954 W. Irving Park Rd.,</td>\n",
       "    </tr>\n",
       "    <tr>\n",
       "      <th>24</th>\n",
       "      <td>25</td>\n",
       "      <td>Cali Chèvre</td>\n",
       "      <td>Pastoral</td>\n",
       "      <td>https://www.chicagomag.com/Chicago-Magazine/No...</td>\n",
       "      <td>$7.52</td>\n",
       "      <td>Multiple</td>\n",
       "    </tr>\n",
       "    <tr>\n",
       "      <th>25</th>\n",
       "      <td>26</td>\n",
       "      <td>Pastrami</td>\n",
       "      <td>Max’s Deli</td>\n",
       "      <td>https://www.chicagomag.com/Chicago-Magazine/No...</td>\n",
       "      <td>$11.95</td>\n",
       "      <td>191 Skokie Valley Rd., Highland Park,</td>\n",
       "    </tr>\n",
       "    <tr>\n",
       "      <th>26</th>\n",
       "      <td>27</td>\n",
       "      <td>The Fredo</td>\n",
       "      <td>Lucky’s Sandwich Co.</td>\n",
       "      <td>https://www.chicagomag.com/Chicago-Magazine/No...</td>\n",
       "      <td>$7.50</td>\n",
       "      <td>Multiple</td>\n",
       "    </tr>\n",
       "    <tr>\n",
       "      <th>27</th>\n",
       "      <td>28</td>\n",
       "      <td>Smoked Ham</td>\n",
       "      <td>City Provisions</td>\n",
       "      <td>https://www.chicagomag.com/Chicago-Magazine/No...</td>\n",
       "      <td>$12.95</td>\n",
       "      <td>1818 W. Wilson Ave.,</td>\n",
       "    </tr>\n",
       "    <tr>\n",
       "      <th>28</th>\n",
       "      <td>29</td>\n",
       "      <td>Jibarito</td>\n",
       "      <td>Papa’s Cache Sabroso</td>\n",
       "      <td>https://www.chicagomag.com/Chicago-Magazine/No...</td>\n",
       "      <td>$7</td>\n",
       "      <td>2517 W. Division St.,</td>\n",
       "    </tr>\n",
       "    <tr>\n",
       "      <th>29</th>\n",
       "      <td>30</td>\n",
       "      <td>Shaved Prime Rib</td>\n",
       "      <td>Bavette’s Bar &amp; Boeuf</td>\n",
       "      <td>https://www.chicagomag.com/Chicago-Magazine/No...</td>\n",
       "      <td>$21</td>\n",
       "      <td>218 W. Kinzie</td>\n",
       "    </tr>\n",
       "    <tr>\n",
       "      <th>30</th>\n",
       "      <td>31</td>\n",
       "      <td>Serrano Ham and Manchego Cheese</td>\n",
       "      <td>Hannah’s Bretzel</td>\n",
       "      <td>https://www.chicagomag.com/Chicago-Magazine/No...</td>\n",
       "      <td>$9.79</td>\n",
       "      <td>Multiple</td>\n",
       "    </tr>\n",
       "    <tr>\n",
       "      <th>31</th>\n",
       "      <td>32</td>\n",
       "      <td>Tuna Salad</td>\n",
       "      <td>La Fournette</td>\n",
       "      <td>https://www.chicagomag.com/Chicago-Magazine/No...</td>\n",
       "      <td>$9.75</td>\n",
       "      <td>1547 N. Wells St.,</td>\n",
       "    </tr>\n",
       "    <tr>\n",
       "      <th>32</th>\n",
       "      <td>33</td>\n",
       "      <td>Paramount Reuben</td>\n",
       "      <td>Paramount Room</td>\n",
       "      <td>https://www.chicagomag.com/Chicago-Magazine/No...</td>\n",
       "      <td>$13</td>\n",
       "      <td>415 N. Milwaukee Ave.,</td>\n",
       "    </tr>\n",
       "    <tr>\n",
       "      <th>33</th>\n",
       "      <td>34</td>\n",
       "      <td>The Istanbul</td>\n",
       "      <td>Melt Sandwich Shoppe</td>\n",
       "      <td>https://www.chicagomag.com/Chicago-Magazine/No...</td>\n",
       "      <td>$7.95</td>\n",
       "      <td>1840 N. Damen Ave.,</td>\n",
       "    </tr>\n",
       "    <tr>\n",
       "      <th>34</th>\n",
       "      <td>35</td>\n",
       "      <td>B.A.D.</td>\n",
       "      <td>Floriole Cafe &amp; Bakery</td>\n",
       "      <td>https://www.chicagomag.com/Chicago-Magazine/No...</td>\n",
       "      <td>$9</td>\n",
       "      <td>1220 W. Webster Ave.,</td>\n",
       "    </tr>\n",
       "    <tr>\n",
       "      <th>35</th>\n",
       "      <td>36</td>\n",
       "      <td>Duck Confit and Mozzarella</td>\n",
       "      <td>First Slice Pie Café</td>\n",
       "      <td>https://www.chicagomag.com/Chicago-Magazine/No...</td>\n",
       "      <td>$9</td>\n",
       "      <td>5357 N. Ashland Ave.,</td>\n",
       "    </tr>\n",
       "    <tr>\n",
       "      <th>36</th>\n",
       "      <td>37</td>\n",
       "      <td>Croque Monsieur</td>\n",
       "      <td>Troquet</td>\n",
       "      <td>https://www.chicagomag.com/Chicago-Magazine/No...</td>\n",
       "      <td>$8</td>\n",
       "      <td>1834 W. Montrose Ave.,</td>\n",
       "    </tr>\n",
       "    <tr>\n",
       "      <th>37</th>\n",
       "      <td>38</td>\n",
       "      <td>Green Garbanzo</td>\n",
       "      <td>Grahamwich</td>\n",
       "      <td>https://www.chicagomag.com/Chicago-Magazine/No...</td>\n",
       "      <td>$8</td>\n",
       "      <td>615 N. State St.,</td>\n",
       "    </tr>\n",
       "    <tr>\n",
       "      <th>38</th>\n",
       "      <td>39</td>\n",
       "      <td>The Hen House</td>\n",
       "      <td>Saigon Sisters</td>\n",
       "      <td>https://www.chicagomag.com/Chicago-Magazine/No...</td>\n",
       "      <td>$7</td>\n",
       "      <td>Multiple</td>\n",
       "    </tr>\n",
       "    <tr>\n",
       "      <th>39</th>\n",
       "      <td>40</td>\n",
       "      <td>Tuscan Chicken</td>\n",
       "      <td>Rosalia’s Deli</td>\n",
       "      <td>https://www.chicagomag.com/Chicago-Magazine/No...</td>\n",
       "      <td>$6</td>\n",
       "      <td>241 N. York Rd., Elmhurst,</td>\n",
       "    </tr>\n",
       "    <tr>\n",
       "      <th>40</th>\n",
       "      <td>41</td>\n",
       "      <td>The Marty</td>\n",
       "      <td>Z&amp;H MarketCafe</td>\n",
       "      <td>https://www.chicagomag.com/Chicago-Magazine/No...</td>\n",
       "      <td>$7.25</td>\n",
       "      <td>1323 E. 57th St.,</td>\n",
       "    </tr>\n",
       "    <tr>\n",
       "      <th>41</th>\n",
       "      <td>42</td>\n",
       "      <td>Whitefish</td>\n",
       "      <td>Market House on the Square</td>\n",
       "      <td>https://www.chicagomag.com/Chicago-Magazine/No...</td>\n",
       "      <td>$11</td>\n",
       "      <td>655 Forest Ave., Lake Forest,</td>\n",
       "    </tr>\n",
       "    <tr>\n",
       "      <th>42</th>\n",
       "      <td>43</td>\n",
       "      <td>Oat Bread, Pecan Butter, and Fruit Jam</td>\n",
       "      <td>Elaine’s Coffee Call</td>\n",
       "      <td>https://www.chicagomag.com/Chicago-Magazine/No...</td>\n",
       "      <td>$6</td>\n",
       "      <td>Hotel Lincoln, 1816 N. Clark St.,</td>\n",
       "    </tr>\n",
       "    <tr>\n",
       "      <th>43</th>\n",
       "      <td>44</td>\n",
       "      <td>Cauliflower Melt</td>\n",
       "      <td>Marion Street Cheese Market</td>\n",
       "      <td>https://www.chicagomag.com/Chicago-Magazine/No...</td>\n",
       "      <td>$9</td>\n",
       "      <td>100 S. Marion St., Oak Park,</td>\n",
       "    </tr>\n",
       "    <tr>\n",
       "      <th>44</th>\n",
       "      <td>45</td>\n",
       "      <td>Cubana</td>\n",
       "      <td>Cafecito</td>\n",
       "      <td>https://www.chicagomag.com/Chicago-Magazine/No...</td>\n",
       "      <td>$5.49</td>\n",
       "      <td>26 E. Congress Pkwy.,</td>\n",
       "    </tr>\n",
       "    <tr>\n",
       "      <th>45</th>\n",
       "      <td>46</td>\n",
       "      <td>Kufta</td>\n",
       "      <td>Chickpea</td>\n",
       "      <td>https://www.chicagomag.com/Chicago-Magazine/No...</td>\n",
       "      <td>$8</td>\n",
       "      <td>2018 W. Chicago Ave.,</td>\n",
       "    </tr>\n",
       "    <tr>\n",
       "      <th>46</th>\n",
       "      <td>47</td>\n",
       "      <td>Debbie’s Egg Salad</td>\n",
       "      <td>The Goddess and Grocer</td>\n",
       "      <td>https://www.chicagomag.com/Chicago-Magazine/No...</td>\n",
       "      <td>$6.50</td>\n",
       "      <td>25 E. Delaware Pl.,</td>\n",
       "    </tr>\n",
       "    <tr>\n",
       "      <th>47</th>\n",
       "      <td>48</td>\n",
       "      <td>Beef Curry</td>\n",
       "      <td>Zenwich</td>\n",
       "      <td>https://www.chicagomag.com/Chicago-Magazine/No...</td>\n",
       "      <td>$7.50</td>\n",
       "      <td>416 N. York St., Elmhurst,</td>\n",
       "    </tr>\n",
       "    <tr>\n",
       "      <th>48</th>\n",
       "      <td>49</td>\n",
       "      <td>Le Végétarien</td>\n",
       "      <td>Toni Patisserie</td>\n",
       "      <td>https://www.chicagomag.com/Chicago-Magazine/No...</td>\n",
       "      <td>$8.75</td>\n",
       "      <td>65 E. Washington St.,</td>\n",
       "    </tr>\n",
       "    <tr>\n",
       "      <th>49</th>\n",
       "      <td>50</td>\n",
       "      <td>The Gatsby</td>\n",
       "      <td>Phoebe’s Bakery</td>\n",
       "      <td>https://www.chicagomag.com/Chicago-Magazine/No...</td>\n",
       "      <td>$6.85</td>\n",
       "      <td>3351 N. Broadway,</td>\n",
       "    </tr>\n",
       "  </tbody>\n",
       "</table>\n",
       "</div>"
      ],
      "text/plain": [
       "    Rank                                            Menu   \n",
       "0      1                                             BLT  \\\n",
       "1      2                                   Fried Bologna   \n",
       "2      3                               Woodland Mushroom   \n",
       "3      4                                      Roast Beef   \n",
       "4      5                                            PB&L   \n",
       "5      6                     Belgian Chicken Curry Salad   \n",
       "6      7                                    Lobster Roll   \n",
       "7      8                             Smoked Salmon Salad   \n",
       "8      9                                 Atomica Cemitas   \n",
       "9     10  Grilled Laughing Bird Shrimp and Fried Po’ Boy   \n",
       "10    11                         Ham and Raclette Panino   \n",
       "11    12                                   Breaded Steak   \n",
       "12    13                                     The Hawkeye   \n",
       "13    14                                     Chicken Dip   \n",
       "14    15                            Wild Boar Sloppy Joe   \n",
       "15    16                                    Meatball Sub   \n",
       "16    17                                     Corned Beef   \n",
       "17    18                                     Turkey Club   \n",
       "18    19                                         Falafel   \n",
       "19    20                                       Crab Cake   \n",
       "20    21                               Chicken Schnitzel   \n",
       "21    22                                        Shawarma   \n",
       "22    23                         Toasted Pimiento Cheese   \n",
       "23    24                               Vegetarian Panino   \n",
       "24    25                                     Cali Chèvre   \n",
       "25    26                                        Pastrami   \n",
       "26    27                                       The Fredo   \n",
       "27    28                                      Smoked Ham   \n",
       "28    29                                        Jibarito   \n",
       "29    30                                Shaved Prime Rib   \n",
       "30    31                 Serrano Ham and Manchego Cheese   \n",
       "31    32                                      Tuna Salad   \n",
       "32    33                                Paramount Reuben   \n",
       "33    34                                    The Istanbul   \n",
       "34    35                                          B.A.D.   \n",
       "35    36                      Duck Confit and Mozzarella   \n",
       "36    37                                 Croque Monsieur   \n",
       "37    38                                  Green Garbanzo   \n",
       "38    39                                   The Hen House   \n",
       "39    40                                  Tuscan Chicken   \n",
       "40    41                                      The Marty    \n",
       "41    42                                       Whitefish   \n",
       "42    43          Oat Bread, Pecan Butter, and Fruit Jam   \n",
       "43    44                                Cauliflower Melt   \n",
       "44    45                                          Cubana   \n",
       "45    46                                           Kufta   \n",
       "46    47                              Debbie’s Egg Salad   \n",
       "47    48                                      Beef Curry   \n",
       "48    49                                   Le Végétarien   \n",
       "49    50                                      The Gatsby   \n",
       "\n",
       "                               Cafe   \n",
       "0                       Old Oak Tap  \\\n",
       "1                         Au Cheval   \n",
       "2                              Xoco   \n",
       "3                         Al’s Deli   \n",
       "4            Publican Quality Meats   \n",
       "5   Hendrickx Belgian Bread Crafter   \n",
       "6                            Acadia   \n",
       "7                 Birchwood Kitchen   \n",
       "8                    Cemitas Puebla   \n",
       "9                              Nana   \n",
       "10                        Lula Cafe   \n",
       "11                       Ricobene’s   \n",
       "12                     Frog n Snail   \n",
       "13                 Crosby’s Kitchen   \n",
       "14                  Longman & Eagle   \n",
       "15                             Bari   \n",
       "16                          Manny’s   \n",
       "17                           Eggy’s   \n",
       "18                    Old Jerusalem   \n",
       "19             Mindy’s HotChocolate   \n",
       "20              Olga’s Delicatessen   \n",
       "21     Dawali Mediterranean Kitchen   \n",
       "22                        Big Jones   \n",
       "23                          La Pane   \n",
       "24                         Pastoral   \n",
       "25                       Max’s Deli   \n",
       "26             Lucky’s Sandwich Co.   \n",
       "27                  City Provisions   \n",
       "28             Papa’s Cache Sabroso   \n",
       "29            Bavette’s Bar & Boeuf   \n",
       "30                 Hannah’s Bretzel   \n",
       "31                     La Fournette   \n",
       "32                   Paramount Room   \n",
       "33             Melt Sandwich Shoppe   \n",
       "34           Floriole Cafe & Bakery   \n",
       "35             First Slice Pie Café   \n",
       "36                          Troquet   \n",
       "37                       Grahamwich   \n",
       "38                   Saigon Sisters   \n",
       "39                   Rosalia’s Deli   \n",
       "40                   Z&H MarketCafe   \n",
       "41       Market House on the Square   \n",
       "42             Elaine’s Coffee Call   \n",
       "43      Marion Street Cheese Market   \n",
       "44                         Cafecito   \n",
       "45                         Chickpea   \n",
       "46           The Goddess and Grocer   \n",
       "47                          Zenwich   \n",
       "48                  Toni Patisserie   \n",
       "49                  Phoebe’s Bakery   \n",
       "\n",
       "                                                  URL   Price   \n",
       "0   https://www.chicagomag.com/Chicago-Magazine/No...     $10  \\\n",
       "1   https://www.chicagomag.com/Chicago-Magazine/No...      $9   \n",
       "2   https://www.chicagomag.com/Chicago-Magazine/No...   $9.50   \n",
       "3   https://www.chicagomag.com/Chicago-Magazine/No...   $9.40   \n",
       "4   https://www.chicagomag.com/Chicago-Magazine/No...     $10   \n",
       "5   https://www.chicagomag.com/Chicago-Magazine/No...   $7.25   \n",
       "6   https://www.chicagomag.com/Chicago-Magazine/No...     $16   \n",
       "7   https://www.chicagomag.com/Chicago-Magazine/No...     $10   \n",
       "8   https://www.chicagomag.com/Chicago-Magazine/No...      $9   \n",
       "9   https://www.chicagomag.com/Chicago-Magazine/No...     $17   \n",
       "10  https://www.chicagomag.com/Chicago-Magazine/No...     $11   \n",
       "11  https://www.chicagomag.com/Chicago-Magazine/No...   $5.49   \n",
       "12  https://www.chicagomag.com/Chicago-Magazine/No...     $14   \n",
       "13  https://www.chicagomag.com/Chicago-Magazine/No...     $10   \n",
       "14  https://www.chicagomag.com/Chicago-Magazine/No...     $13   \n",
       "15  https://www.chicagomag.com/Chicago-Magazine/No...   $4.50   \n",
       "16  https://www.chicagomag.com/Chicago-Magazine/No...  $11.95   \n",
       "17  https://www.chicagomag.com/Chicago-Magazine/No...  $11.50   \n",
       "18  https://www.chicagomag.com/Chicago-Magazine/No...   $6.25   \n",
       "19  https://www.chicagomag.com/Chicago-Magazine/No...     $15   \n",
       "20  https://www.chicagomag.com/Chicago-Magazine/No...      $5   \n",
       "21  https://www.chicagomag.com/Chicago-Magazine/No...      $6   \n",
       "22  https://www.chicagomag.com/Chicago-Magazine/No...      $8   \n",
       "23  https://www.chicagomag.com/Chicago-Magazine/No...   $5.99   \n",
       "24  https://www.chicagomag.com/Chicago-Magazine/No...   $7.52   \n",
       "25  https://www.chicagomag.com/Chicago-Magazine/No...  $11.95   \n",
       "26  https://www.chicagomag.com/Chicago-Magazine/No...   $7.50   \n",
       "27  https://www.chicagomag.com/Chicago-Magazine/No...  $12.95   \n",
       "28  https://www.chicagomag.com/Chicago-Magazine/No...      $7   \n",
       "29  https://www.chicagomag.com/Chicago-Magazine/No...     $21   \n",
       "30  https://www.chicagomag.com/Chicago-Magazine/No...   $9.79   \n",
       "31  https://www.chicagomag.com/Chicago-Magazine/No...   $9.75   \n",
       "32  https://www.chicagomag.com/Chicago-Magazine/No...     $13   \n",
       "33  https://www.chicagomag.com/Chicago-Magazine/No...   $7.95   \n",
       "34  https://www.chicagomag.com/Chicago-Magazine/No...      $9   \n",
       "35  https://www.chicagomag.com/Chicago-Magazine/No...      $9   \n",
       "36  https://www.chicagomag.com/Chicago-Magazine/No...      $8   \n",
       "37  https://www.chicagomag.com/Chicago-Magazine/No...      $8   \n",
       "38  https://www.chicagomag.com/Chicago-Magazine/No...      $7   \n",
       "39  https://www.chicagomag.com/Chicago-Magazine/No...      $6   \n",
       "40  https://www.chicagomag.com/Chicago-Magazine/No...   $7.25   \n",
       "41  https://www.chicagomag.com/Chicago-Magazine/No...     $11   \n",
       "42  https://www.chicagomag.com/Chicago-Magazine/No...      $6   \n",
       "43  https://www.chicagomag.com/Chicago-Magazine/No...      $9   \n",
       "44  https://www.chicagomag.com/Chicago-Magazine/No...   $5.49   \n",
       "45  https://www.chicagomag.com/Chicago-Magazine/No...      $8   \n",
       "46  https://www.chicagomag.com/Chicago-Magazine/No...   $6.50   \n",
       "47  https://www.chicagomag.com/Chicago-Magazine/No...   $7.50   \n",
       "48  https://www.chicagomag.com/Chicago-Magazine/No...   $8.75   \n",
       "49  https://www.chicagomag.com/Chicago-Magazine/No...   $6.85   \n",
       "\n",
       "                                  Address  \n",
       "0                   2109 W. Chicago Ave.,  \n",
       "1                    800 W. Randolph St.,  \n",
       "2                       445 N. Clark St.,  \n",
       "3                914 Noyes St., Evanston,  \n",
       "4                     825 W. Fulton Mkt.,  \n",
       "5                           100 E. Walton  \n",
       "6                    1639 S. Wabash Ave.,  \n",
       "7                     2211 W. North Ave.,  \n",
       "8                     3619 W. North Ave.,  \n",
       "9                    3267 S. Halsted St.,  \n",
       "10                  2537 N. Kedzie Blvd.,  \n",
       "11                               Multiple  \n",
       "12                      3124 N. Broadway,  \n",
       "13                3455 N. Southport Ave.,  \n",
       "14                   2657 N. Kedzie Ave.,  \n",
       "15                    1120 W. Grand Ave.,  \n",
       "16                 1141 S. Jefferson St.,  \n",
       "17                     333 E. Benton Pl.,  \n",
       "18                     1411 N. Wells St.,  \n",
       "19                    1747 N. Damen Ave.,  \n",
       "20                    3209 W. Irving Park  \n",
       "21                               Multiple  \n",
       "22                     5347 N. Clark St.,  \n",
       "23               2954 W. Irving Park Rd.,  \n",
       "24                               Multiple  \n",
       "25  191 Skokie Valley Rd., Highland Park,  \n",
       "26                               Multiple  \n",
       "27                   1818 W. Wilson Ave.,  \n",
       "28                  2517 W. Division St.,  \n",
       "29                          218 W. Kinzie  \n",
       "30                               Multiple  \n",
       "31                     1547 N. Wells St.,  \n",
       "32                 415 N. Milwaukee Ave.,  \n",
       "33                    1840 N. Damen Ave.,  \n",
       "34                  1220 W. Webster Ave.,  \n",
       "35                  5357 N. Ashland Ave.,  \n",
       "36                 1834 W. Montrose Ave.,  \n",
       "37                      615 N. State St.,  \n",
       "38                               Multiple  \n",
       "39             241 N. York Rd., Elmhurst,  \n",
       "40                      1323 E. 57th St.,  \n",
       "41          655 Forest Ave., Lake Forest,  \n",
       "42      Hotel Lincoln, 1816 N. Clark St.,  \n",
       "43           100 S. Marion St., Oak Park,  \n",
       "44                  26 E. Congress Pkwy.,  \n",
       "45                  2018 W. Chicago Ave.,  \n",
       "46                    25 E. Delaware Pl.,  \n",
       "47             416 N. York St., Elmhurst,  \n",
       "48                  65 E. Washington St.,  \n",
       "49                      3351 N. Broadway,  "
      ]
     },
     "execution_count": 119,
     "metadata": {},
     "output_type": "execute_result"
    }
   ],
   "source": [
    "df['Price'] = price\n",
    "df['Address'] = address\n",
    "\n",
    "df"
   ]
  },
  {
   "cell_type": "code",
   "execution_count": 120,
   "metadata": {},
   "outputs": [],
   "source": [
    "df = pd.DataFrame(data=df, columns=['Rank','Cafe','Menu','Price','Address'])\n",
    "df.set_index('Rank',inplace=True)"
   ]
  },
  {
   "cell_type": "code",
   "execution_count": 122,
   "metadata": {},
   "outputs": [
    {
     "data": {
      "text/html": [
       "<div>\n",
       "<style scoped>\n",
       "    .dataframe tbody tr th:only-of-type {\n",
       "        vertical-align: middle;\n",
       "    }\n",
       "\n",
       "    .dataframe tbody tr th {\n",
       "        vertical-align: top;\n",
       "    }\n",
       "\n",
       "    .dataframe thead th {\n",
       "        text-align: right;\n",
       "    }\n",
       "</style>\n",
       "<table border=\"1\" class=\"dataframe\">\n",
       "  <thead>\n",
       "    <tr style=\"text-align: right;\">\n",
       "      <th></th>\n",
       "      <th>Cafe</th>\n",
       "      <th>Menu</th>\n",
       "      <th>Price</th>\n",
       "      <th>Address</th>\n",
       "    </tr>\n",
       "    <tr>\n",
       "      <th>Rank</th>\n",
       "      <th></th>\n",
       "      <th></th>\n",
       "      <th></th>\n",
       "      <th></th>\n",
       "    </tr>\n",
       "  </thead>\n",
       "  <tbody>\n",
       "    <tr>\n",
       "      <th>1</th>\n",
       "      <td>Old Oak Tap</td>\n",
       "      <td>BLT</td>\n",
       "      <td>$10</td>\n",
       "      <td>2109 W. Chicago Ave.,</td>\n",
       "    </tr>\n",
       "    <tr>\n",
       "      <th>2</th>\n",
       "      <td>Au Cheval</td>\n",
       "      <td>Fried Bologna</td>\n",
       "      <td>$9</td>\n",
       "      <td>800 W. Randolph St.,</td>\n",
       "    </tr>\n",
       "    <tr>\n",
       "      <th>3</th>\n",
       "      <td>Xoco</td>\n",
       "      <td>Woodland Mushroom</td>\n",
       "      <td>$9.50</td>\n",
       "      <td>445 N. Clark St.,</td>\n",
       "    </tr>\n",
       "    <tr>\n",
       "      <th>4</th>\n",
       "      <td>Al’s Deli</td>\n",
       "      <td>Roast Beef</td>\n",
       "      <td>$9.40</td>\n",
       "      <td>914 Noyes St., Evanston,</td>\n",
       "    </tr>\n",
       "    <tr>\n",
       "      <th>5</th>\n",
       "      <td>Publican Quality Meats</td>\n",
       "      <td>PB&amp;L</td>\n",
       "      <td>$10</td>\n",
       "      <td>825 W. Fulton Mkt.,</td>\n",
       "    </tr>\n",
       "  </tbody>\n",
       "</table>\n",
       "</div>"
      ],
      "text/plain": [
       "                        Cafe               Menu  Price   \n",
       "Rank                                                     \n",
       "1                Old Oak Tap                BLT    $10  \\\n",
       "2                  Au Cheval      Fried Bologna     $9   \n",
       "3                       Xoco  Woodland Mushroom  $9.50   \n",
       "4                  Al’s Deli         Roast Beef  $9.40   \n",
       "5     Publican Quality Meats               PB&L    $10   \n",
       "\n",
       "                       Address  \n",
       "Rank                            \n",
       "1        2109 W. Chicago Ave.,  \n",
       "2         800 W. Randolph St.,  \n",
       "3            445 N. Clark St.,  \n",
       "4     914 Noyes St., Evanston,  \n",
       "5          825 W. Fulton Mkt.,  "
      ]
     },
     "execution_count": 122,
     "metadata": {},
     "output_type": "execute_result"
    }
   ],
   "source": [
    "df.head()"
   ]
  },
  {
   "cell_type": "code",
   "execution_count": 123,
   "metadata": {},
   "outputs": [],
   "source": [
    "df.to_csv('../data/03. best_sandwiches_list_chicago2.csv',sep=',',encoding='UTF-8')"
   ]
  },
  {
   "cell_type": "code",
   "execution_count": null,
   "metadata": {},
   "outputs": [],
   "source": []
  }
 ],
 "metadata": {
  "kernelspec": {
   "display_name": "pandas-dev",
   "language": "python",
   "name": "python3"
  },
  "language_info": {
   "codemirror_mode": {
    "name": "ipython",
    "version": 3
   },
   "file_extension": ".py",
   "mimetype": "text/x-python",
   "name": "python",
   "nbconvert_exporter": "python",
   "pygments_lexer": "ipython3",
   "version": "3.10.11"
  },
  "orig_nbformat": 4
 },
 "nbformat": 4,
 "nbformat_minor": 2
}
